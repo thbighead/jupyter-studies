{
 "cells": [
  {
   "cell_type": "markdown",
   "metadata": {},
   "source": [
    "# Inteligência Artificial Forte x Fraca\n",
    "\n",
    "Uma IA pode ser classificada como **forte** ou **fraca** de acordo com certas características quando comparadas com a inteligência humana segundo John Searle:\n",
    "\n",
    "## IA Forte\n",
    "\n",
    "São inteligências ainda muito discutidas como utópicas e que ainda geram muitas discussões filosóficas e filmes de ficção científica. Esta IA, teoricamente, seria capaz de imitar um ser humano em sua totalidade (ou quase isso) podendo sentir, se expressar e até se rebelar.\n",
    "\n",
    "## IA Fraca\n",
    "\n",
    "São aplicações que simulam algumas das características humanas e resolvem problemas específicos. Este tipo de IA já é uma realidade e vem evoluindo cada vez mais sua aplicação, como carros autônomos, reconhecimento de textos manuscritos, etc.\n",
    "\n",
    "# Testes de Inteligência Computacional\n",
    "\n",
    "Testes clássicos propostos na história da computação para estudos de inteligência artificial.\n",
    "\n",
    "## Teste de Turing\n",
    "\n",
    "Serve para testar se um computador **é de fato inteligente ou não**. Esse teste não *mede* a inteligência do mesmo.\n",
    "\n",
    "O teste é feito com 3 agentes: 1 *computador* e 2 humanos, sendo um dos humanos o juiz. Os três agentes ficam isolados uns dos outros e o humano juiz começa a interagir com o computador e o outro humano um de cada vez. Se o juiz não conseguir distinguir com quem ele está interagindo, o computador é considerado *inteligente*.\n",
    "\n",
    "## Quarto Chinês\n",
    "\n",
    "Trata-se de uma experiência proposta por John Searle, onde em um quarto há uma pessoa que recebe mensagens de fora através de um papel passado por uma fresta. A pessoa no quarto tem com ela uma biblioteca e pode consultar o que fazer com as mensagens recebidas para responder apropriadamente. Uma vez elaborada a resposta, ela devolve uma mensagem num papel pela mesma fresta de onde recebeu a externa.\n",
    "\n",
    "Digamos então que as mensagens enviadas para dentro do quarto estão em chinês. E que as mensagens de resposta que saem de dentro dele também assim estejam. Para todos os agentes de fora pode parecer que quem está lá dentro sabe o idioma, mas na verdade a pessoa dentro do quarto só está seguindo instruções de sua biblioteca.\n",
    "\n",
    "Essa pessoa de dentro do quarto pode então ser comparada a um computador, que é capaz de seguir regras muito bem, porém nunca de fato saberá chinês."
   ]
  },
  {
   "cell_type": "code",
   "execution_count": null,
   "metadata": {},
   "outputs": [],
   "source": []
  }
 ],
 "metadata": {
  "kernelspec": {
   "display_name": "R",
   "language": "R",
   "name": "ir"
  },
  "language_info": {
   "codemirror_mode": "r",
   "file_extension": ".r",
   "mimetype": "text/x-r-source",
   "name": "R",
   "pygments_lexer": "r",
   "version": "3.2.3"
  }
 },
 "nbformat": 4,
 "nbformat_minor": 2
}
