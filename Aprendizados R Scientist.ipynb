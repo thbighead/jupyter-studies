{
 "cells": [
  {
   "cell_type": "markdown",
   "metadata": {},
   "source": [
    "# R"
   ]
  },
  {
   "cell_type": "code",
   "execution_count": 4,
   "metadata": {},
   "outputs": [
    {
     "data": {
      "text/html": [
       "<ol class=list-inline>\n",
       "\t<li>5</li>\n",
       "\t<li>6</li>\n",
       "\t<li>7</li>\n",
       "\t<li>8</li>\n",
       "\t<li>9</li>\n",
       "\t<li>10</li>\n",
       "</ol>\n"
      ],
      "text/latex": [
       "\\begin{enumerate*}\n",
       "\\item 5\n",
       "\\item 6\n",
       "\\item 7\n",
       "\\item 8\n",
       "\\item 9\n",
       "\\item 10\n",
       "\\end{enumerate*}\n"
      ],
      "text/markdown": [
       "1. 5\n",
       "2. 6\n",
       "3. 7\n",
       "4. 8\n",
       "5. 9\n",
       "6. 10\n",
       "\n",
       "\n"
      ],
      "text/plain": [
       "[1]  5  6  7  8  9 10"
      ]
     },
     "metadata": {},
     "output_type": "display_data"
    }
   ],
   "source": [
    "# vector incluem seus extremos!\n",
    "myfirstobject = 5:10;\n",
    "myfirstobject;"
   ]
  },
  {
   "cell_type": "code",
   "execution_count": 5,
   "metadata": {},
   "outputs": [
    {
     "data": {
      "text/html": [
       "5"
      ],
      "text/latex": [
       "5"
      ],
      "text/markdown": [
       "5"
      ],
      "text/plain": [
       "[1] 5"
      ]
     },
     "metadata": {},
     "output_type": "display_data"
    }
   ],
   "source": [
    "# a indexação é iniciada em 1\n",
    "myfirstobject[1];"
   ]
  },
  {
   "cell_type": "code",
   "execution_count": 6,
   "metadata": {},
   "outputs": [
    {
     "data": {
      "image/png": "[encoded data removed]",
      "text/plain": [
       "plot without title"
      ]
     },
     "metadata": {},
     "output_type": "display_data"
    }
   ],
   "source": [
    "plot(myfirstobject)"
   ]
  },
  {
   "cell_type": "code",
   "execution_count": 7,
   "metadata": {},
   "outputs": [],
   "source": [
    "# podemos configurar o seed para criar pseudo-aleatórios\n",
    "set.seed(65)"
   ]
  },
  {
   "cell_type": "code",
   "execution_count": 8,
   "metadata": {
    "scrolled": false
   },
   "outputs": [
    {
     "data": {
      "text/html": [
       "<ol class=list-inline>\n",
       "\t<li>3.34706475678831</li>\n",
       "\t<li>5.06408995902166</li>\n",
       "\t<li>3.51189851481467</li>\n",
       "\t<li>3.12805012660101</li>\n",
       "\t<li>4.82921416754834</li>\n",
       "\t<li>3.80121878650971</li>\n",
       "\t<li>3.22271162085235</li>\n",
       "\t<li>4.56835826975293</li>\n",
       "\t<li>5.38308730744757</li>\n",
       "</ol>\n"
      ],
      "text/latex": [
       "\\begin{enumerate*}\n",
       "\\item 3.34706475678831\n",
       "\\item 5.06408995902166\n",
       "\\item 3.51189851481467\n",
       "\\item 3.12805012660101\n",
       "\\item 4.82921416754834\n",
       "\\item 3.80121878650971\n",
       "\\item 3.22271162085235\n",
       "\\item 4.56835826975293\n",
       "\\item 5.38308730744757\n",
       "\\end{enumerate*}\n"
      ],
      "text/markdown": [
       "1. 3.34706475678831\n",
       "2. 5.06408995902166\n",
       "3. 3.51189851481467\n",
       "4. 3.12805012660101\n",
       "5. 4.82921416754834\n",
       "6. 3.80121878650971\n",
       "7. 3.22271162085235\n",
       "8. 4.56835826975293\n",
       "9. 5.38308730744757\n",
       "\n",
       "\n"
      ],
      "text/plain": [
       "[1] 3.347065 5.064090 3.511899 3.128050 4.829214 3.801219 3.222712 4.568358\n",
       "[9] 5.383087"
      ]
     },
     "metadata": {},
     "output_type": "display_data"
    }
   ],
   "source": [
    "# gerando um vector de tamanho 9 com números aleatórios entre 3 e 6 (inclusos)\n",
    "runif(n = 9, min = 3, max = 6)"
   ]
  },
  {
   "cell_type": "code",
   "execution_count": null,
   "metadata": {},
   "outputs": [],
   "source": [
    "# apertando TAB dentro dos parêntesis podemos ver a lista de parâmetro (em ordem) que a função runif recebe.\n",
    "runif()"
   ]
  },
  {
   "cell_type": "code",
   "execution_count": 9,
   "metadata": {},
   "outputs": [
    {
     "data": {
      "text/html": [
       "<ol class=list-inline>\n",
       "\t<li>5.59753666282631</li>\n",
       "\t<li>5.68141411500983</li>\n",
       "\t<li>3.53596629481763</li>\n",
       "\t<li>4.03997646435164</li>\n",
       "\t<li>5.80893417494372</li>\n",
       "\t<li>3.31782526010647</li>\n",
       "\t<li>4.01170127978548</li>\n",
       "\t<li>3.77147698402405</li>\n",
       "\t<li>3.62936529284343</li>\n",
       "</ol>\n"
      ],
      "text/latex": [
       "\\begin{enumerate*}\n",
       "\\item 5.59753666282631\n",
       "\\item 5.68141411500983\n",
       "\\item 3.53596629481763\n",
       "\\item 4.03997646435164\n",
       "\\item 5.80893417494372\n",
       "\\item 3.31782526010647\n",
       "\\item 4.01170127978548\n",
       "\\item 3.77147698402405\n",
       "\\item 3.62936529284343\n",
       "\\end{enumerate*}\n"
      ],
      "text/markdown": [
       "1. 5.59753666282631\n",
       "2. 5.68141411500983\n",
       "3. 3.53596629481763\n",
       "4. 4.03997646435164\n",
       "5. 5.80893417494372\n",
       "6. 3.31782526010647\n",
       "7. 4.01170127978548\n",
       "8. 3.77147698402405\n",
       "9. 3.62936529284343\n",
       "\n",
       "\n"
      ],
      "text/plain": [
       "[1] 5.597537 5.681414 3.535966 4.039976 5.808934 3.317825 4.011701 3.771477\n",
       "[9] 3.629365"
      ]
     },
     "metadata": {},
     "output_type": "display_data"
    }
   ],
   "source": [
    "# podemos então chamar ela do mesmo jeito que anteriormente sem nomearos parâmetros\n",
    "runif(9, 3, 6)"
   ]
  },
  {
   "cell_type": "code",
   "execution_count": 10,
   "metadata": {},
   "outputs": [
    {
     "data": {
      "text/html": [
       "<ol class=list-inline>\n",
       "\t<li>0.120852745370939</li>\n",
       "\t<li>0.530584629159421</li>\n",
       "\t<li>0.640744558069855</li>\n",
       "</ol>\n"
      ],
      "text/latex": [
       "\\begin{enumerate*}\n",
       "\\item 0.120852745370939\n",
       "\\item 0.530584629159421\n",
       "\\item 0.640744558069855\n",
       "\\end{enumerate*}\n"
      ],
      "text/markdown": [
       "1. 0.120852745370939\n",
       "2. 0.530584629159421\n",
       "3. 0.640744558069855\n",
       "\n",
       "\n"
      ],
      "text/plain": [
       "[1] 0.1208527 0.5305846 0.6407446"
      ]
     },
     "metadata": {},
     "output_type": "display_data"
    }
   ],
   "source": [
    "# o único parâmetro obrigatório dessa função é o 'n', então podemos chamá-la assim:\n",
    "runif(3)\n",
    "# o resultado será um vector de 3 elementos com valores de 0 à 1 (inclusos)"
   ]
  },
  {
   "cell_type": "code",
   "execution_count": 12,
   "metadata": {},
   "outputs": [
    {
     "data": {
      "text/html": [
       "<ol class=list-inline>\n",
       "\t<li>2.65570525452495</li>\n",
       "\t<li>0.284005593508482</li>\n",
       "\t<li>0.129734326153994</li>\n",
       "</ol>\n"
      ],
      "text/latex": [
       "\\begin{enumerate*}\n",
       "\\item 2.65570525452495\n",
       "\\item 0.284005593508482\n",
       "\\item 0.129734326153994\n",
       "\\end{enumerate*}\n"
      ],
      "text/markdown": [
       "1. 2.65570525452495\n",
       "2. 0.284005593508482\n",
       "3. 0.129734326153994\n",
       "\n",
       "\n"
      ],
      "text/plain": [
       "[1] 2.6557053 0.2840056 0.1297343"
      ]
     },
     "metadata": {},
     "output_type": "display_data"
    }
   ],
   "source": [
    "# para pular parâmetros não-nomeados, podemos usar do seguinte artifício:\n",
    "runif(3,,4)\n",
    "# gerando um vector de 3 números entre 0 e 4 (inclusos)"
   ]
  },
  {
   "cell_type": "code",
   "execution_count": 13,
   "metadata": {},
   "outputs": [
    {
     "data": {
      "text/html": [
       "8"
      ],
      "text/latex": [
       "8"
      ],
      "text/markdown": [
       "8"
      ],
      "text/plain": [
       "[1] 8"
      ]
     },
     "metadata": {},
     "output_type": "display_data"
    }
   ],
   "source": [
    "# a potenciação no R é feita com o sinal ^\n",
    "(5-3)^3"
   ]
  },
  {
   "cell_type": "markdown",
   "metadata": {},
   "source": [
    "## Atribuição\n",
    "\n",
    "Em R podemos associar objetos de 3 formas diferentes"
   ]
  },
  {
   "cell_type": "code",
   "execution_count": 14,
   "metadata": {},
   "outputs": [
    {
     "data": {
      "text/html": [
       "<ol class=list-inline>\n",
       "\t<li>4</li>\n",
       "\t<li>5</li>\n",
       "\t<li>6</li>\n",
       "</ol>\n"
      ],
      "text/latex": [
       "\\begin{enumerate*}\n",
       "\\item 4\n",
       "\\item 5\n",
       "\\item 6\n",
       "\\end{enumerate*}\n"
      ],
      "text/markdown": [
       "1. 4\n",
       "2. 5\n",
       "3. 6\n",
       "\n",
       "\n"
      ],
      "text/plain": [
       "[1] 4 5 6"
      ]
     },
     "metadata": {},
     "output_type": "display_data"
    }
   ],
   "source": [
    "# com setas (que funcionam em ambas as direções)\n",
    "x <- c(4,5,6)\n",
    "x"
   ]
  },
  {
   "cell_type": "code",
   "execution_count": 16,
   "metadata": {},
   "outputs": [
    {
     "data": {
      "text/html": [
       "<ol class=list-inline>\n",
       "\t<li>1</li>\n",
       "\t<li>2.5</li>\n",
       "\t<li>3</li>\n",
       "</ol>\n"
      ],
      "text/latex": [
       "\\begin{enumerate*}\n",
       "\\item 1\n",
       "\\item 2.5\n",
       "\\item 3\n",
       "\\end{enumerate*}\n"
      ],
      "text/markdown": [
       "1. 1\n",
       "2. 2.5\n",
       "3. 3\n",
       "\n",
       "\n"
      ],
      "text/plain": [
       "[1] 1.0 2.5 3.0"
      ]
     },
     "metadata": {},
     "output_type": "display_data"
    }
   ],
   "source": [
    "c(1,2.5,3) -> y\n",
    "y"
   ]
  },
  {
   "cell_type": "code",
   "execution_count": 17,
   "metadata": {
    "scrolled": true
   },
   "outputs": [
    {
     "data": {
      "text/html": [
       "<ol class=list-inline>\n",
       "\t<li>1</li>\n",
       "\t<li>2</li>\n",
       "\t<li>3</li>\n",
       "</ol>\n"
      ],
      "text/latex": [
       "\\begin{enumerate*}\n",
       "\\item 1\n",
       "\\item 2\n",
       "\\item 3\n",
       "\\end{enumerate*}\n"
      ],
      "text/markdown": [
       "1. 1\n",
       "2. 2\n",
       "3. 3\n",
       "\n",
       "\n"
      ],
      "text/plain": [
       "[1] 1 2 3"
      ]
     },
     "metadata": {},
     "output_type": "display_data"
    }
   ],
   "source": [
    "# com o sinal de igual (=)\n",
    "x = c(1,2,3)\n",
    "x"
   ]
  },
  {
   "cell_type": "code",
   "execution_count": 19,
   "metadata": {},
   "outputs": [
    {
     "data": {
      "text/html": [
       "<ol class=list-inline>\n",
       "\t<li>4.2</li>\n",
       "\t<li>1</li>\n",
       "\t<li>5</li>\n",
       "</ol>\n"
      ],
      "text/latex": [
       "\\begin{enumerate*}\n",
       "\\item 4.2\n",
       "\\item 1\n",
       "\\item 5\n",
       "\\end{enumerate*}\n"
      ],
      "text/markdown": [
       "1. 4.2\n",
       "2. 1\n",
       "3. 5\n",
       "\n",
       "\n"
      ],
      "text/plain": [
       "[1] 4.2 1.0 5.0"
      ]
     },
     "metadata": {},
     "output_type": "display_data"
    }
   ],
   "source": [
    "assign(\"x\", c(4.2, 1, 5))\n",
    "x"
   ]
  },
  {
   "cell_type": "code",
   "execution_count": 20,
   "metadata": {},
   "outputs": [
    {
     "data": {
      "text/html": [
       "<ol class=list-inline>\n",
       "\t<li>'myfirstobject'</li>\n",
       "\t<li>'x'</li>\n",
       "\t<li>'y'</li>\n",
       "</ol>\n"
      ],
      "text/latex": [
       "\\begin{enumerate*}\n",
       "\\item 'myfirstobject'\n",
       "\\item 'x'\n",
       "\\item 'y'\n",
       "\\end{enumerate*}\n"
      ],
      "text/markdown": [
       "1. 'myfirstobject'\n",
       "2. 'x'\n",
       "3. 'y'\n",
       "\n",
       "\n"
      ],
      "text/plain": [
       "[1] \"myfirstobject\" \"x\"             \"y\"            "
      ]
     },
     "metadata": {},
     "output_type": "display_data"
    }
   ],
   "source": [
    "# para listar objetos instanciados\n",
    "ls()"
   ]
  },
  {
   "cell_type": "code",
   "execution_count": 21,
   "metadata": {},
   "outputs": [
    {
     "data": {
      "text/html": [
       "<ol class=list-inline>\n",
       "\t<li>'myfirstobject'</li>\n",
       "\t<li>'x'</li>\n",
       "\t<li>'y'</li>\n",
       "</ol>\n"
      ],
      "text/latex": [
       "\\begin{enumerate*}\n",
       "\\item 'myfirstobject'\n",
       "\\item 'x'\n",
       "\\item 'y'\n",
       "\\end{enumerate*}\n"
      ],
      "text/markdown": [
       "1. 'myfirstobject'\n",
       "2. 'x'\n",
       "3. 'y'\n",
       "\n",
       "\n"
      ],
      "text/plain": [
       "[1] \"myfirstobject\" \"x\"             \"y\"            "
      ]
     },
     "metadata": {},
     "output_type": "display_data"
    }
   ],
   "source": [
    "objects()"
   ]
  },
  {
   "cell_type": "code",
   "execution_count": 22,
   "metadata": {},
   "outputs": [],
   "source": [
    "# removendo objetos da memória\n",
    "rm('myfirstobject')"
   ]
  },
  {
   "cell_type": "code",
   "execution_count": 24,
   "metadata": {},
   "outputs": [
    {
     "data": {
      "text/html": [
       "<ol class=list-inline>\n",
       "\t<li>1</li>\n",
       "\t<li>2.5</li>\n",
       "\t<li>3</li>\n",
       "\t<li>5</li>\n",
       "\t<li>1</li>\n",
       "\t<li>2.5</li>\n",
       "\t<li>3</li>\n",
       "</ol>\n"
      ],
      "text/latex": [
       "\\begin{enumerate*}\n",
       "\\item 1\n",
       "\\item 2.5\n",
       "\\item 3\n",
       "\\item 5\n",
       "\\item 1\n",
       "\\item 2.5\n",
       "\\item 3\n",
       "\\end{enumerate*}\n"
      ],
      "text/markdown": [
       "1. 1\n",
       "2. 2.5\n",
       "3. 3\n",
       "4. 5\n",
       "5. 1\n",
       "6. 2.5\n",
       "7. 3\n",
       "\n",
       "\n"
      ],
      "text/plain": [
       "[1] 1.0 2.5 3.0 5.0 1.0 2.5 3.0"
      ]
     },
     "metadata": {},
     "output_type": "display_data"
    }
   ],
   "source": [
    "# c é de <c>oncatenate\n",
    "x = c(y,5,y)\n",
    "x"
   ]
  },
  {
   "cell_type": "code",
   "execution_count": 25,
   "metadata": {},
   "outputs": [
    {
     "data": {
      "text/html": [
       "18"
      ],
      "text/latex": [
       "18"
      ],
      "text/markdown": [
       "18"
      ],
      "text/plain": [
       "[1] 18"
      ]
     },
     "metadata": {},
     "output_type": "display_data"
    }
   ],
   "source": [
    "# somando elementos de um vector\n",
    "sum(x)"
   ]
  },
  {
   "cell_type": "code",
   "execution_count": 26,
   "metadata": {},
   "outputs": [
    {
     "data": {
      "text/html": [
       "<ol class=list-inline>\n",
       "\t<li>1</li>\n",
       "\t<li>1.58113883008419</li>\n",
       "\t<li>1.73205080756888</li>\n",
       "\t<li>2.23606797749979</li>\n",
       "\t<li>1</li>\n",
       "\t<li>1.58113883008419</li>\n",
       "\t<li>1.73205080756888</li>\n",
       "</ol>\n"
      ],
      "text/latex": [
       "\\begin{enumerate*}\n",
       "\\item 1\n",
       "\\item 1.58113883008419\n",
       "\\item 1.73205080756888\n",
       "\\item 2.23606797749979\n",
       "\\item 1\n",
       "\\item 1.58113883008419\n",
       "\\item 1.73205080756888\n",
       "\\end{enumerate*}\n"
      ],
      "text/markdown": [
       "1. 1\n",
       "2. 1.58113883008419\n",
       "3. 1.73205080756888\n",
       "4. 2.23606797749979\n",
       "5. 1\n",
       "6. 1.58113883008419\n",
       "7. 1.73205080756888\n",
       "\n",
       "\n"
      ],
      "text/plain": [
       "[1] 1.000000 1.581139 1.732051 2.236068 1.000000 1.581139 1.732051"
      ]
     },
     "metadata": {},
     "output_type": "display_data"
    }
   ],
   "source": [
    "# tirando a raiz quadrada de cada elemento no vector\n",
    "sqrt(x)"
   ]
  },
  {
   "cell_type": "code",
   "execution_count": 27,
   "metadata": {},
   "outputs": [
    {
     "data": {
      "text/html": [
       "<ol class=list-inline>\n",
       "\t<li>TRUE</li>\n",
       "\t<li>TRUE</li>\n",
       "\t<li>TRUE</li>\n",
       "\t<li>FALSE</li>\n",
       "\t<li>TRUE</li>\n",
       "\t<li>TRUE</li>\n",
       "\t<li>TRUE</li>\n",
       "</ol>\n"
      ],
      "text/latex": [
       "\\begin{enumerate*}\n",
       "\\item TRUE\n",
       "\\item TRUE\n",
       "\\item TRUE\n",
       "\\item FALSE\n",
       "\\item TRUE\n",
       "\\item TRUE\n",
       "\\item TRUE\n",
       "\\end{enumerate*}\n"
      ],
      "text/markdown": [
       "1. TRUE\n",
       "2. TRUE\n",
       "3. TRUE\n",
       "4. FALSE\n",
       "5. TRUE\n",
       "6. TRUE\n",
       "7. TRUE\n",
       "\n",
       "\n"
      ],
      "text/plain": [
       "[1]  TRUE  TRUE  TRUE FALSE  TRUE  TRUE  TRUE"
      ]
     },
     "metadata": {},
     "output_type": "display_data"
    }
   ],
   "source": [
    "# comparações\n",
    "newobject <- x < 5\n",
    "newobject"
   ]
  },
  {
   "cell_type": "markdown",
   "metadata": {},
   "source": [
    "## Documentação\n",
    "\n",
    "Para conferir o que uma função faz, podemos utilizar o operador *?* na frente da chamada do mesmo:"
   ]
  },
  {
   "cell_type": "code",
   "execution_count": 30,
   "metadata": {},
   "outputs": [],
   "source": [
    "?seq"
   ]
  },
  {
   "cell_type": "code",
   "execution_count": 32,
   "metadata": {},
   "outputs": [
    {
     "data": {
      "text/html": [
       "1"
      ],
      "text/latex": [
       "1"
      ],
      "text/markdown": [
       "1"
      ],
      "text/plain": [
       "[1] 1"
      ]
     },
     "metadata": {},
     "output_type": "display_data"
    }
   ],
   "source": [
    "seq()"
   ]
  },
  {
   "cell_type": "code",
   "execution_count": 33,
   "metadata": {},
   "outputs": [
    {
     "data": {
      "text/html": [
       "<ol class=list-inline>\n",
       "\t<li>3</li>\n",
       "\t<li>4</li>\n",
       "\t<li>5</li>\n",
       "</ol>\n"
      ],
      "text/latex": [
       "\\begin{enumerate*}\n",
       "\\item 3\n",
       "\\item 4\n",
       "\\item 5\n",
       "\\end{enumerate*}\n"
      ],
      "text/markdown": [
       "1. 3\n",
       "2. 4\n",
       "3. 5\n",
       "\n",
       "\n"
      ],
      "text/plain": [
       "[1] 3 4 5"
      ]
     },
     "metadata": {},
     "output_type": "display_data"
    }
   ],
   "source": [
    "seq(3,5)"
   ]
  },
  {
   "cell_type": "code",
   "execution_count": 34,
   "metadata": {},
   "outputs": [
    {
     "data": {
      "text/html": [
       "<ol class=list-inline>\n",
       "\t<li>3</li>\n",
       "\t<li>3.5</li>\n",
       "\t<li>4</li>\n",
       "\t<li>4.5</li>\n",
       "\t<li>5</li>\n",
       "</ol>\n"
      ],
      "text/latex": [
       "\\begin{enumerate*}\n",
       "\\item 3\n",
       "\\item 3.5\n",
       "\\item 4\n",
       "\\item 4.5\n",
       "\\item 5\n",
       "\\end{enumerate*}\n"
      ],
      "text/markdown": [
       "1. 3\n",
       "2. 3.5\n",
       "3. 4\n",
       "4. 4.5\n",
       "5. 5\n",
       "\n",
       "\n"
      ],
      "text/plain": [
       "[1] 3.0 3.5 4.0 4.5 5.0"
      ]
     },
     "metadata": {},
     "output_type": "display_data"
    }
   ],
   "source": [
    "seq(from = 3, to = 5, by = 0.5)"
   ]
  },
  {
   "cell_type": "code",
   "execution_count": 35,
   "metadata": {},
   "outputs": [],
   "source": [
    "?paste"
   ]
  },
  {
   "cell_type": "code",
   "execution_count": 36,
   "metadata": {},
   "outputs": [
    {
     "data": {
      "text/html": [
       "<ol class=list-inline>\n",
       "\t<li>'1'</li>\n",
       "\t<li>'2'</li>\n",
       "\t<li>'3'</li>\n",
       "\t<li>'4'</li>\n",
       "</ol>\n"
      ],
      "text/latex": [
       "\\begin{enumerate*}\n",
       "\\item '1'\n",
       "\\item '2'\n",
       "\\item '3'\n",
       "\\item '4'\n",
       "\\end{enumerate*}\n"
      ],
      "text/markdown": [
       "1. '1'\n",
       "2. '2'\n",
       "3. '3'\n",
       "4. '4'\n",
       "\n",
       "\n"
      ],
      "text/plain": [
       "[1] \"1\" \"2\" \"3\" \"4\""
      ]
     },
     "metadata": {},
     "output_type": "display_data"
    }
   ],
   "source": [
    "paste(1:4)"
   ]
  },
  {
   "cell_type": "code",
   "execution_count": 37,
   "metadata": {},
   "outputs": [
    {
     "data": {
      "text/html": [
       "<ol class=list-inline>\n",
       "\t<li>'xyz 1'</li>\n",
       "\t<li>'xyz 2'</li>\n",
       "\t<li>'xyz 3'</li>\n",
       "\t<li>'xyz 4'</li>\n",
       "\t<li>'xyz 5'</li>\n",
       "\t<li>'xyz 6'</li>\n",
       "\t<li>'xyz 7'</li>\n",
       "\t<li>'xyz 8'</li>\n",
       "\t<li>'xyz 9'</li>\n",
       "\t<li>'xyz 10'</li>\n",
       "</ol>\n"
      ],
      "text/latex": [
       "\\begin{enumerate*}\n",
       "\\item 'xyz 1'\n",
       "\\item 'xyz 2'\n",
       "\\item 'xyz 3'\n",
       "\\item 'xyz 4'\n",
       "\\item 'xyz 5'\n",
       "\\item 'xyz 6'\n",
       "\\item 'xyz 7'\n",
       "\\item 'xyz 8'\n",
       "\\item 'xyz 9'\n",
       "\\item 'xyz 10'\n",
       "\\end{enumerate*}\n"
      ],
      "text/markdown": [
       "1. 'xyz 1'\n",
       "2. 'xyz 2'\n",
       "3. 'xyz 3'\n",
       "4. 'xyz 4'\n",
       "5. 'xyz 5'\n",
       "6. 'xyz 6'\n",
       "7. 'xyz 7'\n",
       "8. 'xyz 8'\n",
       "9. 'xyz 9'\n",
       "10. 'xyz 10'\n",
       "\n",
       "\n"
      ],
      "text/plain": [
       " [1] \"xyz 1\"  \"xyz 2\"  \"xyz 3\"  \"xyz 4\"  \"xyz 5\"  \"xyz 6\"  \"xyz 7\"  \"xyz 8\" \n",
       " [9] \"xyz 9\"  \"xyz 10\""
      ]
     },
     "metadata": {},
     "output_type": "display_data"
    }
   ],
   "source": [
    "paste('xyz', 1:10)"
   ]
  },
  {
   "cell_type": "code",
   "execution_count": 38,
   "metadata": {},
   "outputs": [
    {
     "data": {
      "text/html": [
       "<ol class=list-inline>\n",
       "\t<li>'xyz 2'</li>\n",
       "\t<li>'xyz 5'</li>\n",
       "\t<li>'xyz 7'</li>\n",
       "\t<li>'xyz test'</li>\n",
       "\t<li>'xyz 4.5'</li>\n",
       "</ol>\n"
      ],
      "text/latex": [
       "\\begin{enumerate*}\n",
       "\\item 'xyz 2'\n",
       "\\item 'xyz 5'\n",
       "\\item 'xyz 7'\n",
       "\\item 'xyz test'\n",
       "\\item 'xyz 4.5'\n",
       "\\end{enumerate*}\n"
      ],
      "text/markdown": [
       "1. 'xyz 2'\n",
       "2. 'xyz 5'\n",
       "3. 'xyz 7'\n",
       "4. 'xyz test'\n",
       "5. 'xyz 4.5'\n",
       "\n",
       "\n"
      ],
      "text/plain": [
       "[1] \"xyz 2\"    \"xyz 5\"    \"xyz 7\"    \"xyz test\" \"xyz 4.5\" "
      ]
     },
     "metadata": {},
     "output_type": "display_data"
    }
   ],
   "source": [
    "paste(\"xyz\", c(2,5,7,\"test\", 4.5))"
   ]
  },
  {
   "cell_type": "code",
   "execution_count": 39,
   "metadata": {},
   "outputs": [
    {
     "data": {
      "text/html": [
       "<ol class=list-inline>\n",
       "\t<li>'xyz1'</li>\n",
       "\t<li>'xyz2'</li>\n",
       "\t<li>'xyz3'</li>\n",
       "\t<li>'xyz4'</li>\n",
       "\t<li>'xyz5'</li>\n",
       "\t<li>'xyz6'</li>\n",
       "\t<li>'xyz7'</li>\n",
       "\t<li>'xyz8'</li>\n",
       "\t<li>'xyz9'</li>\n",
       "\t<li>'xyz10'</li>\n",
       "</ol>\n"
      ],
      "text/latex": [
       "\\begin{enumerate*}\n",
       "\\item 'xyz1'\n",
       "\\item 'xyz2'\n",
       "\\item 'xyz3'\n",
       "\\item 'xyz4'\n",
       "\\item 'xyz5'\n",
       "\\item 'xyz6'\n",
       "\\item 'xyz7'\n",
       "\\item 'xyz8'\n",
       "\\item 'xyz9'\n",
       "\\item 'xyz10'\n",
       "\\end{enumerate*}\n"
      ],
      "text/markdown": [
       "1. 'xyz1'\n",
       "2. 'xyz2'\n",
       "3. 'xyz3'\n",
       "4. 'xyz4'\n",
       "5. 'xyz5'\n",
       "6. 'xyz6'\n",
       "7. 'xyz7'\n",
       "8. 'xyz8'\n",
       "9. 'xyz9'\n",
       "10. 'xyz10'\n",
       "\n",
       "\n"
      ],
      "text/plain": [
       " [1] \"xyz1\"  \"xyz2\"  \"xyz3\"  \"xyz4\"  \"xyz5\"  \"xyz6\"  \"xyz7\"  \"xyz8\"  \"xyz9\" \n",
       "[10] \"xyz10\""
      ]
     },
     "metadata": {},
     "output_type": "display_data"
    }
   ],
   "source": [
    "# modificando o separador da concatenação\n",
    "paste(\"xyz\", 1:10, sep = \"\")"
   ]
  },
  {
   "cell_type": "code",
   "execution_count": 40,
   "metadata": {},
   "outputs": [],
   "source": [
    "?rep"
   ]
  },
  {
   "cell_type": "code",
   "execution_count": 41,
   "metadata": {},
   "outputs": [
    {
     "data": {
      "text/html": [
       "<ol class=list-inline>\n",
       "\t<li>3</li>\n",
       "\t<li>4</li>\n",
       "\t<li>5</li>\n",
       "\t<li>3</li>\n",
       "\t<li>4</li>\n",
       "\t<li>5</li>\n",
       "\t<li>3</li>\n",
       "\t<li>4</li>\n",
       "\t<li>5</li>\n",
       "</ol>\n"
      ],
      "text/latex": [
       "\\begin{enumerate*}\n",
       "\\item 3\n",
       "\\item 4\n",
       "\\item 5\n",
       "\\item 3\n",
       "\\item 4\n",
       "\\item 5\n",
       "\\item 3\n",
       "\\item 4\n",
       "\\item 5\n",
       "\\end{enumerate*}\n"
      ],
      "text/markdown": [
       "1. 3\n",
       "2. 4\n",
       "3. 5\n",
       "4. 3\n",
       "5. 4\n",
       "6. 5\n",
       "7. 3\n",
       "8. 4\n",
       "9. 5\n",
       "\n",
       "\n"
      ],
      "text/plain": [
       "[1] 3 4 5 3 4 5 3 4 5"
      ]
     },
     "metadata": {},
     "output_type": "display_data"
    }
   ],
   "source": [
    "rep(c(3,4,5), 3)"
   ]
  },
  {
   "cell_type": "code",
   "execution_count": 42,
   "metadata": {},
   "outputs": [
    {
     "data": {
      "text/html": [
       "<ol class=list-inline>\n",
       "\t<li>1</li>\n",
       "\t<li>2</li>\n",
       "\t<li>3</li>\n",
       "\t<li>4</li>\n",
       "\t<li>5</li>\n",
       "\t<li>6</li>\n",
       "\t<li>7</li>\n",
       "\t<li>8</li>\n",
       "\t<li>9</li>\n",
       "\t<li>10</li>\n",
       "\t<li>1</li>\n",
       "\t<li>2</li>\n",
       "\t<li>3</li>\n",
       "\t<li>4</li>\n",
       "\t<li>5</li>\n",
       "\t<li>6</li>\n",
       "\t<li>7</li>\n",
       "\t<li>8</li>\n",
       "\t<li>9</li>\n",
       "\t<li>10</li>\n",
       "\t<li>1</li>\n",
       "\t<li>2</li>\n",
       "\t<li>3</li>\n",
       "\t<li>4</li>\n",
       "\t<li>5</li>\n",
       "\t<li>6</li>\n",
       "\t<li>7</li>\n",
       "\t<li>8</li>\n",
       "\t<li>9</li>\n",
       "\t<li>10</li>\n",
       "</ol>\n"
      ],
      "text/latex": [
       "\\begin{enumerate*}\n",
       "\\item 1\n",
       "\\item 2\n",
       "\\item 3\n",
       "\\item 4\n",
       "\\item 5\n",
       "\\item 6\n",
       "\\item 7\n",
       "\\item 8\n",
       "\\item 9\n",
       "\\item 10\n",
       "\\item 1\n",
       "\\item 2\n",
       "\\item 3\n",
       "\\item 4\n",
       "\\item 5\n",
       "\\item 6\n",
       "\\item 7\n",
       "\\item 8\n",
       "\\item 9\n",
       "\\item 10\n",
       "\\item 1\n",
       "\\item 2\n",
       "\\item 3\n",
       "\\item 4\n",
       "\\item 5\n",
       "\\item 6\n",
       "\\item 7\n",
       "\\item 8\n",
       "\\item 9\n",
       "\\item 10\n",
       "\\end{enumerate*}\n"
      ],
      "text/markdown": [
       "1. 1\n",
       "2. 2\n",
       "3. 3\n",
       "4. 4\n",
       "5. 5\n",
       "6. 6\n",
       "7. 7\n",
       "8. 8\n",
       "9. 9\n",
       "10. 10\n",
       "11. 1\n",
       "12. 2\n",
       "13. 3\n",
       "14. 4\n",
       "15. 5\n",
       "16. 6\n",
       "17. 7\n",
       "18. 8\n",
       "19. 9\n",
       "20. 10\n",
       "21. 1\n",
       "22. 2\n",
       "23. 3\n",
       "24. 4\n",
       "25. 5\n",
       "26. 6\n",
       "27. 7\n",
       "28. 8\n",
       "29. 9\n",
       "30. 10\n",
       "\n",
       "\n"
      ],
      "text/plain": [
       " [1]  1  2  3  4  5  6  7  8  9 10  1  2  3  4  5  6  7  8  9 10  1  2  3  4  5\n",
       "[26]  6  7  8  9 10"
      ]
     },
     "metadata": {},
     "output_type": "display_data"
    }
   ],
   "source": [
    "rep(1:10, times = 3)"
   ]
  },
  {
   "cell_type": "code",
   "execution_count": 43,
   "metadata": {},
   "outputs": [
    {
     "data": {
      "text/html": [
       "<ol class=list-inline>\n",
       "\t<li>1</li>\n",
       "\t<li>1</li>\n",
       "\t<li>1</li>\n",
       "\t<li>2</li>\n",
       "\t<li>2</li>\n",
       "\t<li>2</li>\n",
       "\t<li>3</li>\n",
       "\t<li>3</li>\n",
       "\t<li>3</li>\n",
       "</ol>\n"
      ],
      "text/latex": [
       "\\begin{enumerate*}\n",
       "\\item 1\n",
       "\\item 1\n",
       "\\item 1\n",
       "\\item 2\n",
       "\\item 2\n",
       "\\item 2\n",
       "\\item 3\n",
       "\\item 3\n",
       "\\item 3\n",
       "\\end{enumerate*}\n"
      ],
      "text/markdown": [
       "1. 1\n",
       "2. 1\n",
       "3. 1\n",
       "4. 2\n",
       "5. 2\n",
       "6. 2\n",
       "7. 3\n",
       "8. 3\n",
       "9. 3\n",
       "\n",
       "\n"
      ],
      "text/plain": [
       "[1] 1 1 1 2 2 2 3 3 3"
      ]
     },
     "metadata": {},
     "output_type": "display_data"
    }
   ],
   "source": [
    "x = c(1,2,3)\n",
    "rep(x, each = 3)"
   ]
  },
  {
   "cell_type": "code",
   "execution_count": 44,
   "metadata": {},
   "outputs": [
    {
     "data": {
      "text/html": [
       "<ol class=list-inline>\n",
       "\t<li>1</li>\n",
       "\t<li>1</li>\n",
       "\t<li>1</li>\n",
       "\t<li>2</li>\n",
       "\t<li>2</li>\n",
       "\t<li>2</li>\n",
       "\t<li>3</li>\n",
       "\t<li>3</li>\n",
       "\t<li>3</li>\n",
       "\t<li>1</li>\n",
       "\t<li>1</li>\n",
       "\t<li>1</li>\n",
       "\t<li>2</li>\n",
       "\t<li>2</li>\n",
       "\t<li>2</li>\n",
       "\t<li>3</li>\n",
       "\t<li>3</li>\n",
       "\t<li>3</li>\n",
       "\t<li>1</li>\n",
       "\t<li>1</li>\n",
       "\t<li>1</li>\n",
       "\t<li>2</li>\n",
       "\t<li>2</li>\n",
       "\t<li>2</li>\n",
       "\t<li>3</li>\n",
       "\t<li>3</li>\n",
       "\t<li>3</li>\n",
       "</ol>\n"
      ],
      "text/latex": [
       "\\begin{enumerate*}\n",
       "\\item 1\n",
       "\\item 1\n",
       "\\item 1\n",
       "\\item 2\n",
       "\\item 2\n",
       "\\item 2\n",
       "\\item 3\n",
       "\\item 3\n",
       "\\item 3\n",
       "\\item 1\n",
       "\\item 1\n",
       "\\item 1\n",
       "\\item 2\n",
       "\\item 2\n",
       "\\item 2\n",
       "\\item 3\n",
       "\\item 3\n",
       "\\item 3\n",
       "\\item 1\n",
       "\\item 1\n",
       "\\item 1\n",
       "\\item 2\n",
       "\\item 2\n",
       "\\item 2\n",
       "\\item 3\n",
       "\\item 3\n",
       "\\item 3\n",
       "\\end{enumerate*}\n"
      ],
      "text/markdown": [
       "1. 1\n",
       "2. 1\n",
       "3. 1\n",
       "4. 2\n",
       "5. 2\n",
       "6. 2\n",
       "7. 3\n",
       "8. 3\n",
       "9. 3\n",
       "10. 1\n",
       "11. 1\n",
       "12. 1\n",
       "13. 2\n",
       "14. 2\n",
       "15. 2\n",
       "16. 3\n",
       "17. 3\n",
       "18. 3\n",
       "19. 1\n",
       "20. 1\n",
       "21. 1\n",
       "22. 2\n",
       "23. 2\n",
       "24. 2\n",
       "25. 3\n",
       "26. 3\n",
       "27. 3\n",
       "\n",
       "\n"
      ],
      "text/plain": [
       " [1] 1 1 1 2 2 2 3 3 3 1 1 1 2 2 2 3 3 3 1 1 1 2 2 2 3 3 3"
      ]
     },
     "metadata": {},
     "output_type": "display_data"
    }
   ],
   "source": [
    "rep(x, each = 3, times = 3)"
   ]
  },
  {
   "cell_type": "code",
   "execution_count": 46,
   "metadata": {},
   "outputs": [
    {
     "data": {
      "text/html": [
       "2"
      ],
      "text/latex": [
       "2"
      ],
      "text/markdown": [
       "2"
      ],
      "text/plain": [
       "[1] 2"
      ]
     },
     "metadata": {},
     "output_type": "display_data"
    }
   ],
   "source": [
    "# retorna o índice com o valor exigido\n",
    "which(x == 2)"
   ]
  },
  {
   "cell_type": "code",
   "execution_count": 47,
   "metadata": {},
   "outputs": [
    {
     "data": {
      "text/html": [
       "<ol class=list-inline>\n",
       "\t<li>3</li>\n",
       "\t<li>4</li>\n",
       "\t<li>5</li>\n",
       "</ol>\n"
      ],
      "text/latex": [
       "\\begin{enumerate*}\n",
       "\\item 3\n",
       "\\item 4\n",
       "\\item 5\n",
       "\\end{enumerate*}\n"
      ],
      "text/markdown": [
       "1. 3\n",
       "2. 4\n",
       "3. 5\n",
       "\n",
       "\n"
      ],
      "text/plain": [
       "[1] 3 4 5"
      ]
     },
     "metadata": {},
     "output_type": "display_data"
    }
   ],
   "source": [
    "x = c(1,2,3,3,3)\n",
    "which(x == 3)"
   ]
  },
  {
   "cell_type": "code",
   "execution_count": 48,
   "metadata": {},
   "outputs": [
    {
     "data": {
      "text/html": [],
      "text/latex": [],
      "text/markdown": [],
      "text/plain": [
       "integer(0)"
      ]
     },
     "metadata": {},
     "output_type": "display_data"
    }
   ],
   "source": [
    "which(x == 0)"
   ]
  },
  {
   "cell_type": "markdown",
   "metadata": {},
   "source": [
    "*Checando classe do objeto:*"
   ]
  },
  {
   "cell_type": "code",
   "execution_count": 62,
   "metadata": {
    "scrolled": true
   },
   "outputs": [
    {
     "data": {
      "text/html": [
       "'character'"
      ],
      "text/latex": [
       "'character'"
      ],
      "text/markdown": [
       "'character'"
      ],
      "text/plain": [
       "[1] \"character\""
      ]
     },
     "metadata": {},
     "output_type": "display_data"
    }
   ],
   "source": [
    "class(paste(1:4))"
   ]
  },
  {
   "cell_type": "code",
   "execution_count": 63,
   "metadata": {},
   "outputs": [
    {
     "data": {
      "text/html": [
       "'integer'"
      ],
      "text/latex": [
       "'integer'"
      ],
      "text/markdown": [
       "'integer'"
      ],
      "text/plain": [
       "[1] \"integer\""
      ]
     },
     "metadata": {},
     "output_type": "display_data"
    }
   ],
   "source": [
    "class(1:4)"
   ]
  },
  {
   "cell_type": "code",
   "execution_count": 64,
   "metadata": {},
   "outputs": [
    {
     "data": {
      "text/html": [
       "'numeric'"
      ],
      "text/latex": [
       "'numeric'"
      ],
      "text/markdown": [
       "'numeric'"
      ],
      "text/plain": [
       "[1] \"numeric\""
      ]
     },
     "metadata": {},
     "output_type": "display_data"
    }
   ],
   "source": [
    "class(c(1,2.3,5))"
   ]
  },
  {
   "cell_type": "code",
   "execution_count": 65,
   "metadata": {},
   "outputs": [
    {
     "data": {
      "text/html": [
       "'numeric'"
      ],
      "text/latex": [
       "'numeric'"
      ],
      "text/markdown": [
       "'numeric'"
      ],
      "text/plain": [
       "[1] \"numeric\""
      ]
     },
     "metadata": {},
     "output_type": "display_data"
    }
   ],
   "source": [
    "class(5.7)"
   ]
  },
  {
   "cell_type": "markdown",
   "metadata": {},
   "source": [
    "#### Exercícios\n",
    "\n",
    "**1. Crie um objeto *myobject* e atribua valores de 1 à 10 (inclusos) a ele de pelo menos 3 maneiras diferentes:**"
   ]
  },
  {
   "cell_type": "code",
   "execution_count": 52,
   "metadata": {},
   "outputs": [
    {
     "data": {
      "text/html": [
       "<ol class=list-inline>\n",
       "\t<li>1</li>\n",
       "\t<li>2</li>\n",
       "\t<li>3</li>\n",
       "\t<li>4</li>\n",
       "\t<li>5</li>\n",
       "\t<li>6</li>\n",
       "\t<li>7</li>\n",
       "\t<li>8</li>\n",
       "\t<li>9</li>\n",
       "\t<li>10</li>\n",
       "</ol>\n"
      ],
      "text/latex": [
       "\\begin{enumerate*}\n",
       "\\item 1\n",
       "\\item 2\n",
       "\\item 3\n",
       "\\item 4\n",
       "\\item 5\n",
       "\\item 6\n",
       "\\item 7\n",
       "\\item 8\n",
       "\\item 9\n",
       "\\item 10\n",
       "\\end{enumerate*}\n"
      ],
      "text/markdown": [
       "1. 1\n",
       "2. 2\n",
       "3. 3\n",
       "4. 4\n",
       "5. 5\n",
       "6. 6\n",
       "7. 7\n",
       "8. 8\n",
       "9. 9\n",
       "10. 10\n",
       "\n",
       "\n"
      ],
      "text/plain": [
       " [1]  1  2  3  4  5  6  7  8  9 10"
      ]
     },
     "metadata": {},
     "output_type": "display_data"
    }
   ],
   "source": [
    "myobject = 1:10\n",
    "myobject"
   ]
  },
  {
   "cell_type": "code",
   "execution_count": 53,
   "metadata": {},
   "outputs": [
    {
     "data": {
      "text/html": [
       "<ol class=list-inline>\n",
       "\t<li>1</li>\n",
       "\t<li>2</li>\n",
       "\t<li>3</li>\n",
       "\t<li>4</li>\n",
       "\t<li>5</li>\n",
       "\t<li>6</li>\n",
       "\t<li>7</li>\n",
       "\t<li>8</li>\n",
       "\t<li>9</li>\n",
       "\t<li>10</li>\n",
       "</ol>\n"
      ],
      "text/latex": [
       "\\begin{enumerate*}\n",
       "\\item 1\n",
       "\\item 2\n",
       "\\item 3\n",
       "\\item 4\n",
       "\\item 5\n",
       "\\item 6\n",
       "\\item 7\n",
       "\\item 8\n",
       "\\item 9\n",
       "\\item 10\n",
       "\\end{enumerate*}\n"
      ],
      "text/markdown": [
       "1. 1\n",
       "2. 2\n",
       "3. 3\n",
       "4. 4\n",
       "5. 5\n",
       "6. 6\n",
       "7. 7\n",
       "8. 8\n",
       "9. 9\n",
       "10. 10\n",
       "\n",
       "\n"
      ],
      "text/plain": [
       " [1]  1  2  3  4  5  6  7  8  9 10"
      ]
     },
     "metadata": {},
     "output_type": "display_data"
    }
   ],
   "source": [
    "myobject <- 1:10\n",
    "myobject"
   ]
  },
  {
   "cell_type": "code",
   "execution_count": 54,
   "metadata": {},
   "outputs": [
    {
     "data": {
      "text/html": [
       "<ol class=list-inline>\n",
       "\t<li>1</li>\n",
       "\t<li>2</li>\n",
       "\t<li>3</li>\n",
       "\t<li>4</li>\n",
       "\t<li>5</li>\n",
       "\t<li>6</li>\n",
       "\t<li>7</li>\n",
       "\t<li>8</li>\n",
       "\t<li>9</li>\n",
       "\t<li>10</li>\n",
       "</ol>\n"
      ],
      "text/latex": [
       "\\begin{enumerate*}\n",
       "\\item 1\n",
       "\\item 2\n",
       "\\item 3\n",
       "\\item 4\n",
       "\\item 5\n",
       "\\item 6\n",
       "\\item 7\n",
       "\\item 8\n",
       "\\item 9\n",
       "\\item 10\n",
       "\\end{enumerate*}\n"
      ],
      "text/markdown": [
       "1. 1\n",
       "2. 2\n",
       "3. 3\n",
       "4. 4\n",
       "5. 5\n",
       "6. 6\n",
       "7. 7\n",
       "8. 8\n",
       "9. 9\n",
       "10. 10\n",
       "\n",
       "\n"
      ],
      "text/plain": [
       " [1]  1  2  3  4  5  6  7  8  9 10"
      ]
     },
     "metadata": {},
     "output_type": "display_data"
    }
   ],
   "source": [
    "assign('myobject', 1:10)\n",
    "myobject"
   ]
  },
  {
   "cell_type": "markdown",
   "metadata": {},
   "source": [
    "**2. Imprima a soma dos elementos no objeto criado anteriormente:**"
   ]
  },
  {
   "cell_type": "code",
   "execution_count": 55,
   "metadata": {},
   "outputs": [
    {
     "data": {
      "text/html": [
       "55"
      ],
      "text/latex": [
       "55"
      ],
      "text/markdown": [
       "55"
      ],
      "text/plain": [
       "[1] 55"
      ]
     },
     "metadata": {},
     "output_type": "display_data"
    }
   ],
   "source": [
    "sum(myobject)"
   ]
  },
  {
   "cell_type": "markdown",
   "metadata": {},
   "source": [
    "**3. Crie um *vector* usando a função *paste* com o conteúdo a seguir:**\n",
    "> \"R is great 4 and I will love it\"\n",
    "\"R is great 7 and I will love it\"\n",
    "\"R is great 45 and I will love it\""
   ]
  },
  {
   "cell_type": "code",
   "execution_count": 57,
   "metadata": {},
   "outputs": [
    {
     "data": {
      "text/html": [
       "<ol class=list-inline>\n",
       "\t<li>'R is great 4 and I will love it'</li>\n",
       "\t<li>'R is great 7 and I will love it'</li>\n",
       "\t<li>'R is great 45 and I will love it'</li>\n",
       "</ol>\n"
      ],
      "text/latex": [
       "\\begin{enumerate*}\n",
       "\\item 'R is great 4 and I will love it'\n",
       "\\item 'R is great 7 and I will love it'\n",
       "\\item 'R is great 45 and I will love it'\n",
       "\\end{enumerate*}\n"
      ],
      "text/markdown": [
       "1. 'R is great 4 and I will love it'\n",
       "2. 'R is great 7 and I will love it'\n",
       "3. 'R is great 45 and I will love it'\n",
       "\n",
       "\n"
      ],
      "text/plain": [
       "[1] \"R is great 4 and I will love it\"  \"R is great 7 and I will love it\" \n",
       "[3] \"R is great 45 and I will love it\""
      ]
     },
     "metadata": {},
     "output_type": "display_data"
    }
   ],
   "source": [
    "paste(\"R is great\", c(4,7,45), \"and I will love it\")"
   ]
  },
  {
   "cell_type": "markdown",
   "metadata": {},
   "source": [
    "**4. Faça um *vector* com os elementos 1, 2 e 3 repetindo 11 *x* 1, 10 *x* 2 e 10 *x* 3:**"
   ]
  },
  {
   "cell_type": "code",
   "execution_count": 60,
   "metadata": {},
   "outputs": [
    {
     "data": {
      "text/html": [
       "<ol class=list-inline>\n",
       "\t<li>1</li>\n",
       "\t<li>2</li>\n",
       "\t<li>3</li>\n",
       "\t<li>1</li>\n",
       "\t<li>2</li>\n",
       "\t<li>3</li>\n",
       "\t<li>1</li>\n",
       "\t<li>2</li>\n",
       "\t<li>3</li>\n",
       "\t<li>1</li>\n",
       "\t<li>2</li>\n",
       "\t<li>3</li>\n",
       "\t<li>1</li>\n",
       "\t<li>2</li>\n",
       "\t<li>3</li>\n",
       "\t<li>1</li>\n",
       "\t<li>2</li>\n",
       "\t<li>3</li>\n",
       "\t<li>1</li>\n",
       "\t<li>2</li>\n",
       "\t<li>3</li>\n",
       "\t<li>1</li>\n",
       "\t<li>2</li>\n",
       "\t<li>3</li>\n",
       "\t<li>1</li>\n",
       "\t<li>2</li>\n",
       "\t<li>3</li>\n",
       "\t<li>1</li>\n",
       "\t<li>2</li>\n",
       "\t<li>3</li>\n",
       "\t<li>1</li>\n",
       "</ol>\n"
      ],
      "text/latex": [
       "\\begin{enumerate*}\n",
       "\\item 1\n",
       "\\item 2\n",
       "\\item 3\n",
       "\\item 1\n",
       "\\item 2\n",
       "\\item 3\n",
       "\\item 1\n",
       "\\item 2\n",
       "\\item 3\n",
       "\\item 1\n",
       "\\item 2\n",
       "\\item 3\n",
       "\\item 1\n",
       "\\item 2\n",
       "\\item 3\n",
       "\\item 1\n",
       "\\item 2\n",
       "\\item 3\n",
       "\\item 1\n",
       "\\item 2\n",
       "\\item 3\n",
       "\\item 1\n",
       "\\item 2\n",
       "\\item 3\n",
       "\\item 1\n",
       "\\item 2\n",
       "\\item 3\n",
       "\\item 1\n",
       "\\item 2\n",
       "\\item 3\n",
       "\\item 1\n",
       "\\end{enumerate*}\n"
      ],
      "text/markdown": [
       "1. 1\n",
       "2. 2\n",
       "3. 3\n",
       "4. 1\n",
       "5. 2\n",
       "6. 3\n",
       "7. 1\n",
       "8. 2\n",
       "9. 3\n",
       "10. 1\n",
       "11. 2\n",
       "12. 3\n",
       "13. 1\n",
       "14. 2\n",
       "15. 3\n",
       "16. 1\n",
       "17. 2\n",
       "18. 3\n",
       "19. 1\n",
       "20. 2\n",
       "21. 3\n",
       "22. 1\n",
       "23. 2\n",
       "24. 3\n",
       "25. 1\n",
       "26. 2\n",
       "27. 3\n",
       "28. 1\n",
       "29. 2\n",
       "30. 3\n",
       "31. 1\n",
       "\n",
       "\n"
      ],
      "text/plain": [
       " [1] 1 2 3 1 2 3 1 2 3 1 2 3 1 2 3 1 2 3 1 2 3 1 2 3 1 2 3 1 2 3 1"
      ]
     },
     "metadata": {},
     "output_type": "display_data"
    }
   ],
   "source": [
    "a = rep(1:3, length = 31)\n",
    "a"
   ]
  },
  {
   "cell_type": "markdown",
   "metadata": {},
   "source": [
    "**5. Qual o valor armazenado na posição 7 do *vector* criado anteriormente?**"
   ]
  },
  {
   "cell_type": "code",
   "execution_count": 61,
   "metadata": {},
   "outputs": [
    {
     "data": {
      "text/html": [
       "1"
      ],
      "text/latex": [
       "1"
      ],
      "text/markdown": [
       "1"
      ],
      "text/plain": [
       "[1] 1"
      ]
     },
     "metadata": {},
     "output_type": "display_data"
    }
   ],
   "source": [
    "a[7]"
   ]
  },
  {
   "cell_type": "markdown",
   "metadata": {},
   "source": [
    "## Criando Funções\n",
    "\n",
    "Em R, funções são tratadas como objetos:"
   ]
  },
  {
   "cell_type": "code",
   "execution_count": 66,
   "metadata": {},
   "outputs": [
    {
     "name": "stdout",
     "output_type": "stream",
     "text": [
      "[1] 135\n"
     ]
    }
   ],
   "source": [
    "qqcoisa <- function(t,z) {\n",
    "    value = z*3\n",
    "    value = value * t\n",
    "    print(value)\n",
    "}\n",
    "\n",
    "t = 5\n",
    "z = 9\n",
    "qqcoisa(t,z)"
   ]
  },
  {
   "cell_type": "code",
   "execution_count": 68,
   "metadata": {},
   "outputs": [
    {
     "name": "stdout",
     "output_type": "stream",
     "text": [
      "[1] 1\n",
      "[1] 2\n",
      "[1] 3\n",
      "[1] 4\n",
      "[1] 5\n",
      "[1] 6\n",
      "[1] 7\n",
      "[1] 8\n",
      "[1] 9\n",
      "[1] 10\n"
     ]
    }
   ],
   "source": [
    "for (i in 1:10) {print (i)}"
   ]
  },
  {
   "cell_type": "code",
   "execution_count": 69,
   "metadata": {},
   "outputs": [],
   "source": [
    "# Exemplo calculando primos com o método de Eratosthenes (o método sistemático mais antigo de que se tem notícia)\n",
    "PrimVec = function(n){\n",
    "    # começa de 2\n",
    "    if (n >= 2) {\n",
    "        # lista de possíveis primos (inicialmente todos até o número passado como parâmetro)\n",
    "        s = seq(2,n)\n",
    "        # p será nosso array de primos encontrados,\n",
    "        # os números serão movidos de s para p passo a passo caso eles estejam dentro dos critérios\n",
    "        p = c()\n",
    "        # começando o loop\n",
    "        for (i in seq(2,n)) {\n",
    "            # checando se existe algum valor em s que seja igual a i, ou seja, checando se i é elegível como primo\n",
    "            if(any(s==i)) {\n",
    "                # guardamos o i, já que\n",
    "                p = c(p,i)\n",
    "                # procurando e removendo múltiplos do número encontrado da lista de possíveis primos (s)\n",
    "                s = c(s[(s%%i) != 0],i)\n",
    "            }\n",
    "        }\n",
    "        return(p)\n",
    "    }\n",
    "    # pedindo para escolher melhor a entrada\n",
    "    else{\n",
    "        stop(\"Input at least 2\")\n",
    "    }\n",
    "}"
   ]
  },
  {
   "cell_type": "code",
   "execution_count": 70,
   "metadata": {},
   "outputs": [
    {
     "data": {
      "text/html": [
       "<ol class=list-inline>\n",
       "\t<li>2</li>\n",
       "\t<li>3</li>\n",
       "\t<li>5</li>\n",
       "\t<li>7</li>\n",
       "\t<li>11</li>\n",
       "\t<li>13</li>\n",
       "\t<li>17</li>\n",
       "\t<li>19</li>\n",
       "\t<li>23</li>\n",
       "\t<li>29</li>\n",
       "\t<li>31</li>\n",
       "\t<li>37</li>\n",
       "\t<li>41</li>\n",
       "\t<li>43</li>\n",
       "\t<li>47</li>\n",
       "\t<li>53</li>\n",
       "\t<li>59</li>\n",
       "\t<li>61</li>\n",
       "\t<li>67</li>\n",
       "\t<li>71</li>\n",
       "\t<li>73</li>\n",
       "\t<li>79</li>\n",
       "\t<li>83</li>\n",
       "\t<li>89</li>\n",
       "\t<li>97</li>\n",
       "</ol>\n"
      ],
      "text/latex": [
       "\\begin{enumerate*}\n",
       "\\item 2\n",
       "\\item 3\n",
       "\\item 5\n",
       "\\item 7\n",
       "\\item 11\n",
       "\\item 13\n",
       "\\item 17\n",
       "\\item 19\n",
       "\\item 23\n",
       "\\item 29\n",
       "\\item 31\n",
       "\\item 37\n",
       "\\item 41\n",
       "\\item 43\n",
       "\\item 47\n",
       "\\item 53\n",
       "\\item 59\n",
       "\\item 61\n",
       "\\item 67\n",
       "\\item 71\n",
       "\\item 73\n",
       "\\item 79\n",
       "\\item 83\n",
       "\\item 89\n",
       "\\item 97\n",
       "\\end{enumerate*}\n"
      ],
      "text/markdown": [
       "1. 2\n",
       "2. 3\n",
       "3. 5\n",
       "4. 7\n",
       "5. 11\n",
       "6. 13\n",
       "7. 17\n",
       "8. 19\n",
       "9. 23\n",
       "10. 29\n",
       "11. 31\n",
       "12. 37\n",
       "13. 41\n",
       "14. 43\n",
       "15. 47\n",
       "16. 53\n",
       "17. 59\n",
       "18. 61\n",
       "19. 67\n",
       "20. 71\n",
       "21. 73\n",
       "22. 79\n",
       "23. 83\n",
       "24. 89\n",
       "25. 97\n",
       "\n",
       "\n"
      ],
      "text/plain": [
       " [1]  2  3  5  7 11 13 17 19 23 29 31 37 41 43 47 53 59 61 67 71 73 79 83 89 97"
      ]
     },
     "metadata": {},
     "output_type": "display_data"
    }
   ],
   "source": [
    "PrimVec(100)"
   ]
  },
  {
   "cell_type": "markdown",
   "metadata": {},
   "source": [
    "## Trabalhando com data.frames"
   ]
  },
  {
   "cell_type": "code",
   "execution_count": 71,
   "metadata": {},
   "outputs": [],
   "source": [
    "?airmiles"
   ]
  },
  {
   "cell_type": "code",
   "execution_count": 72,
   "metadata": {},
   "outputs": [
    {
     "data": {
      "text/html": [
       "<ol class=list-inline>\n",
       "\t<li>412</li>\n",
       "\t<li>480</li>\n",
       "\t<li>683</li>\n",
       "\t<li>1052</li>\n",
       "\t<li>1385</li>\n",
       "\t<li>1418</li>\n",
       "</ol>\n"
      ],
      "text/latex": [
       "\\begin{enumerate*}\n",
       "\\item 412\n",
       "\\item 480\n",
       "\\item 683\n",
       "\\item 1052\n",
       "\\item 1385\n",
       "\\item 1418\n",
       "\\end{enumerate*}\n"
      ],
      "text/markdown": [
       "1. 412\n",
       "2. 480\n",
       "3. 683\n",
       "4. 1052\n",
       "5. 1385\n",
       "6. 1418\n",
       "\n",
       "\n"
      ],
      "text/plain": [
       "[1]  412  480  683 1052 1385 1418"
      ]
     },
     "metadata": {},
     "output_type": "display_data"
    }
   ],
   "source": [
    "head(airmiles) # primeiras 6 linhas"
   ]
  },
  {
   "cell_type": "code",
   "execution_count": 73,
   "metadata": {},
   "outputs": [
    {
     "data": {
      "text/html": [
       "<ol class=list-inline>\n",
       "\t<li>412</li>\n",
       "\t<li>480</li>\n",
       "\t<li>683</li>\n",
       "</ol>\n"
      ],
      "text/latex": [
       "\\begin{enumerate*}\n",
       "\\item 412\n",
       "\\item 480\n",
       "\\item 683\n",
       "\\end{enumerate*}\n"
      ],
      "text/markdown": [
       "1. 412\n",
       "2. 480\n",
       "3. 683\n",
       "\n",
       "\n"
      ],
      "text/plain": [
       "[1] 412 480 683"
      ]
     },
     "metadata": {},
     "output_type": "display_data"
    }
   ],
   "source": [
    "head(airmiles,n=3)"
   ]
  },
  {
   "cell_type": "code",
   "execution_count": 74,
   "metadata": {},
   "outputs": [
    {
     "data": {
      "text/html": [
       "<ol class=list-inline>\n",
       "\t<li>19819</li>\n",
       "\t<li>22362</li>\n",
       "\t<li>25340</li>\n",
       "\t<li>25343</li>\n",
       "\t<li>29269</li>\n",
       "\t<li>30514</li>\n",
       "</ol>\n"
      ],
      "text/latex": [
       "\\begin{enumerate*}\n",
       "\\item 19819\n",
       "\\item 22362\n",
       "\\item 25340\n",
       "\\item 25343\n",
       "\\item 29269\n",
       "\\item 30514\n",
       "\\end{enumerate*}\n"
      ],
      "text/markdown": [
       "1. 19819\n",
       "2. 22362\n",
       "3. 25340\n",
       "4. 25343\n",
       "5. 29269\n",
       "6. 30514\n",
       "\n",
       "\n"
      ],
      "text/plain": [
       "[1] 19819 22362 25340 25343 29269 30514"
      ]
     },
     "metadata": {},
     "output_type": "display_data"
    }
   ],
   "source": [
    "tail(airmiles) # últimas 6 linhas"
   ]
  },
  {
   "cell_type": "code",
   "execution_count": 75,
   "metadata": {},
   "outputs": [
    {
     "data": {
      "text/html": [
       "<ol class=list-inline>\n",
       "\t<li>25343</li>\n",
       "\t<li>29269</li>\n",
       "\t<li>30514</li>\n",
       "</ol>\n"
      ],
      "text/latex": [
       "\\begin{enumerate*}\n",
       "\\item 25343\n",
       "\\item 29269\n",
       "\\item 30514\n",
       "\\end{enumerate*}\n"
      ],
      "text/markdown": [
       "1. 25343\n",
       "2. 29269\n",
       "3. 30514\n",
       "\n",
       "\n"
      ],
      "text/plain": [
       "[1] 25343 29269 30514"
      ]
     },
     "metadata": {},
     "output_type": "display_data"
    }
   ],
   "source": [
    "tail(airmiles,n=3)"
   ]
  },
  {
   "cell_type": "code",
   "execution_count": 76,
   "metadata": {},
   "outputs": [],
   "source": [
    "?mtcars"
   ]
  },
  {
   "cell_type": "code",
   "execution_count": 77,
   "metadata": {},
   "outputs": [
    {
     "data": {
      "text/plain": [
       "      mpg             cyl             disp             hp       \n",
       " Min.   :10.40   Min.   :4.000   Min.   : 71.1   Min.   : 52.0  \n",
       " 1st Qu.:15.43   1st Qu.:4.000   1st Qu.:120.8   1st Qu.: 96.5  \n",
       " Median :19.20   Median :6.000   Median :196.3   Median :123.0  \n",
       " Mean   :20.09   Mean   :6.188   Mean   :230.7   Mean   :146.7  \n",
       " 3rd Qu.:22.80   3rd Qu.:8.000   3rd Qu.:326.0   3rd Qu.:180.0  \n",
       " Max.   :33.90   Max.   :8.000   Max.   :472.0   Max.   :335.0  \n",
       "      drat             wt             qsec             vs        \n",
       " Min.   :2.760   Min.   :1.513   Min.   :14.50   Min.   :0.0000  \n",
       " 1st Qu.:3.080   1st Qu.:2.581   1st Qu.:16.89   1st Qu.:0.0000  \n",
       " Median :3.695   Median :3.325   Median :17.71   Median :0.0000  \n",
       " Mean   :3.597   Mean   :3.217   Mean   :17.85   Mean   :0.4375  \n",
       " 3rd Qu.:3.920   3rd Qu.:3.610   3rd Qu.:18.90   3rd Qu.:1.0000  \n",
       " Max.   :4.930   Max.   :5.424   Max.   :22.90   Max.   :1.0000  \n",
       "       am              gear            carb      \n",
       " Min.   :0.0000   Min.   :3.000   Min.   :1.000  \n",
       " 1st Qu.:0.0000   1st Qu.:3.000   1st Qu.:2.000  \n",
       " Median :0.0000   Median :4.000   Median :2.000  \n",
       " Mean   :0.4062   Mean   :3.688   Mean   :2.812  \n",
       " 3rd Qu.:1.0000   3rd Qu.:4.000   3rd Qu.:4.000  \n",
       " Max.   :1.0000   Max.   :5.000   Max.   :8.000  "
      ]
     },
     "metadata": {},
     "output_type": "display_data"
    }
   ],
   "source": [
    "summary(mtcars)"
   ]
  },
  {
   "cell_type": "code",
   "execution_count": 78,
   "metadata": {},
   "outputs": [
    {
     "data": {
      "image/png": "[encoded data removed]",
      "text/plain": [
       "plot without title"
      ]
     },
     "metadata": {},
     "output_type": "display_data"
    }
   ],
   "source": [
    "plot(mtcars)"
   ]
  },
  {
   "cell_type": "code",
   "execution_count": 79,
   "metadata": {},
   "outputs": [
    {
     "data": {
      "image/png": "[encoded data removed]",
      "text/plain": [
       "Plot with title “Histogram of airmiles”"
      ]
     },
     "metadata": {},
     "output_type": "display_data"
    }
   ],
   "source": [
    "hist(airmiles)"
   ]
  },
  {
   "cell_type": "code",
   "execution_count": 80,
   "metadata": {},
   "outputs": [
    {
     "data": {
      "text/html": [
       "<table>\n",
       "<thead><tr><th></th><th scope=col>mpg</th><th scope=col>cyl</th><th scope=col>disp</th><th scope=col>hp</th><th scope=col>drat</th><th scope=col>wt</th><th scope=col>qsec</th><th scope=col>vs</th><th scope=col>am</th><th scope=col>gear</th><th scope=col>carb</th></tr></thead>\n",
       "<tbody>\n",
       "\t<tr><th scope=row>Mazda RX4</th><td>21.0 </td><td>6    </td><td>160  </td><td>110  </td><td>3.90 </td><td>2.620</td><td>16.46</td><td>0    </td><td>1    </td><td>4    </td><td>4    </td></tr>\n",
       "\t<tr><th scope=row>Mazda RX4 Wag</th><td>21.0 </td><td>6    </td><td>160  </td><td>110  </td><td>3.90 </td><td>2.875</td><td>17.02</td><td>0    </td><td>1    </td><td>4    </td><td>4    </td></tr>\n",
       "\t<tr><th scope=row>Datsun 710</th><td>22.8 </td><td>4    </td><td>108  </td><td> 93  </td><td>3.85 </td><td>2.320</td><td>18.61</td><td>1    </td><td>1    </td><td>4    </td><td>1    </td></tr>\n",
       "\t<tr><th scope=row>Hornet 4 Drive</th><td>21.4 </td><td>6    </td><td>258  </td><td>110  </td><td>3.08 </td><td>3.215</td><td>19.44</td><td>1    </td><td>0    </td><td>3    </td><td>1    </td></tr>\n",
       "\t<tr><th scope=row>Hornet Sportabout</th><td>18.7 </td><td>8    </td><td>360  </td><td>175  </td><td>3.15 </td><td>3.440</td><td>17.02</td><td>0    </td><td>0    </td><td>3    </td><td>2    </td></tr>\n",
       "\t<tr><th scope=row>Valiant</th><td>18.1 </td><td>6    </td><td>225  </td><td>105  </td><td>2.76 </td><td>3.460</td><td>20.22</td><td>1    </td><td>0    </td><td>3    </td><td>1    </td></tr>\n",
       "</tbody>\n",
       "</table>\n"
      ],
      "text/latex": [
       "\\begin{tabular}{r|lllllllllll}\n",
       "  & mpg & cyl & disp & hp & drat & wt & qsec & vs & am & gear & carb\\\\\n",
       "\\hline\n",
       "\tMazda RX4 & 21.0  & 6     & 160   & 110   & 3.90  & 2.620 & 16.46 & 0     & 1     & 4     & 4    \\\\\n",
       "\tMazda RX4 Wag & 21.0  & 6     & 160   & 110   & 3.90  & 2.875 & 17.02 & 0     & 1     & 4     & 4    \\\\\n",
       "\tDatsun 710 & 22.8  & 4     & 108   &  93   & 3.85  & 2.320 & 18.61 & 1     & 1     & 4     & 1    \\\\\n",
       "\tHornet 4 Drive & 21.4  & 6     & 258   & 110   & 3.08  & 3.215 & 19.44 & 1     & 0     & 3     & 1    \\\\\n",
       "\tHornet Sportabout & 18.7  & 8     & 360   & 175   & 3.15  & 3.440 & 17.02 & 0     & 0     & 3     & 2    \\\\\n",
       "\tValiant & 18.1  & 6     & 225   & 105   & 2.76  & 3.460 & 20.22 & 1     & 0     & 3     & 1    \\\\\n",
       "\\end{tabular}\n"
      ],
      "text/markdown": [
       "\n",
       "| <!--/--> | mpg | cyl | disp | hp | drat | wt | qsec | vs | am | gear | carb | \n",
       "|---|---|---|---|---|---|\n",
       "| Mazda RX4 | 21.0  | 6     | 160   | 110   | 3.90  | 2.620 | 16.46 | 0     | 1     | 4     | 4     | \n",
       "| Mazda RX4 Wag | 21.0  | 6     | 160   | 110   | 3.90  | 2.875 | 17.02 | 0     | 1     | 4     | 4     | \n",
       "| Datsun 710 | 22.8  | 4     | 108   |  93   | 3.85  | 2.320 | 18.61 | 1     | 1     | 4     | 1     | \n",
       "| Hornet 4 Drive | 21.4  | 6     | 258   | 110   | 3.08  | 3.215 | 19.44 | 1     | 0     | 3     | 1     | \n",
       "| Hornet Sportabout | 18.7  | 8     | 360   | 175   | 3.15  | 3.440 | 17.02 | 0     | 0     | 3     | 2     | \n",
       "| Valiant | 18.1  | 6     | 225   | 105   | 2.76  | 3.460 | 20.22 | 1     | 0     | 3     | 1     | \n",
       "\n",
       "\n"
      ],
      "text/plain": [
       "                  mpg  cyl disp hp  drat wt    qsec  vs am gear carb\n",
       "Mazda RX4         21.0 6   160  110 3.90 2.620 16.46 0  1  4    4   \n",
       "Mazda RX4 Wag     21.0 6   160  110 3.90 2.875 17.02 0  1  4    4   \n",
       "Datsun 710        22.8 4   108   93 3.85 2.320 18.61 1  1  4    1   \n",
       "Hornet 4 Drive    21.4 6   258  110 3.08 3.215 19.44 1  0  3    1   \n",
       "Hornet Sportabout 18.7 8   360  175 3.15 3.440 17.02 0  0  3    2   \n",
       "Valiant           18.1 6   225  105 2.76 3.460 20.22 1  0  3    1   "
      ]
     },
     "metadata": {},
     "output_type": "display_data"
    }
   ],
   "source": [
    "head(mtcars)"
   ]
  },
  {
   "cell_type": "code",
   "execution_count": 81,
   "metadata": {},
   "outputs": [
    {
     "data": {
      "text/html": [
       "102.952"
      ],
      "text/latex": [
       "102.952"
      ],
      "text/markdown": [
       "102.952"
      ],
      "text/plain": [
       "[1] 102.952"
      ]
     },
     "metadata": {},
     "output_type": "display_data"
    }
   ],
   "source": [
    "sum(mtcars$wt)"
   ]
  },
  {
   "cell_type": "code",
   "execution_count": 82,
   "metadata": {},
   "outputs": [
    {
     "data": {
      "text/html": [
       "<ol class=list-inline>\n",
       "\t<li>2.62</li>\n",
       "\t<li>2.875</li>\n",
       "\t<li>2.32</li>\n",
       "\t<li>3.215</li>\n",
       "\t<li>3.44</li>\n",
       "\t<li>3.46</li>\n",
       "\t<li>3.57</li>\n",
       "\t<li>3.19</li>\n",
       "\t<li>3.15</li>\n",
       "\t<li>3.44</li>\n",
       "\t<li>3.44</li>\n",
       "\t<li>4.07</li>\n",
       "\t<li>3.73</li>\n",
       "\t<li>3.78</li>\n",
       "\t<li>5.25</li>\n",
       "\t<li>5.424</li>\n",
       "\t<li>5.345</li>\n",
       "\t<li>2.2</li>\n",
       "\t<li>1.615</li>\n",
       "\t<li>1.835</li>\n",
       "\t<li>2.465</li>\n",
       "\t<li>3.52</li>\n",
       "\t<li>3.435</li>\n",
       "\t<li>3.84</li>\n",
       "\t<li>3.845</li>\n",
       "\t<li>1.935</li>\n",
       "\t<li>2.14</li>\n",
       "\t<li>1.513</li>\n",
       "\t<li>3.17</li>\n",
       "\t<li>2.77</li>\n",
       "\t<li>3.57</li>\n",
       "\t<li>2.78</li>\n",
       "</ol>\n"
      ],
      "text/latex": [
       "\\begin{enumerate*}\n",
       "\\item 2.62\n",
       "\\item 2.875\n",
       "\\item 2.32\n",
       "\\item 3.215\n",
       "\\item 3.44\n",
       "\\item 3.46\n",
       "\\item 3.57\n",
       "\\item 3.19\n",
       "\\item 3.15\n",
       "\\item 3.44\n",
       "\\item 3.44\n",
       "\\item 4.07\n",
       "\\item 3.73\n",
       "\\item 3.78\n",
       "\\item 5.25\n",
       "\\item 5.424\n",
       "\\item 5.345\n",
       "\\item 2.2\n",
       "\\item 1.615\n",
       "\\item 1.835\n",
       "\\item 2.465\n",
       "\\item 3.52\n",
       "\\item 3.435\n",
       "\\item 3.84\n",
       "\\item 3.845\n",
       "\\item 1.935\n",
       "\\item 2.14\n",
       "\\item 1.513\n",
       "\\item 3.17\n",
       "\\item 2.77\n",
       "\\item 3.57\n",
       "\\item 2.78\n",
       "\\end{enumerate*}\n"
      ],
      "text/markdown": [
       "1. 2.62\n",
       "2. 2.875\n",
       "3. 2.32\n",
       "4. 3.215\n",
       "5. 3.44\n",
       "6. 3.46\n",
       "7. 3.57\n",
       "8. 3.19\n",
       "9. 3.15\n",
       "10. 3.44\n",
       "11. 3.44\n",
       "12. 4.07\n",
       "13. 3.73\n",
       "14. 3.78\n",
       "15. 5.25\n",
       "16. 5.424\n",
       "17. 5.345\n",
       "18. 2.2\n",
       "19. 1.615\n",
       "20. 1.835\n",
       "21. 2.465\n",
       "22. 3.52\n",
       "23. 3.435\n",
       "24. 3.84\n",
       "25. 3.845\n",
       "26. 1.935\n",
       "27. 2.14\n",
       "28. 1.513\n",
       "29. 3.17\n",
       "30. 2.77\n",
       "31. 3.57\n",
       "32. 2.78\n",
       "\n",
       "\n"
      ],
      "text/plain": [
       " [1] 2.620 2.875 2.320 3.215 3.440 3.460 3.570 3.190 3.150 3.440 3.440 4.070\n",
       "[13] 3.730 3.780 5.250 5.424 5.345 2.200 1.615 1.835 2.465 3.520 3.435 3.840\n",
       "[25] 3.845 1.935 2.140 1.513 3.170 2.770 3.570 2.780"
      ]
     },
     "metadata": {},
     "output_type": "display_data"
    }
   ],
   "source": [
    "mtcars$wt"
   ]
  },
  {
   "cell_type": "markdown",
   "metadata": {},
   "source": [
    "### Anexando data.frame a uma sessão do R"
   ]
  },
  {
   "cell_type": "code",
   "execution_count": 83,
   "metadata": {},
   "outputs": [
    {
     "data": {
      "text/html": [
       "102.952"
      ],
      "text/latex": [
       "102.952"
      ],
      "text/markdown": [
       "102.952"
      ],
      "text/plain": [
       "[1] 102.952"
      ]
     },
     "metadata": {},
     "output_type": "display_data"
    }
   ],
   "source": [
    "attach(mtcars) # anexando à sessão do ambiente do R\n",
    "sum(wt) # agora o R sabe qual data.frame usar já que ela foi previamente anexada"
   ]
  },
  {
   "cell_type": "code",
   "execution_count": 84,
   "metadata": {},
   "outputs": [],
   "source": [
    "detach(mtcars) # remove do ambiente"
   ]
  },
  {
   "cell_type": "code",
   "execution_count": 85,
   "metadata": {},
   "outputs": [
    {
     "data": {
      "text/html": [
       "2.875"
      ],
      "text/latex": [
       "2.875"
      ],
      "text/markdown": [
       "2.875"
      ],
      "text/plain": [
       "[1] 2.875"
      ]
     },
     "metadata": {},
     "output_type": "display_data"
    }
   ],
   "source": [
    "mtcars[2,6]"
   ]
  },
  {
   "cell_type": "code",
   "execution_count": 86,
   "metadata": {},
   "outputs": [
    {
     "data": {
      "text/html": [
       "<ol class=list-inline>\n",
       "\t<li>2.875</li>\n",
       "\t<li>3.44</li>\n",
       "\t<li>3.19</li>\n",
       "</ol>\n"
      ],
      "text/latex": [
       "\\begin{enumerate*}\n",
       "\\item 2.875\n",
       "\\item 3.44\n",
       "\\item 3.19\n",
       "\\end{enumerate*}\n"
      ],
      "text/markdown": [
       "1. 2.875\n",
       "2. 3.44\n",
       "3. 3.19\n",
       "\n",
       "\n"
      ],
      "text/plain": [
       "[1] 2.875 3.440 3.190"
      ]
     },
     "metadata": {},
     "output_type": "display_data"
    }
   ],
   "source": [
    "mtcars[c(2,5,8),6]"
   ]
  },
  {
   "cell_type": "code",
   "execution_count": 87,
   "metadata": {},
   "outputs": [
    {
     "data": {
      "text/html": [
       "<table>\n",
       "<thead><tr><th></th><th scope=col>hp</th><th scope=col>wt</th></tr></thead>\n",
       "<tbody>\n",
       "\t<tr><th scope=row>Mazda RX4 Wag</th><td>110  </td><td>2.875</td></tr>\n",
       "\t<tr><th scope=row>Hornet Sportabout</th><td>175  </td><td>3.440</td></tr>\n",
       "\t<tr><th scope=row>Merc 240D</th><td> 62  </td><td>3.190</td></tr>\n",
       "</tbody>\n",
       "</table>\n"
      ],
      "text/latex": [
       "\\begin{tabular}{r|ll}\n",
       "  & hp & wt\\\\\n",
       "\\hline\n",
       "\tMazda RX4 Wag & 110   & 2.875\\\\\n",
       "\tHornet Sportabout & 175   & 3.440\\\\\n",
       "\tMerc 240D &  62   & 3.190\\\\\n",
       "\\end{tabular}\n"
      ],
      "text/markdown": [
       "\n",
       "| <!--/--> | hp | wt | \n",
       "|---|---|---|\n",
       "| Mazda RX4 Wag | 110   | 2.875 | \n",
       "| Hornet Sportabout | 175   | 3.440 | \n",
       "| Merc 240D |  62   | 3.190 | \n",
       "\n",
       "\n"
      ],
      "text/plain": [
       "                  hp  wt   \n",
       "Mazda RX4 Wag     110 2.875\n",
       "Hornet Sportabout 175 3.440\n",
       "Merc 240D          62 3.190"
      ]
     },
     "metadata": {},
     "output_type": "display_data"
    }
   ],
   "source": [
    "mtcars[c(2,5,8),c(4,6)]"
   ]
  },
  {
   "cell_type": "markdown",
   "metadata": {},
   "source": [
    "## Grafos em R"
   ]
  },
  {
   "cell_type": "code",
   "execution_count": null,
   "metadata": {},
   "outputs": [],
   "source": []
  },
  {
   "cell_type": "markdown",
   "metadata": {},
   "source": [
    "## Instalando Pacotes\n",
    "\n",
    "Quando instalamos pacotes no R ele encontra as dependências necessárias e faz o download delas também. O R conta com pacotes nativos e de terceiros. Para listar os pacotes instalados podemos usar o comando `installed.packages()`"
   ]
  },
  {
   "cell_type": "code",
   "execution_count": 91,
   "metadata": {
    "scrolled": false
   },
   "outputs": [
    {
     "data": {
      "text/html": [
       "<table>\n",
       "<thead><tr><th></th><th scope=col>Package</th><th scope=col>LibPath</th><th scope=col>Version</th><th scope=col>Priority</th><th scope=col>Depends</th><th scope=col>Imports</th><th scope=col>LinkingTo</th><th scope=col>Suggests</th><th scope=col>Enhances</th><th scope=col>License</th><th scope=col>License_is_FOSS</th><th scope=col>License_restricts_use</th><th scope=col>OS_type</th><th scope=col>MD5sum</th><th scope=col>NeedsCompilation</th><th scope=col>Built</th></tr></thead>\n",
       "<tbody>\n",
       "\t<tr><th scope=row>base64enc</th><td>base64enc                                                                                                                                                                                                                                                    </td><td>/home/thalessilva/R/x86_64-pc-linux-gnu-library/3.2                                                                                                                                                                                                          </td><td>0.1-3                                                                                                                                                                                                                                                        </td><td>NA                                                                                                                                                                                                                                                           </td><td>R (&gt;= 2.9.0)                                                                                                                                                                                                                                              </td><td><span style=white-space:pre-wrap>NA                                                                                                                                           </span>                                                                        </td><td>NA                                                                                                                                                                                                                                                           </td><td><span style=white-space:pre-wrap>NA                                                                                                                                                                                                                   </span></td><td>png                                                                                                                                                                                                                                                          </td><td><span style=white-space:pre-wrap>GPL-2 | GPL-3     </span>                                                                                                                                                                                                   </td><td>NA                                                                                                                                                                                                                                                           </td><td>NA                                                                                                                                                                                                                                                           </td><td>NA                                                                                                                                                                                                                                                           </td><td>NA                                                                                                                                                                                                                                                           </td><td>yes                                                                                                                                                                                                                                                          </td><td>3.2.3                                                                                                                                                                                                                                                        </td></tr>\n",
       "\t<tr><th scope=row>crayon</th><td>crayon                                                                                                                                                                                                               </td><td>/home/thalessilva/R/x86_64-pc-linux-gnu-library/3.2                                                                                                                                                                  </td><td>1.3.4                                                                                                                                                                                                                </td><td>NA                                                                                                                                                                                                                   </td><td>NA                                                                                                                                                                                                                   </td><td>grDevices, methods, utils                                                                                                                                                                                            </td><td>NA                                                                                                                                                                                                                   </td><td>mockery, rstudioapi, testthat, withr                                                                                                                                                                                 </td><td>NA                                                                                                                                                                                                                   </td><td>MIT + file LICENSE                                                                                                                                                                                                   </td><td>NA                                                                                                                                                                                                                   </td><td>NA                                                                                                                                                                                                                   </td><td>NA                                                                                                                                                                                                                   </td><td>NA                                                                                                                                                                                                                   </td><td>no                                                                                                                                                                                                                   </td><td>3.2.3                                                                                                                                                                                                                </td></tr>\n",
       "\t<tr><th scope=row>curl</th><td><span style=white-space:pre-wrap>curl     </span>                                                                                                                                                                                                               </td><td>/home/thalessilva/R/x86_64-pc-linux-gnu-library/3.2                                                                                                                                                                                                             </td><td><span style=white-space:pre-wrap>3.2   </span>                                                                                                                                                                                                                  </td><td>NA                                                                                                                                                                                                                                                              </td><td>R (&gt;= 3.0.0)                                                                                                                                                                                                                                                 </td><td><span style=white-space:pre-wrap>NA                                                                                                                                           </span>                                                                           </td><td>NA                                                                                                                                                                                                                                                              </td><td><span style=white-space:pre-wrap>spelling, testthat (&gt;= 1.0.0), knitr, jsonlite, rmarkdown,\n",
       "magrittr, httpuv, webutils                                                                                                                               </span></td><td>NA                                                                                                                                                                                                                                                              </td><td>MIT + file LICENSE                                                                                                                                                                                                                                              </td><td>NA                                                                                                                                                                                                                                                              </td><td>NA                                                                                                                                                                                                                                                              </td><td>NA                                                                                                                                                                                                                                                              </td><td>NA                                                                                                                                                                                                                                                              </td><td>yes                                                                                                                                                                                                                                                             </td><td>3.2.3                                                                                                                                                                                                                                                           </td></tr>\n",
       "\t<tr><th scope=row>devtools</th><td>devtools                                                                                                                                                                                                                                  </td><td>/home/thalessilva/R/x86_64-pc-linux-gnu-library/3.2                                                                                                                                                                                       </td><td>1.13.6                                                                                                                                                                                                                                    </td><td>NA                                                                                                                                                                                                                                        </td><td>R (&gt;= 3.0.2)                                                                                                                                                                                                                           </td><td>httr (&gt;= 0.4), utils, tools, methods, memoise (&gt;= 1.0.0),\n",
       "whisker, digest, rstudioapi (&gt;= 0.2.0), jsonlite, stats, git2r\n",
       "(&gt;= 0.11.0), withr                                                                                 </td><td>NA                                                                                                                                                                                                                                        </td><td>curl (&gt;= 0.9), crayon, testthat (&gt;= 1.0.2), BiocInstaller,\n",
       "Rcpp (&gt;= 0.10.0), MASS, rmarkdown, knitr, hunspell (&gt;= 2.0),\n",
       "lintr (&gt;= 0.2.1), bitops, roxygen2 (&gt;= 5.0.0), evaluate,\n",
       "rversions, covr, gmailr (&gt; 0.7.0)</td><td>NA                                                                                                                                                                                                                                        </td><td><span style=white-space:pre-wrap>GPL (&gt;= 2)        </span>                                                                                                                                                                             </td><td>NA                                                                                                                                                                                                                                        </td><td>NA                                                                                                                                                                                                                                        </td><td>NA                                                                                                                                                                                                                                        </td><td>NA                                                                                                                                                                                                                                        </td><td>no                                                                                                                                                                                                                                        </td><td>3.2.3                                                                                                                                                                                                                                     </td></tr>\n",
       "\t<tr><th scope=row>digest</th><td><span style=white-space:pre-wrap>digest   </span>                                                                                                                                                                                                            </td><td>/home/thalessilva/R/x86_64-pc-linux-gnu-library/3.2                                                                                                                                                                                                          </td><td>0.6.15                                                                                                                                                                                                                                                       </td><td>NA                                                                                                                                                                                                                                                           </td><td>R (&gt;= 2.4.1)                                                                                                                                                                                                                                              </td><td><span style=white-space:pre-wrap>NA                                                                                                                                           </span>                                                                        </td><td>NA                                                                                                                                                                                                                                                           </td><td><span style=white-space:pre-wrap>knitr, rmarkdown                                                                                                                                                                                                     </span></td><td>NA                                                                                                                                                                                                                                                           </td><td><span style=white-space:pre-wrap>GPL (&gt;= 2)        </span>                                                                                                                                                                                                </td><td>NA                                                                                                                                                                                                                                                           </td><td>NA                                                                                                                                                                                                                                                           </td><td>NA                                                                                                                                                                                                                                                           </td><td>NA                                                                                                                                                                                                                                                           </td><td>yes                                                                                                                                                                                                                                                          </td><td>3.2.3                                                                                                                                                                                                                                                        </td></tr>\n",
       "\t<tr><th scope=row>evaluate</th><td>evaluate                                                                                                                                                                                                                                                     </td><td>/home/thalessilva/R/x86_64-pc-linux-gnu-library/3.2                                                                                                                                                                                                          </td><td>0.10.1                                                                                                                                                                                                                                                       </td><td>NA                                                                                                                                                                                                                                                           </td><td>R (&gt;= 3.0.2)                                                                                                                                                                                                                                              </td><td><span style=white-space:pre-wrap>methods, stringr (&gt;= 0.6.2)                                                                                                                  </span>                                                                     </td><td>NA                                                                                                                                                                                                                                                           </td><td><span style=white-space:pre-wrap>testthat, lattice, ggplot2                                                                                                                                                                                           </span></td><td>NA                                                                                                                                                                                                                                                           </td><td>MIT + file LICENSE                                                                                                                                                                                                                                           </td><td>NA                                                                                                                                                                                                                                                           </td><td>NA                                                                                                                                                                                                                                                           </td><td>NA                                                                                                                                                                                                                                                           </td><td>NA                                                                                                                                                                                                                                                           </td><td>no                                                                                                                                                                                                                                                           </td><td>3.2.3                                                                                                                                                                                                                                                        </td></tr>\n",
       "</tbody>\n",
       "</table>\n"
      ],
      "text/latex": [
       "\\begin{tabular}{r|llllllllllllllll}\n",
       "  & Package & LibPath & Version & Priority & Depends & Imports & LinkingTo & Suggests & Enhances & License & License\\_is\\_FOSS & License\\_restricts\\_use & OS\\_type & MD5sum & NeedsCompilation & Built\\\\\n",
       "\\hline\n",
       "\tbase64enc & base64enc                                                                                                                                                                                                             & /home/thalessilva/R/x86\\_64-pc-linux-gnu-library/3.2                                                                                                                                                                 & 0.1-3                                                                                                                                                                                                                 & NA                                                                                                                                                                                                                    & R (>= 2.9.0)                                                                                                                                                                                                          & NA                                                                                                                                                                                                                    & NA                                                                                                                                                                                                                    & NA                                                                                                                                                                                                                    & png                                                                                                                                                                                                                   & GPL-2 \\textbar{} GPL-3                                                                                                                                                                                               & NA                                                                                                                                                                                                                    & NA                                                                                                                                                                                                                    & NA                                                                                                                                                                                                                    & NA                                                                                                                                                                                                                    & yes                                                                                                                                                                                                                   & 3.2.3                                                                                                                                                                                                                \\\\\n",
       "\tcrayon & crayon                                                                                                                                                                                                                & /home/thalessilva/R/x86\\_64-pc-linux-gnu-library/3.2                                                                                                                                                                 & 1.3.4                                                                                                                                                                                                                 & NA                                                                                                                                                                                                                    & NA                                                                                                                                                                                                                    & grDevices, methods, utils                                                                                                                                                                                             & NA                                                                                                                                                                                                                    & mockery, rstudioapi, testthat, withr                                                                                                                                                                                  & NA                                                                                                                                                                                                                    & MIT + file LICENSE                                                                                                                                                                                                    & NA                                                                                                                                                                                                                    & NA                                                                                                                                                                                                                    & NA                                                                                                                                                                                                                    & NA                                                                                                                                                                                                                    & no                                                                                                                                                                                                                    & 3.2.3                                                                                                                                                                                                                \\\\\n",
       "\tcurl & curl                                                                                                                                                                                                                  & /home/thalessilva/R/x86\\_64-pc-linux-gnu-library/3.2                                                                                                                                                                 & 3.2                                                                                                                                                                                                                   & NA                                                                                                                                                                                                                    & R (>= 3.0.0)                                                                                                                                                                                                          & NA                                                                                                                                                                                                                    & NA                                                                                                                                                                                                                    & spelling, testthat (>= 1.0.0), knitr, jsonlite, rmarkdown,\n",
       "magrittr, httpuv, webutils                                                                                                                                & NA                                                                                                                                                                                                                    & MIT + file LICENSE                                                                                                                                                                                                    & NA                                                                                                                                                                                                                    & NA                                                                                                                                                                                                                    & NA                                                                                                                                                                                                                    & NA                                                                                                                                                                                                                    & yes                                                                                                                                                                                                                   & 3.2.3                                                                                                                                                                                                                \\\\\n",
       "\tdevtools & devtools                                                                                                                                                                                                              & /home/thalessilva/R/x86\\_64-pc-linux-gnu-library/3.2                                                                                                                                                                 & 1.13.6                                                                                                                                                                                                                & NA                                                                                                                                                                                                                    & R (>= 3.0.2)                                                                                                                                                                                                          & httr (>= 0.4), utils, tools, methods, memoise (>= 1.0.0),\n",
       "whisker, digest, rstudioapi (>= 0.2.0), jsonlite, stats, git2r\n",
       "(>= 0.11.0), withr                                                                         & NA                                                                                                                                                                                                                    & curl (>= 0.9), crayon, testthat (>= 1.0.2), BiocInstaller,\n",
       "Rcpp (>= 0.10.0), MASS, rmarkdown, knitr, hunspell (>= 2.0),\n",
       "lintr (>= 0.2.1), bitops, roxygen2 (>= 5.0.0), evaluate,\n",
       "rversions, covr, gmailr (> 0.7.0) & NA                                                                                                                                                                                                                    & GPL (>= 2)                                                                                                                                                                                                            & NA                                                                                                                                                                                                                    & NA                                                                                                                                                                                                                    & NA                                                                                                                                                                                                                    & NA                                                                                                                                                                                                                    & no                                                                                                                                                                                                                    & 3.2.3                                                                                                                                                                                                                \\\\\n",
       "\tdigest & digest                                                                                                                                                                                                                & /home/thalessilva/R/x86\\_64-pc-linux-gnu-library/3.2                                                                                                                                                                 & 0.6.15                                                                                                                                                                                                                & NA                                                                                                                                                                                                                    & R (>= 2.4.1)                                                                                                                                                                                                          & NA                                                                                                                                                                                                                    & NA                                                                                                                                                                                                                    & knitr, rmarkdown                                                                                                                                                                                                      & NA                                                                                                                                                                                                                    & GPL (>= 2)                                                                                                                                                                                                            & NA                                                                                                                                                                                                                    & NA                                                                                                                                                                                                                    & NA                                                                                                                                                                                                                    & NA                                                                                                                                                                                                                    & yes                                                                                                                                                                                                                   & 3.2.3                                                                                                                                                                                                                \\\\\n",
       "\tevaluate & evaluate                                                                                                                                                                                                              & /home/thalessilva/R/x86\\_64-pc-linux-gnu-library/3.2                                                                                                                                                                 & 0.10.1                                                                                                                                                                                                                & NA                                                                                                                                                                                                                    & R (>= 3.0.2)                                                                                                                                                                                                          & methods, stringr (>= 0.6.2)                                                                                                                                                                                           & NA                                                                                                                                                                                                                    & testthat, lattice, ggplot2                                                                                                                                                                                            & NA                                                                                                                                                                                                                    & MIT + file LICENSE                                                                                                                                                                                                    & NA                                                                                                                                                                                                                    & NA                                                                                                                                                                                                                    & NA                                                                                                                                                                                                                    & NA                                                                                                                                                                                                                    & no                                                                                                                                                                                                                    & 3.2.3                                                                                                                                                                                                                \\\\\n",
       "\\end{tabular}\n"
      ],
      "text/markdown": [
       "\n",
       "| <!--/--> | Package | LibPath | Version | Priority | Depends | Imports | LinkingTo | Suggests | Enhances | License | License_is_FOSS | License_restricts_use | OS_type | MD5sum | NeedsCompilation | Built | \n",
       "|---|---|---|---|---|---|\n",
       "| base64enc | base64enc                                                                                                                                                                                                             | /home/thalessilva/R/x86_64-pc-linux-gnu-library/3.2                                                                                                                                                                   | 0.1-3                                                                                                                                                                                                                 | NA                                                                                                                                                                                                                    | R (>= 2.9.0)                                                                                                                                                                                                          | NA                                                                                                                                                                                                                    | NA                                                                                                                                                                                                                    | NA                                                                                                                                                                                                                    | png                                                                                                                                                                                                                   | GPL-2 | GPL-3                                                                                                                                                                                                         | NA                                                                                                                                                                                                                    | NA                                                                                                                                                                                                                    | NA                                                                                                                                                                                                                    | NA                                                                                                                                                                                                                    | yes                                                                                                                                                                                                                   | 3.2.3                                                                                                                                                                                                                 | \n",
       "| crayon | crayon                                                                                                                                                                                                                | /home/thalessilva/R/x86_64-pc-linux-gnu-library/3.2                                                                                                                                                                   | 1.3.4                                                                                                                                                                                                                 | NA                                                                                                                                                                                                                    | NA                                                                                                                                                                                                                    | grDevices, methods, utils                                                                                                                                                                                             | NA                                                                                                                                                                                                                    | mockery, rstudioapi, testthat, withr                                                                                                                                                                                  | NA                                                                                                                                                                                                                    | MIT + file LICENSE                                                                                                                                                                                                    | NA                                                                                                                                                                                                                    | NA                                                                                                                                                                                                                    | NA                                                                                                                                                                                                                    | NA                                                                                                                                                                                                                    | no                                                                                                                                                                                                                    | 3.2.3                                                                                                                                                                                                                 | \n",
       "| curl | curl                                                                                                                                                                                                                  | /home/thalessilva/R/x86_64-pc-linux-gnu-library/3.2                                                                                                                                                                   | 3.2                                                                                                                                                                                                                   | NA                                                                                                                                                                                                                    | R (>= 3.0.0)                                                                                                                                                                                                          | NA                                                                                                                                                                                                                    | NA                                                                                                                                                                                                                    | spelling, testthat (>= 1.0.0), knitr, jsonlite, rmarkdown,\n",
       "magrittr, httpuv, webutils                                                                                                                                | NA                                                                                                                                                                                                                    | MIT + file LICENSE                                                                                                                                                                                                    | NA                                                                                                                                                                                                                    | NA                                                                                                                                                                                                                    | NA                                                                                                                                                                                                                    | NA                                                                                                                                                                                                                    | yes                                                                                                                                                                                                                   | 3.2.3                                                                                                                                                                                                                 | \n",
       "| devtools | devtools                                                                                                                                                                                                              | /home/thalessilva/R/x86_64-pc-linux-gnu-library/3.2                                                                                                                                                                   | 1.13.6                                                                                                                                                                                                                | NA                                                                                                                                                                                                                    | R (>= 3.0.2)                                                                                                                                                                                                          | httr (>= 0.4), utils, tools, methods, memoise (>= 1.0.0),\n",
       "whisker, digest, rstudioapi (>= 0.2.0), jsonlite, stats, git2r\n",
       "(>= 0.11.0), withr                                                                         | NA                                                                                                                                                                                                                    | curl (>= 0.9), crayon, testthat (>= 1.0.2), BiocInstaller,\n",
       "Rcpp (>= 0.10.0), MASS, rmarkdown, knitr, hunspell (>= 2.0),\n",
       "lintr (>= 0.2.1), bitops, roxygen2 (>= 5.0.0), evaluate,\n",
       "rversions, covr, gmailr (> 0.7.0) | NA                                                                                                                                                                                                                    | GPL (>= 2)                                                                                                                                                                                                            | NA                                                                                                                                                                                                                    | NA                                                                                                                                                                                                                    | NA                                                                                                                                                                                                                    | NA                                                                                                                                                                                                                    | no                                                                                                                                                                                                                    | 3.2.3                                                                                                                                                                                                                 | \n",
       "| digest | digest                                                                                                                                                                                                                | /home/thalessilva/R/x86_64-pc-linux-gnu-library/3.2                                                                                                                                                                   | 0.6.15                                                                                                                                                                                                                | NA                                                                                                                                                                                                                    | R (>= 2.4.1)                                                                                                                                                                                                          | NA                                                                                                                                                                                                                    | NA                                                                                                                                                                                                                    | knitr, rmarkdown                                                                                                                                                                                                      | NA                                                                                                                                                                                                                    | GPL (>= 2)                                                                                                                                                                                                            | NA                                                                                                                                                                                                                    | NA                                                                                                                                                                                                                    | NA                                                                                                                                                                                                                    | NA                                                                                                                                                                                                                    | yes                                                                                                                                                                                                                   | 3.2.3                                                                                                                                                                                                                 | \n",
       "| evaluate | evaluate                                                                                                                                                                                                              | /home/thalessilva/R/x86_64-pc-linux-gnu-library/3.2                                                                                                                                                                   | 0.10.1                                                                                                                                                                                                                | NA                                                                                                                                                                                                                    | R (>= 3.0.2)                                                                                                                                                                                                          | methods, stringr (>= 0.6.2)                                                                                                                                                                                           | NA                                                                                                                                                                                                                    | testthat, lattice, ggplot2                                                                                                                                                                                            | NA                                                                                                                                                                                                                    | MIT + file LICENSE                                                                                                                                                                                                    | NA                                                                                                                                                                                                                    | NA                                                                                                                                                                                                                    | NA                                                                                                                                                                                                                    | NA                                                                                                                                                                                                                    | no                                                                                                                                                                                                                    | 3.2.3                                                                                                                                                                                                                 | \n",
       "\n",
       "\n"
      ],
      "text/plain": [
       "          Package   LibPath                                             Version\n",
       "base64enc base64enc /home/thalessilva/R/x86_64-pc-linux-gnu-library/3.2 0.1-3  \n",
       "crayon    crayon    /home/thalessilva/R/x86_64-pc-linux-gnu-library/3.2 1.3.4  \n",
       "curl      curl      /home/thalessilva/R/x86_64-pc-linux-gnu-library/3.2 3.2    \n",
       "devtools  devtools  /home/thalessilva/R/x86_64-pc-linux-gnu-library/3.2 1.13.6 \n",
       "digest    digest    /home/thalessilva/R/x86_64-pc-linux-gnu-library/3.2 0.6.15 \n",
       "evaluate  evaluate  /home/thalessilva/R/x86_64-pc-linux-gnu-library/3.2 0.10.1 \n",
       "          Priority Depends     \n",
       "base64enc NA       R (>= 2.9.0)\n",
       "crayon    NA       NA          \n",
       "curl      NA       R (>= 3.0.0)\n",
       "devtools  NA       R (>= 3.0.2)\n",
       "digest    NA       R (>= 2.4.1)\n",
       "evaluate  NA       R (>= 3.0.2)\n",
       "          Imports                                                                                                                                      \n",
       "base64enc NA                                                                                                                                           \n",
       "crayon    grDevices, methods, utils                                                                                                                    \n",
       "curl      NA                                                                                                                                           \n",
       "devtools  httr (>= 0.4), utils, tools, methods, memoise (>= 1.0.0),\\nwhisker, digest, rstudioapi (>= 0.2.0), jsonlite, stats, git2r\\n(>= 0.11.0), withr\n",
       "digest    NA                                                                                                                                           \n",
       "evaluate  methods, stringr (>= 0.6.2)                                                                                                                  \n",
       "          LinkingTo\n",
       "base64enc NA       \n",
       "crayon    NA       \n",
       "curl      NA       \n",
       "devtools  NA       \n",
       "digest    NA       \n",
       "evaluate  NA       \n",
       "          Suggests                                                                                                                                                                                                             \n",
       "base64enc NA                                                                                                                                                                                                                   \n",
       "crayon    mockery, rstudioapi, testthat, withr                                                                                                                                                                                 \n",
       "curl      spelling, testthat (>= 1.0.0), knitr, jsonlite, rmarkdown,\\nmagrittr, httpuv, webutils                                                                                                                               \n",
       "devtools  curl (>= 0.9), crayon, testthat (>= 1.0.2), BiocInstaller,\\nRcpp (>= 0.10.0), MASS, rmarkdown, knitr, hunspell (>= 2.0),\\nlintr (>= 0.2.1), bitops, roxygen2 (>= 5.0.0), evaluate,\\nrversions, covr, gmailr (> 0.7.0)\n",
       "digest    knitr, rmarkdown                                                                                                                                                                                                     \n",
       "evaluate  testthat, lattice, ggplot2                                                                                                                                                                                           \n",
       "          Enhances License            License_is_FOSS License_restricts_use\n",
       "base64enc png      GPL-2 | GPL-3      NA              NA                   \n",
       "crayon    NA       MIT + file LICENSE NA              NA                   \n",
       "curl      NA       MIT + file LICENSE NA              NA                   \n",
       "devtools  NA       GPL (>= 2)         NA              NA                   \n",
       "digest    NA       GPL (>= 2)         NA              NA                   \n",
       "evaluate  NA       MIT + file LICENSE NA              NA                   \n",
       "          OS_type MD5sum NeedsCompilation Built\n",
       "base64enc NA      NA     yes              3.2.3\n",
       "crayon    NA      NA     no               3.2.3\n",
       "curl      NA      NA     yes              3.2.3\n",
       "devtools  NA      NA     no               3.2.3\n",
       "digest    NA      NA     yes              3.2.3\n",
       "evaluate  NA      NA     no               3.2.3"
      ]
     },
     "metadata": {},
     "output_type": "display_data"
    }
   ],
   "source": [
    "head(installed.packages())"
   ]
  },
  {
   "cell_type": "code",
   "execution_count": 93,
   "metadata": {},
   "outputs": [
    {
     "name": "stderr",
     "output_type": "stream",
     "text": [
      "Installing package into ‘/home/thalessilva/R/x86_64-pc-linux-gnu-library/3.2’\n",
      "(as ‘lib’ is unspecified)\n"
     ]
    },
    {
     "name": "stdout",
     "output_type": "stream",
     "text": [
      "\n",
      "The downloaded source packages are in\n",
      "\t‘/tmp/Rtmp59C4AS/downloaded_packages’\n"
     ]
    }
   ],
   "source": [
    "# para instalar um novo pacote podemos rodar o comando\n",
    "install.packages(\"tabuSearch\")"
   ]
  },
  {
   "cell_type": "code",
   "execution_count": 2,
   "metadata": {},
   "outputs": [],
   "source": [
    "# para começar a usar uma biblioteca no código precisamos inicializa-la (após conferir que a mesma está instalada)\n",
    "library(tabuSearch)"
   ]
  },
  {
   "cell_type": "code",
   "execution_count": 3,
   "metadata": {},
   "outputs": [],
   "source": [
    "# o mesmo pode ser alcançado através do require\n",
    "require(tabuSearch)"
   ]
  },
  {
   "cell_type": "code",
   "execution_count": null,
   "metadata": {},
   "outputs": [],
   "source": []
  },
  {
   "cell_type": "markdown",
   "metadata": {},
   "source": [
    "# Inteligência Artificial Forte x Fraca\n",
    "\n",
    "Uma IA pode ser classificada como **forte** ou **fraca** de acordo com certas características quando comparadas com a inteligência humana segundo John Searle:\n",
    "\n",
    "## IA Forte\n",
    "\n",
    "São inteligências ainda muito discutidas como utópicas e que ainda geram muitas discussões filosóficas e filmes de ficção científica. Esta IA, teoricamente, seria capaz de imitar um ser humano em sua totalidade (ou quase isso) podendo sentir, se expressar e até se rebelar.\n",
    "\n",
    "## IA Fraca\n",
    "\n",
    "São aplicações que simulam algumas das características humanas e resolvem problemas específicos. Este tipo de IA já é uma realidade e vem evoluindo cada vez mais sua aplicação, como carros autônomos, reconhecimento de textos manuscritos, etc.\n",
    "\n",
    "# Testes de Inteligência Computacional\n",
    "\n",
    "Testes clássicos propostos na história da computação para estudos de inteligência artificial.\n",
    "\n",
    "## Teste de Turing\n",
    "\n",
    "Serve para testar se um computador **é de fato inteligente ou não**. Esse teste não *mede* a inteligência do mesmo.\n",
    "\n",
    "O teste é feito com 3 agentes: 1 *computador* e 2 humanos, sendo um dos humanos o juiz. Os três agentes ficam isolados uns dos outros e o humano juiz começa a interagir com o computador e o outro humano um de cada vez. Se o juiz não conseguir distinguir com quem ele está interagindo, o computador é considerado *inteligente*.\n",
    "\n",
    "## Quarto Chinês\n",
    "\n",
    "Trata-se de uma experiência proposta por John Searle, onde em um quarto há uma pessoa que recebe mensagens de fora através de um papel passado por uma fresta. A pessoa no quarto tem com ela uma biblioteca e pode consultar o que fazer com as mensagens recebidas para responder apropriadamente. Uma vez elaborada a resposta, ela devolve uma mensagem num papel pela mesma fresta de onde recebeu a externa.\n",
    "\n",
    "Digamos então que as mensagens enviadas para dentro do quarto estão em chinês. E que as mensagens de resposta que saem de dentro dele também assim estejam. Para todos os agentes de fora pode parecer que quem está lá dentro sabe o idioma, mas na verdade a pessoa dentro do quarto só está seguindo instruções de sua biblioteca.\n",
    "\n",
    "Essa pessoa de dentro do quarto pode então ser comparada a um computador, que é capaz de seguir regras muito bem, porém nunca de fato saberá chinês.\n",
    "\n",
    "# Algoritmos\n",
    "\n",
    "## Tabu Search\n",
    "\n",
    "Baseia-se em evitar \"tabus\" para o algoritmo. *Tabus* são estados \"proibidos\" que o algoritmo mapeia e evita a fim de melhorar um desgaste computacional.\n",
    "\n",
    "### Problema da Loja 711\n",
    "\n",
    "A fim de descobrir quais itens da loja um cliente está querendo devolver, o caixa de uma loja pode acessar somente o histórico de valor total de vendas disposto de duas formas:\n",
    "\n",
    "- multiplicação dos valores;\n",
    "- soma dos valores.\n",
    "\n",
    "Porém ao conferir, ambas as operações sobre os valores dos itens resolvidos resultaram em *R\\$ 7,11*. Precisamos então descobrir quais itens que têm valores que ao somarmos ou multiplicarmos chegamos ao total de *7,11*. Para isso temos acesso a lista de 12 itens à venda na loja:\n",
    "\n",
    "- Blusa: R\\$ 1,10;\n",
    "- Camisa: R\\$ 1,20;\n",
    "- Calça: R\\$ 1,25;\n",
    "- Casaco: R\\$ 1,41;\n",
    "- Blusão: R\\$ 1,50;\n",
    "- Jeans: R\\$ 1,63;\n",
    "- Jaqueta: R\\$ 2,05;\n",
    "- Macacão: R\\$ 2,22;\n",
    "- Saia: R\\$ 2,65;\n",
    "- Saruel: R\\$ 2,90;\n",
    "- Short: R\\$ 3,04;\n",
    "- Suéter: R\\$ 3,16.\n",
    "\n",
    "**NOTA:** Não sabemos a quantidade de itens devolvidos."
   ]
  },
  {
   "cell_type": "code",
   "execution_count": null,
   "metadata": {},
   "outputs": [],
   "source": [
    "valores = c(1.1)"
   ]
  },
  {
   "cell_type": "markdown",
   "metadata": {},
   "source": [
    "## Simulated Annealing (Arrefecimento Simulado)\n",
    "\n",
    "Baseia-se no processo de temperar aço, onde é necessario aquecer e resfriar o mesmo várias vezes para que se torne mais resistente (temperado). Existe um estado imposto ao problema que se denomina *\"temperatura\"*. Ele é alterado dinamicamente a cada execução do laço princiapl do algoritmo. Com a *temperatura* **alta** o algoritmo foca na exploração total do seu conjunto universo, podendo inclusive aceitar um novo estado que não melhore ou piore sua função objetivo. Com a *temperatura* **baixa** o algoritmo para de explorar e converge para a próxima solução local que encontrar."
   ]
  },
  {
   "cell_type": "code",
   "execution_count": null,
   "metadata": {},
   "outputs": [],
   "source": []
  }
 ],
 "metadata": {
  "kernelspec": {
   "display_name": "R",
   "language": "R",
   "name": "ir"
  },
  "language_info": {
   "codemirror_mode": "r",
   "file_extension": ".r",
   "mimetype": "text/x-r-source",
   "name": "R",
   "pygments_lexer": "r",
   "version": "3.2.3"
  }
 },
 "nbformat": 4,
 "nbformat_minor": 2
}
