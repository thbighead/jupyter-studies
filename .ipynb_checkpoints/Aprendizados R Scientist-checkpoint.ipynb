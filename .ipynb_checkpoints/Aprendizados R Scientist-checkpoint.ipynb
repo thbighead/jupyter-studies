{
 "cells": [
  {
   "cell_type": "markdown",
   "metadata": {},
   "source": [
    "# R"
   ]
  },
  {
   "cell_type": "code",
   "execution_count": 4,
   "metadata": {},
   "outputs": [
    {
     "data": {
      "text/html": [
       "<ol class=list-inline>\n",
       "\t<li>5</li>\n",
       "\t<li>6</li>\n",
       "\t<li>7</li>\n",
       "\t<li>8</li>\n",
       "\t<li>9</li>\n",
       "\t<li>10</li>\n",
       "</ol>\n"
      ],
      "text/latex": [
       "\\begin{enumerate*}\n",
       "\\item 5\n",
       "\\item 6\n",
       "\\item 7\n",
       "\\item 8\n",
       "\\item 9\n",
       "\\item 10\n",
       "\\end{enumerate*}\n"
      ],
      "text/markdown": [
       "1. 5\n",
       "2. 6\n",
       "3. 7\n",
       "4. 8\n",
       "5. 9\n",
       "6. 10\n",
       "\n",
       "\n"
      ],
      "text/plain": [
       "[1]  5  6  7  8  9 10"
      ]
     },
     "metadata": {},
     "output_type": "display_data"
    }
   ],
   "source": [
    "# vector incluem seus extremos!\n",
    "myfirstobject = 5:10;\n",
    "myfirstobject;"
   ]
  },
  {
   "cell_type": "code",
   "execution_count": 5,
   "metadata": {},
   "outputs": [
    {
     "data": {
      "text/html": [
       "5"
      ],
      "text/latex": [
       "5"
      ],
      "text/markdown": [
       "5"
      ],
      "text/plain": [
       "[1] 5"
      ]
     },
     "metadata": {},
     "output_type": "display_data"
    }
   ],
   "source": [
    "# a indexação é iniciada em 1\n",
    "myfirstobject[1];"
   ]
  },
  {
   "cell_type": "code",
   "execution_count": 6,
   "metadata": {},
   "outputs": [
    {
     "data": {
      "image/png": "[encoded data removed]",
      "text/plain": [
       "plot without title"
      ]
     },
     "metadata": {},
     "output_type": "display_data"
    }
   ],
   "source": [
    "plot(myfirstobject)"
   ]
  },
  {
   "cell_type": "code",
   "execution_count": 7,
   "metadata": {},
   "outputs": [],
   "source": [
    "# podemos configurar o seed para criar pseudo-aleatórios\n",
    "set.seed(65)"
   ]
  },
  {
   "cell_type": "code",
   "execution_count": 8,
   "metadata": {
    "scrolled": false
   },
   "outputs": [
    {
     "data": {
      "text/html": [
       "<ol class=list-inline>\n",
       "\t<li>3.34706475678831</li>\n",
       "\t<li>5.06408995902166</li>\n",
       "\t<li>3.51189851481467</li>\n",
       "\t<li>3.12805012660101</li>\n",
       "\t<li>4.82921416754834</li>\n",
       "\t<li>3.80121878650971</li>\n",
       "\t<li>3.22271162085235</li>\n",
       "\t<li>4.56835826975293</li>\n",
       "\t<li>5.38308730744757</li>\n",
       "</ol>\n"
      ],
      "text/latex": [
       "\\begin{enumerate*}\n",
       "\\item 3.34706475678831\n",
       "\\item 5.06408995902166\n",
       "\\item 3.51189851481467\n",
       "\\item 3.12805012660101\n",
       "\\item 4.82921416754834\n",
       "\\item 3.80121878650971\n",
       "\\item 3.22271162085235\n",
       "\\item 4.56835826975293\n",
       "\\item 5.38308730744757\n",
       "\\end{enumerate*}\n"
      ],
      "text/markdown": [
       "1. 3.34706475678831\n",
       "2. 5.06408995902166\n",
       "3. 3.51189851481467\n",
       "4. 3.12805012660101\n",
       "5. 4.82921416754834\n",
       "6. 3.80121878650971\n",
       "7. 3.22271162085235\n",
       "8. 4.56835826975293\n",
       "9. 5.38308730744757\n",
       "\n",
       "\n"
      ],
      "text/plain": [
       "[1] 3.347065 5.064090 3.511899 3.128050 4.829214 3.801219 3.222712 4.568358\n",
       "[9] 5.383087"
      ]
     },
     "metadata": {},
     "output_type": "display_data"
    }
   ],
   "source": [
    "# gerando um vector de tamanho 9 com números aleatórios entre 3 e 6 (inclusos)\n",
    "runif(n = 9, min = 3, max = 6)"
   ]
  },
  {
   "cell_type": "code",
   "execution_count": null,
   "metadata": {},
   "outputs": [],
   "source": [
    "# apertando TAB dentro dos parêntesis podemos ver a lista de parâmetro (em ordem) que a função runif recebe.\n",
    "runif()"
   ]
  },
  {
   "cell_type": "code",
   "execution_count": 9,
   "metadata": {},
   "outputs": [
    {
     "data": {
      "text/html": [
       "<ol class=list-inline>\n",
       "\t<li>5.59753666282631</li>\n",
       "\t<li>5.68141411500983</li>\n",
       "\t<li>3.53596629481763</li>\n",
       "\t<li>4.03997646435164</li>\n",
       "\t<li>5.80893417494372</li>\n",
       "\t<li>3.31782526010647</li>\n",
       "\t<li>4.01170127978548</li>\n",
       "\t<li>3.77147698402405</li>\n",
       "\t<li>3.62936529284343</li>\n",
       "</ol>\n"
      ],
      "text/latex": [
       "\\begin{enumerate*}\n",
       "\\item 5.59753666282631\n",
       "\\item 5.68141411500983\n",
       "\\item 3.53596629481763\n",
       "\\item 4.03997646435164\n",
       "\\item 5.80893417494372\n",
       "\\item 3.31782526010647\n",
       "\\item 4.01170127978548\n",
       "\\item 3.77147698402405\n",
       "\\item 3.62936529284343\n",
       "\\end{enumerate*}\n"
      ],
      "text/markdown": [
       "1. 5.59753666282631\n",
       "2. 5.68141411500983\n",
       "3. 3.53596629481763\n",
       "4. 4.03997646435164\n",
       "5. 5.80893417494372\n",
       "6. 3.31782526010647\n",
       "7. 4.01170127978548\n",
       "8. 3.77147698402405\n",
       "9. 3.62936529284343\n",
       "\n",
       "\n"
      ],
      "text/plain": [
       "[1] 5.597537 5.681414 3.535966 4.039976 5.808934 3.317825 4.011701 3.771477\n",
       "[9] 3.629365"
      ]
     },
     "metadata": {},
     "output_type": "display_data"
    }
   ],
   "source": [
    "# podemos então chamar ela do mesmo jeito que anteriormente sem nomearos parâmetros\n",
    "runif(9, 3, 6)"
   ]
  },
  {
   "cell_type": "code",
   "execution_count": 10,
   "metadata": {},
   "outputs": [
    {
     "data": {
      "text/html": [
       "<ol class=list-inline>\n",
       "\t<li>0.120852745370939</li>\n",
       "\t<li>0.530584629159421</li>\n",
       "\t<li>0.640744558069855</li>\n",
       "</ol>\n"
      ],
      "text/latex": [
       "\\begin{enumerate*}\n",
       "\\item 0.120852745370939\n",
       "\\item 0.530584629159421\n",
       "\\item 0.640744558069855\n",
       "\\end{enumerate*}\n"
      ],
      "text/markdown": [
       "1. 0.120852745370939\n",
       "2. 0.530584629159421\n",
       "3. 0.640744558069855\n",
       "\n",
       "\n"
      ],
      "text/plain": [
       "[1] 0.1208527 0.5305846 0.6407446"
      ]
     },
     "metadata": {},
     "output_type": "display_data"
    }
   ],
   "source": [
    "# o único parâmetro obrigatório dessa função é o 'n', então podemos chamá-la assim:\n",
    "runif(3)\n",
    "# o resultado será um vector de 3 elementos com valores de 0 à 1 (inclusos)"
   ]
  },
  {
   "cell_type": "code",
   "execution_count": 12,
   "metadata": {},
   "outputs": [
    {
     "data": {
      "text/html": [
       "<ol class=list-inline>\n",
       "\t<li>2.65570525452495</li>\n",
       "\t<li>0.284005593508482</li>\n",
       "\t<li>0.129734326153994</li>\n",
       "</ol>\n"
      ],
      "text/latex": [
       "\\begin{enumerate*}\n",
       "\\item 2.65570525452495\n",
       "\\item 0.284005593508482\n",
       "\\item 0.129734326153994\n",
       "\\end{enumerate*}\n"
      ],
      "text/markdown": [
       "1. 2.65570525452495\n",
       "2. 0.284005593508482\n",
       "3. 0.129734326153994\n",
       "\n",
       "\n"
      ],
      "text/plain": [
       "[1] 2.6557053 0.2840056 0.1297343"
      ]
     },
     "metadata": {},
     "output_type": "display_data"
    }
   ],
   "source": [
    "# para pular parâmetros não-nomeados, podemos usar do seguinte artifício:\n",
    "runif(3,,4)\n",
    "# gerando um vector de 3 números entre 0 e 4 (inclusos)"
   ]
  },
  {
   "cell_type": "code",
   "execution_count": 13,
   "metadata": {},
   "outputs": [
    {
     "data": {
      "text/html": [
       "8"
      ],
      "text/latex": [
       "8"
      ],
      "text/markdown": [
       "8"
      ],
      "text/plain": [
       "[1] 8"
      ]
     },
     "metadata": {},
     "output_type": "display_data"
    }
   ],
   "source": [
    "# a potenciação no R é feita com o sinal ^\n",
    "(5-3)^3"
   ]
  },
  {
   "cell_type": "markdown",
   "metadata": {},
   "source": [
    "## Atribuição\n",
    "\n",
    "Em R podemos associar objetos de 3 formas diferentes"
   ]
  },
  {
   "cell_type": "code",
   "execution_count": 14,
   "metadata": {},
   "outputs": [
    {
     "data": {
      "text/html": [
       "<ol class=list-inline>\n",
       "\t<li>4</li>\n",
       "\t<li>5</li>\n",
       "\t<li>6</li>\n",
       "</ol>\n"
      ],
      "text/latex": [
       "\\begin{enumerate*}\n",
       "\\item 4\n",
       "\\item 5\n",
       "\\item 6\n",
       "\\end{enumerate*}\n"
      ],
      "text/markdown": [
       "1. 4\n",
       "2. 5\n",
       "3. 6\n",
       "\n",
       "\n"
      ],
      "text/plain": [
       "[1] 4 5 6"
      ]
     },
     "metadata": {},
     "output_type": "display_data"
    }
   ],
   "source": [
    "# com setas (que funcionam em ambas as direções)\n",
    "x <- c(4,5,6)\n",
    "x"
   ]
  },
  {
   "cell_type": "code",
   "execution_count": 16,
   "metadata": {},
   "outputs": [
    {
     "data": {
      "text/html": [
       "<ol class=list-inline>\n",
       "\t<li>1</li>\n",
       "\t<li>2.5</li>\n",
       "\t<li>3</li>\n",
       "</ol>\n"
      ],
      "text/latex": [
       "\\begin{enumerate*}\n",
       "\\item 1\n",
       "\\item 2.5\n",
       "\\item 3\n",
       "\\end{enumerate*}\n"
      ],
      "text/markdown": [
       "1. 1\n",
       "2. 2.5\n",
       "3. 3\n",
       "\n",
       "\n"
      ],
      "text/plain": [
       "[1] 1.0 2.5 3.0"
      ]
     },
     "metadata": {},
     "output_type": "display_data"
    }
   ],
   "source": [
    "c(1,2.5,3) -> y\n",
    "y"
   ]
  },
  {
   "cell_type": "code",
   "execution_count": 17,
   "metadata": {
    "scrolled": true
   },
   "outputs": [
    {
     "data": {
      "text/html": [
       "<ol class=list-inline>\n",
       "\t<li>1</li>\n",
       "\t<li>2</li>\n",
       "\t<li>3</li>\n",
       "</ol>\n"
      ],
      "text/latex": [
       "\\begin{enumerate*}\n",
       "\\item 1\n",
       "\\item 2\n",
       "\\item 3\n",
       "\\end{enumerate*}\n"
      ],
      "text/markdown": [
       "1. 1\n",
       "2. 2\n",
       "3. 3\n",
       "\n",
       "\n"
      ],
      "text/plain": [
       "[1] 1 2 3"
      ]
     },
     "metadata": {},
     "output_type": "display_data"
    }
   ],
   "source": [
    "# com o sinal de igual (=)\n",
    "x = c(1,2,3)\n",
    "x"
   ]
  },
  {
   "cell_type": "code",
   "execution_count": 19,
   "metadata": {},
   "outputs": [
    {
     "data": {
      "text/html": [
       "<ol class=list-inline>\n",
       "\t<li>4.2</li>\n",
       "\t<li>1</li>\n",
       "\t<li>5</li>\n",
       "</ol>\n"
      ],
      "text/latex": [
       "\\begin{enumerate*}\n",
       "\\item 4.2\n",
       "\\item 1\n",
       "\\item 5\n",
       "\\end{enumerate*}\n"
      ],
      "text/markdown": [
       "1. 4.2\n",
       "2. 1\n",
       "3. 5\n",
       "\n",
       "\n"
      ],
      "text/plain": [
       "[1] 4.2 1.0 5.0"
      ]
     },
     "metadata": {},
     "output_type": "display_data"
    }
   ],
   "source": [
    "assign(\"x\", c(4.2, 1, 5))\n",
    "x"
   ]
  },
  {
   "cell_type": "code",
   "execution_count": 20,
   "metadata": {},
   "outputs": [
    {
     "data": {
      "text/html": [
       "<ol class=list-inline>\n",
       "\t<li>'myfirstobject'</li>\n",
       "\t<li>'x'</li>\n",
       "\t<li>'y'</li>\n",
       "</ol>\n"
      ],
      "text/latex": [
       "\\begin{enumerate*}\n",
       "\\item 'myfirstobject'\n",
       "\\item 'x'\n",
       "\\item 'y'\n",
       "\\end{enumerate*}\n"
      ],
      "text/markdown": [
       "1. 'myfirstobject'\n",
       "2. 'x'\n",
       "3. 'y'\n",
       "\n",
       "\n"
      ],
      "text/plain": [
       "[1] \"myfirstobject\" \"x\"             \"y\"            "
      ]
     },
     "metadata": {},
     "output_type": "display_data"
    }
   ],
   "source": [
    "# para listar objetos instanciados\n",
    "ls()"
   ]
  },
  {
   "cell_type": "code",
   "execution_count": 21,
   "metadata": {},
   "outputs": [
    {
     "data": {
      "text/html": [
       "<ol class=list-inline>\n",
       "\t<li>'myfirstobject'</li>\n",
       "\t<li>'x'</li>\n",
       "\t<li>'y'</li>\n",
       "</ol>\n"
      ],
      "text/latex": [
       "\\begin{enumerate*}\n",
       "\\item 'myfirstobject'\n",
       "\\item 'x'\n",
       "\\item 'y'\n",
       "\\end{enumerate*}\n"
      ],
      "text/markdown": [
       "1. 'myfirstobject'\n",
       "2. 'x'\n",
       "3. 'y'\n",
       "\n",
       "\n"
      ],
      "text/plain": [
       "[1] \"myfirstobject\" \"x\"             \"y\"            "
      ]
     },
     "metadata": {},
     "output_type": "display_data"
    }
   ],
   "source": [
    "objects()"
   ]
  },
  {
   "cell_type": "code",
   "execution_count": 22,
   "metadata": {},
   "outputs": [],
   "source": [
    "# removendo objetos da memória\n",
    "rm('myfirstobject')"
   ]
  },
  {
   "cell_type": "code",
   "execution_count": 24,
   "metadata": {},
   "outputs": [
    {
     "data": {
      "text/html": [
       "<ol class=list-inline>\n",
       "\t<li>1</li>\n",
       "\t<li>2.5</li>\n",
       "\t<li>3</li>\n",
       "\t<li>5</li>\n",
       "\t<li>1</li>\n",
       "\t<li>2.5</li>\n",
       "\t<li>3</li>\n",
       "</ol>\n"
      ],
      "text/latex": [
       "\\begin{enumerate*}\n",
       "\\item 1\n",
       "\\item 2.5\n",
       "\\item 3\n",
       "\\item 5\n",
       "\\item 1\n",
       "\\item 2.5\n",
       "\\item 3\n",
       "\\end{enumerate*}\n"
      ],
      "text/markdown": [
       "1. 1\n",
       "2. 2.5\n",
       "3. 3\n",
       "4. 5\n",
       "5. 1\n",
       "6. 2.5\n",
       "7. 3\n",
       "\n",
       "\n"
      ],
      "text/plain": [
       "[1] 1.0 2.5 3.0 5.0 1.0 2.5 3.0"
      ]
     },
     "metadata": {},
     "output_type": "display_data"
    }
   ],
   "source": [
    "# c é de <c>oncatenate\n",
    "x = c(y,5,y)\n",
    "x"
   ]
  },
  {
   "cell_type": "code",
   "execution_count": 25,
   "metadata": {},
   "outputs": [
    {
     "data": {
      "text/html": [
       "18"
      ],
      "text/latex": [
       "18"
      ],
      "text/markdown": [
       "18"
      ],
      "text/plain": [
       "[1] 18"
      ]
     },
     "metadata": {},
     "output_type": "display_data"
    }
   ],
   "source": [
    "# somando elementos de um vector\n",
    "sum(x)"
   ]
  },
  {
   "cell_type": "code",
   "execution_count": 26,
   "metadata": {},
   "outputs": [
    {
     "data": {
      "text/html": [
       "<ol class=list-inline>\n",
       "\t<li>1</li>\n",
       "\t<li>1.58113883008419</li>\n",
       "\t<li>1.73205080756888</li>\n",
       "\t<li>2.23606797749979</li>\n",
       "\t<li>1</li>\n",
       "\t<li>1.58113883008419</li>\n",
       "\t<li>1.73205080756888</li>\n",
       "</ol>\n"
      ],
      "text/latex": [
       "\\begin{enumerate*}\n",
       "\\item 1\n",
       "\\item 1.58113883008419\n",
       "\\item 1.73205080756888\n",
       "\\item 2.23606797749979\n",
       "\\item 1\n",
       "\\item 1.58113883008419\n",
       "\\item 1.73205080756888\n",
       "\\end{enumerate*}\n"
      ],
      "text/markdown": [
       "1. 1\n",
       "2. 1.58113883008419\n",
       "3. 1.73205080756888\n",
       "4. 2.23606797749979\n",
       "5. 1\n",
       "6. 1.58113883008419\n",
       "7. 1.73205080756888\n",
       "\n",
       "\n"
      ],
      "text/plain": [
       "[1] 1.000000 1.581139 1.732051 2.236068 1.000000 1.581139 1.732051"
      ]
     },
     "metadata": {},
     "output_type": "display_data"
    }
   ],
   "source": [
    "# tirando a raiz quadrada de cada elemento no vector\n",
    "sqrt(x)"
   ]
  },
  {
   "cell_type": "code",
   "execution_count": 27,
   "metadata": {},
   "outputs": [
    {
     "data": {
      "text/html": [
       "<ol class=list-inline>\n",
       "\t<li>TRUE</li>\n",
       "\t<li>TRUE</li>\n",
       "\t<li>TRUE</li>\n",
       "\t<li>FALSE</li>\n",
       "\t<li>TRUE</li>\n",
       "\t<li>TRUE</li>\n",
       "\t<li>TRUE</li>\n",
       "</ol>\n"
      ],
      "text/latex": [
       "\\begin{enumerate*}\n",
       "\\item TRUE\n",
       "\\item TRUE\n",
       "\\item TRUE\n",
       "\\item FALSE\n",
       "\\item TRUE\n",
       "\\item TRUE\n",
       "\\item TRUE\n",
       "\\end{enumerate*}\n"
      ],
      "text/markdown": [
       "1. TRUE\n",
       "2. TRUE\n",
       "3. TRUE\n",
       "4. FALSE\n",
       "5. TRUE\n",
       "6. TRUE\n",
       "7. TRUE\n",
       "\n",
       "\n"
      ],
      "text/plain": [
       "[1]  TRUE  TRUE  TRUE FALSE  TRUE  TRUE  TRUE"
      ]
     },
     "metadata": {},
     "output_type": "display_data"
    }
   ],
   "source": [
    "# comparações\n",
    "newobject <- x < 5\n",
    "newobject"
   ]
  },
  {
   "cell_type": "markdown",
   "metadata": {},
   "source": [
    "## Documentação\n",
    "\n",
    "Para conferir o que uma função faz, podemos utilizar o operador *?* na frente da chamada do mesmo:"
   ]
  },
  {
   "cell_type": "code",
   "execution_count": 30,
   "metadata": {},
   "outputs": [],
   "source": [
    "?seq"
   ]
  },
  {
   "cell_type": "code",
   "execution_count": 32,
   "metadata": {},
   "outputs": [
    {
     "data": {
      "text/html": [
       "1"
      ],
      "text/latex": [
       "1"
      ],
      "text/markdown": [
       "1"
      ],
      "text/plain": [
       "[1] 1"
      ]
     },
     "metadata": {},
     "output_type": "display_data"
    }
   ],
   "source": [
    "seq()"
   ]
  },
  {
   "cell_type": "code",
   "execution_count": 33,
   "metadata": {},
   "outputs": [
    {
     "data": {
      "text/html": [
       "<ol class=list-inline>\n",
       "\t<li>3</li>\n",
       "\t<li>4</li>\n",
       "\t<li>5</li>\n",
       "</ol>\n"
      ],
      "text/latex": [
       "\\begin{enumerate*}\n",
       "\\item 3\n",
       "\\item 4\n",
       "\\item 5\n",
       "\\end{enumerate*}\n"
      ],
      "text/markdown": [
       "1. 3\n",
       "2. 4\n",
       "3. 5\n",
       "\n",
       "\n"
      ],
      "text/plain": [
       "[1] 3 4 5"
      ]
     },
     "metadata": {},
     "output_type": "display_data"
    }
   ],
   "source": [
    "seq(3,5)"
   ]
  },
  {
   "cell_type": "code",
   "execution_count": 34,
   "metadata": {},
   "outputs": [
    {
     "data": {
      "text/html": [
       "<ol class=list-inline>\n",
       "\t<li>3</li>\n",
       "\t<li>3.5</li>\n",
       "\t<li>4</li>\n",
       "\t<li>4.5</li>\n",
       "\t<li>5</li>\n",
       "</ol>\n"
      ],
      "text/latex": [
       "\\begin{enumerate*}\n",
       "\\item 3\n",
       "\\item 3.5\n",
       "\\item 4\n",
       "\\item 4.5\n",
       "\\item 5\n",
       "\\end{enumerate*}\n"
      ],
      "text/markdown": [
       "1. 3\n",
       "2. 3.5\n",
       "3. 4\n",
       "4. 4.5\n",
       "5. 5\n",
       "\n",
       "\n"
      ],
      "text/plain": [
       "[1] 3.0 3.5 4.0 4.5 5.0"
      ]
     },
     "metadata": {},
     "output_type": "display_data"
    }
   ],
   "source": [
    "seq(from = 3, to = 5, by = 0.5)"
   ]
  },
  {
   "cell_type": "code",
   "execution_count": 35,
   "metadata": {},
   "outputs": [],
   "source": [
    "?paste"
   ]
  },
  {
   "cell_type": "code",
   "execution_count": 36,
   "metadata": {},
   "outputs": [
    {
     "data": {
      "text/html": [
       "<ol class=list-inline>\n",
       "\t<li>'1'</li>\n",
       "\t<li>'2'</li>\n",
       "\t<li>'3'</li>\n",
       "\t<li>'4'</li>\n",
       "</ol>\n"
      ],
      "text/latex": [
       "\\begin{enumerate*}\n",
       "\\item '1'\n",
       "\\item '2'\n",
       "\\item '3'\n",
       "\\item '4'\n",
       "\\end{enumerate*}\n"
      ],
      "text/markdown": [
       "1. '1'\n",
       "2. '2'\n",
       "3. '3'\n",
       "4. '4'\n",
       "\n",
       "\n"
      ],
      "text/plain": [
       "[1] \"1\" \"2\" \"3\" \"4\""
      ]
     },
     "metadata": {},
     "output_type": "display_data"
    }
   ],
   "source": [
    "paste(1:4)"
   ]
  },
  {
   "cell_type": "code",
   "execution_count": 37,
   "metadata": {},
   "outputs": [
    {
     "data": {
      "text/html": [
       "<ol class=list-inline>\n",
       "\t<li>'xyz 1'</li>\n",
       "\t<li>'xyz 2'</li>\n",
       "\t<li>'xyz 3'</li>\n",
       "\t<li>'xyz 4'</li>\n",
       "\t<li>'xyz 5'</li>\n",
       "\t<li>'xyz 6'</li>\n",
       "\t<li>'xyz 7'</li>\n",
       "\t<li>'xyz 8'</li>\n",
       "\t<li>'xyz 9'</li>\n",
       "\t<li>'xyz 10'</li>\n",
       "</ol>\n"
      ],
      "text/latex": [
       "\\begin{enumerate*}\n",
       "\\item 'xyz 1'\n",
       "\\item 'xyz 2'\n",
       "\\item 'xyz 3'\n",
       "\\item 'xyz 4'\n",
       "\\item 'xyz 5'\n",
       "\\item 'xyz 6'\n",
       "\\item 'xyz 7'\n",
       "\\item 'xyz 8'\n",
       "\\item 'xyz 9'\n",
       "\\item 'xyz 10'\n",
       "\\end{enumerate*}\n"
      ],
      "text/markdown": [
       "1. 'xyz 1'\n",
       "2. 'xyz 2'\n",
       "3. 'xyz 3'\n",
       "4. 'xyz 4'\n",
       "5. 'xyz 5'\n",
       "6. 'xyz 6'\n",
       "7. 'xyz 7'\n",
       "8. 'xyz 8'\n",
       "9. 'xyz 9'\n",
       "10. 'xyz 10'\n",
       "\n",
       "\n"
      ],
      "text/plain": [
       " [1] \"xyz 1\"  \"xyz 2\"  \"xyz 3\"  \"xyz 4\"  \"xyz 5\"  \"xyz 6\"  \"xyz 7\"  \"xyz 8\" \n",
       " [9] \"xyz 9\"  \"xyz 10\""
      ]
     },
     "metadata": {},
     "output_type": "display_data"
    }
   ],
   "source": [
    "paste('xyz', 1:10)"
   ]
  },
  {
   "cell_type": "code",
   "execution_count": 38,
   "metadata": {},
   "outputs": [
    {
     "data": {
      "text/html": [
       "<ol class=list-inline>\n",
       "\t<li>'xyz 2'</li>\n",
       "\t<li>'xyz 5'</li>\n",
       "\t<li>'xyz 7'</li>\n",
       "\t<li>'xyz test'</li>\n",
       "\t<li>'xyz 4.5'</li>\n",
       "</ol>\n"
      ],
      "text/latex": [
       "\\begin{enumerate*}\n",
       "\\item 'xyz 2'\n",
       "\\item 'xyz 5'\n",
       "\\item 'xyz 7'\n",
       "\\item 'xyz test'\n",
       "\\item 'xyz 4.5'\n",
       "\\end{enumerate*}\n"
      ],
      "text/markdown": [
       "1. 'xyz 2'\n",
       "2. 'xyz 5'\n",
       "3. 'xyz 7'\n",
       "4. 'xyz test'\n",
       "5. 'xyz 4.5'\n",
       "\n",
       "\n"
      ],
      "text/plain": [
       "[1] \"xyz 2\"    \"xyz 5\"    \"xyz 7\"    \"xyz test\" \"xyz 4.5\" "
      ]
     },
     "metadata": {},
     "output_type": "display_data"
    }
   ],
   "source": [
    "paste(\"xyz\", c(2,5,7,\"test\", 4.5))"
   ]
  },
  {
   "cell_type": "code",
   "execution_count": 39,
   "metadata": {},
   "outputs": [
    {
     "data": {
      "text/html": [
       "<ol class=list-inline>\n",
       "\t<li>'xyz1'</li>\n",
       "\t<li>'xyz2'</li>\n",
       "\t<li>'xyz3'</li>\n",
       "\t<li>'xyz4'</li>\n",
       "\t<li>'xyz5'</li>\n",
       "\t<li>'xyz6'</li>\n",
       "\t<li>'xyz7'</li>\n",
       "\t<li>'xyz8'</li>\n",
       "\t<li>'xyz9'</li>\n",
       "\t<li>'xyz10'</li>\n",
       "</ol>\n"
      ],
      "text/latex": [
       "\\begin{enumerate*}\n",
       "\\item 'xyz1'\n",
       "\\item 'xyz2'\n",
       "\\item 'xyz3'\n",
       "\\item 'xyz4'\n",
       "\\item 'xyz5'\n",
       "\\item 'xyz6'\n",
       "\\item 'xyz7'\n",
       "\\item 'xyz8'\n",
       "\\item 'xyz9'\n",
       "\\item 'xyz10'\n",
       "\\end{enumerate*}\n"
      ],
      "text/markdown": [
       "1. 'xyz1'\n",
       "2. 'xyz2'\n",
       "3. 'xyz3'\n",
       "4. 'xyz4'\n",
       "5. 'xyz5'\n",
       "6. 'xyz6'\n",
       "7. 'xyz7'\n",
       "8. 'xyz8'\n",
       "9. 'xyz9'\n",
       "10. 'xyz10'\n",
       "\n",
       "\n"
      ],
      "text/plain": [
       " [1] \"xyz1\"  \"xyz2\"  \"xyz3\"  \"xyz4\"  \"xyz5\"  \"xyz6\"  \"xyz7\"  \"xyz8\"  \"xyz9\" \n",
       "[10] \"xyz10\""
      ]
     },
     "metadata": {},
     "output_type": "display_data"
    }
   ],
   "source": [
    "# modificando o separador da concatenação\n",
    "paste(\"xyz\", 1:10, sep = \"\")"
   ]
  },
  {
   "cell_type": "code",
   "execution_count": 40,
   "metadata": {},
   "outputs": [],
   "source": [
    "?rep"
   ]
  },
  {
   "cell_type": "code",
   "execution_count": 41,
   "metadata": {},
   "outputs": [
    {
     "data": {
      "text/html": [
       "<ol class=list-inline>\n",
       "\t<li>3</li>\n",
       "\t<li>4</li>\n",
       "\t<li>5</li>\n",
       "\t<li>3</li>\n",
       "\t<li>4</li>\n",
       "\t<li>5</li>\n",
       "\t<li>3</li>\n",
       "\t<li>4</li>\n",
       "\t<li>5</li>\n",
       "</ol>\n"
      ],
      "text/latex": [
       "\\begin{enumerate*}\n",
       "\\item 3\n",
       "\\item 4\n",
       "\\item 5\n",
       "\\item 3\n",
       "\\item 4\n",
       "\\item 5\n",
       "\\item 3\n",
       "\\item 4\n",
       "\\item 5\n",
       "\\end{enumerate*}\n"
      ],
      "text/markdown": [
       "1. 3\n",
       "2. 4\n",
       "3. 5\n",
       "4. 3\n",
       "5. 4\n",
       "6. 5\n",
       "7. 3\n",
       "8. 4\n",
       "9. 5\n",
       "\n",
       "\n"
      ],
      "text/plain": [
       "[1] 3 4 5 3 4 5 3 4 5"
      ]
     },
     "metadata": {},
     "output_type": "display_data"
    }
   ],
   "source": [
    "rep(c(3,4,5), 3)"
   ]
  },
  {
   "cell_type": "code",
   "execution_count": 42,
   "metadata": {},
   "outputs": [
    {
     "data": {
      "text/html": [
       "<ol class=list-inline>\n",
       "\t<li>1</li>\n",
       "\t<li>2</li>\n",
       "\t<li>3</li>\n",
       "\t<li>4</li>\n",
       "\t<li>5</li>\n",
       "\t<li>6</li>\n",
       "\t<li>7</li>\n",
       "\t<li>8</li>\n",
       "\t<li>9</li>\n",
       "\t<li>10</li>\n",
       "\t<li>1</li>\n",
       "\t<li>2</li>\n",
       "\t<li>3</li>\n",
       "\t<li>4</li>\n",
       "\t<li>5</li>\n",
       "\t<li>6</li>\n",
       "\t<li>7</li>\n",
       "\t<li>8</li>\n",
       "\t<li>9</li>\n",
       "\t<li>10</li>\n",
       "\t<li>1</li>\n",
       "\t<li>2</li>\n",
       "\t<li>3</li>\n",
       "\t<li>4</li>\n",
       "\t<li>5</li>\n",
       "\t<li>6</li>\n",
       "\t<li>7</li>\n",
       "\t<li>8</li>\n",
       "\t<li>9</li>\n",
       "\t<li>10</li>\n",
       "</ol>\n"
      ],
      "text/latex": [
       "\\begin{enumerate*}\n",
       "\\item 1\n",
       "\\item 2\n",
       "\\item 3\n",
       "\\item 4\n",
       "\\item 5\n",
       "\\item 6\n",
       "\\item 7\n",
       "\\item 8\n",
       "\\item 9\n",
       "\\item 10\n",
       "\\item 1\n",
       "\\item 2\n",
       "\\item 3\n",
       "\\item 4\n",
       "\\item 5\n",
       "\\item 6\n",
       "\\item 7\n",
       "\\item 8\n",
       "\\item 9\n",
       "\\item 10\n",
       "\\item 1\n",
       "\\item 2\n",
       "\\item 3\n",
       "\\item 4\n",
       "\\item 5\n",
       "\\item 6\n",
       "\\item 7\n",
       "\\item 8\n",
       "\\item 9\n",
       "\\item 10\n",
       "\\end{enumerate*}\n"
      ],
      "text/markdown": [
       "1. 1\n",
       "2. 2\n",
       "3. 3\n",
       "4. 4\n",
       "5. 5\n",
       "6. 6\n",
       "7. 7\n",
       "8. 8\n",
       "9. 9\n",
       "10. 10\n",
       "11. 1\n",
       "12. 2\n",
       "13. 3\n",
       "14. 4\n",
       "15. 5\n",
       "16. 6\n",
       "17. 7\n",
       "18. 8\n",
       "19. 9\n",
       "20. 10\n",
       "21. 1\n",
       "22. 2\n",
       "23. 3\n",
       "24. 4\n",
       "25. 5\n",
       "26. 6\n",
       "27. 7\n",
       "28. 8\n",
       "29. 9\n",
       "30. 10\n",
       "\n",
       "\n"
      ],
      "text/plain": [
       " [1]  1  2  3  4  5  6  7  8  9 10  1  2  3  4  5  6  7  8  9 10  1  2  3  4  5\n",
       "[26]  6  7  8  9 10"
      ]
     },
     "metadata": {},
     "output_type": "display_data"
    }
   ],
   "source": [
    "rep(1:10, times = 3)"
   ]
  },
  {
   "cell_type": "code",
   "execution_count": 43,
   "metadata": {},
   "outputs": [
    {
     "data": {
      "text/html": [
       "<ol class=list-inline>\n",
       "\t<li>1</li>\n",
       "\t<li>1</li>\n",
       "\t<li>1</li>\n",
       "\t<li>2</li>\n",
       "\t<li>2</li>\n",
       "\t<li>2</li>\n",
       "\t<li>3</li>\n",
       "\t<li>3</li>\n",
       "\t<li>3</li>\n",
       "</ol>\n"
      ],
      "text/latex": [
       "\\begin{enumerate*}\n",
       "\\item 1\n",
       "\\item 1\n",
       "\\item 1\n",
       "\\item 2\n",
       "\\item 2\n",
       "\\item 2\n",
       "\\item 3\n",
       "\\item 3\n",
       "\\item 3\n",
       "\\end{enumerate*}\n"
      ],
      "text/markdown": [
       "1. 1\n",
       "2. 1\n",
       "3. 1\n",
       "4. 2\n",
       "5. 2\n",
       "6. 2\n",
       "7. 3\n",
       "8. 3\n",
       "9. 3\n",
       "\n",
       "\n"
      ],
      "text/plain": [
       "[1] 1 1 1 2 2 2 3 3 3"
      ]
     },
     "metadata": {},
     "output_type": "display_data"
    }
   ],
   "source": [
    "x = c(1,2,3)\n",
    "rep(x, each = 3)"
   ]
  },
  {
   "cell_type": "code",
   "execution_count": 44,
   "metadata": {},
   "outputs": [
    {
     "data": {
      "text/html": [
       "<ol class=list-inline>\n",
       "\t<li>1</li>\n",
       "\t<li>1</li>\n",
       "\t<li>1</li>\n",
       "\t<li>2</li>\n",
       "\t<li>2</li>\n",
       "\t<li>2</li>\n",
       "\t<li>3</li>\n",
       "\t<li>3</li>\n",
       "\t<li>3</li>\n",
       "\t<li>1</li>\n",
       "\t<li>1</li>\n",
       "\t<li>1</li>\n",
       "\t<li>2</li>\n",
       "\t<li>2</li>\n",
       "\t<li>2</li>\n",
       "\t<li>3</li>\n",
       "\t<li>3</li>\n",
       "\t<li>3</li>\n",
       "\t<li>1</li>\n",
       "\t<li>1</li>\n",
       "\t<li>1</li>\n",
       "\t<li>2</li>\n",
       "\t<li>2</li>\n",
       "\t<li>2</li>\n",
       "\t<li>3</li>\n",
       "\t<li>3</li>\n",
       "\t<li>3</li>\n",
       "</ol>\n"
      ],
      "text/latex": [
       "\\begin{enumerate*}\n",
       "\\item 1\n",
       "\\item 1\n",
       "\\item 1\n",
       "\\item 2\n",
       "\\item 2\n",
       "\\item 2\n",
       "\\item 3\n",
       "\\item 3\n",
       "\\item 3\n",
       "\\item 1\n",
       "\\item 1\n",
       "\\item 1\n",
       "\\item 2\n",
       "\\item 2\n",
       "\\item 2\n",
       "\\item 3\n",
       "\\item 3\n",
       "\\item 3\n",
       "\\item 1\n",
       "\\item 1\n",
       "\\item 1\n",
       "\\item 2\n",
       "\\item 2\n",
       "\\item 2\n",
       "\\item 3\n",
       "\\item 3\n",
       "\\item 3\n",
       "\\end{enumerate*}\n"
      ],
      "text/markdown": [
       "1. 1\n",
       "2. 1\n",
       "3. 1\n",
       "4. 2\n",
       "5. 2\n",
       "6. 2\n",
       "7. 3\n",
       "8. 3\n",
       "9. 3\n",
       "10. 1\n",
       "11. 1\n",
       "12. 1\n",
       "13. 2\n",
       "14. 2\n",
       "15. 2\n",
       "16. 3\n",
       "17. 3\n",
       "18. 3\n",
       "19. 1\n",
       "20. 1\n",
       "21. 1\n",
       "22. 2\n",
       "23. 2\n",
       "24. 2\n",
       "25. 3\n",
       "26. 3\n",
       "27. 3\n",
       "\n",
       "\n"
      ],
      "text/plain": [
       " [1] 1 1 1 2 2 2 3 3 3 1 1 1 2 2 2 3 3 3 1 1 1 2 2 2 3 3 3"
      ]
     },
     "metadata": {},
     "output_type": "display_data"
    }
   ],
   "source": [
    "rep(x, each = 3, times = 3)"
   ]
  },
  {
   "cell_type": "code",
   "execution_count": 46,
   "metadata": {},
   "outputs": [
    {
     "data": {
      "text/html": [
       "2"
      ],
      "text/latex": [
       "2"
      ],
      "text/markdown": [
       "2"
      ],
      "text/plain": [
       "[1] 2"
      ]
     },
     "metadata": {},
     "output_type": "display_data"
    }
   ],
   "source": [
    "# retorna o índice com o valor exigido\n",
    "which(x == 2)"
   ]
  },
  {
   "cell_type": "code",
   "execution_count": 47,
   "metadata": {},
   "outputs": [
    {
     "data": {
      "text/html": [
       "<ol class=list-inline>\n",
       "\t<li>3</li>\n",
       "\t<li>4</li>\n",
       "\t<li>5</li>\n",
       "</ol>\n"
      ],
      "text/latex": [
       "\\begin{enumerate*}\n",
       "\\item 3\n",
       "\\item 4\n",
       "\\item 5\n",
       "\\end{enumerate*}\n"
      ],
      "text/markdown": [
       "1. 3\n",
       "2. 4\n",
       "3. 5\n",
       "\n",
       "\n"
      ],
      "text/plain": [
       "[1] 3 4 5"
      ]
     },
     "metadata": {},
     "output_type": "display_data"
    }
   ],
   "source": [
    "x = c(1,2,3,3,3)\n",
    "which(x == 3)"
   ]
  },
  {
   "cell_type": "code",
   "execution_count": 48,
   "metadata": {},
   "outputs": [
    {
     "data": {
      "text/html": [],
      "text/latex": [],
      "text/markdown": [],
      "text/plain": [
       "integer(0)"
      ]
     },
     "metadata": {},
     "output_type": "display_data"
    }
   ],
   "source": [
    "which(x == 0)"
   ]
  },
  {
   "cell_type": "markdown",
   "metadata": {},
   "source": [
    "*Checando classe do objeto:*"
   ]
  },
  {
   "cell_type": "code",
   "execution_count": 62,
   "metadata": {
    "scrolled": true
   },
   "outputs": [
    {
     "data": {
      "text/html": [
       "'character'"
      ],
      "text/latex": [
       "'character'"
      ],
      "text/markdown": [
       "'character'"
      ],
      "text/plain": [
       "[1] \"character\""
      ]
     },
     "metadata": {},
     "output_type": "display_data"
    }
   ],
   "source": [
    "class(paste(1:4))"
   ]
  },
  {
   "cell_type": "code",
   "execution_count": 63,
   "metadata": {},
   "outputs": [
    {
     "data": {
      "text/html": [
       "'integer'"
      ],
      "text/latex": [
       "'integer'"
      ],
      "text/markdown": [
       "'integer'"
      ],
      "text/plain": [
       "[1] \"integer\""
      ]
     },
     "metadata": {},
     "output_type": "display_data"
    }
   ],
   "source": [
    "class(1:4)"
   ]
  },
  {
   "cell_type": "code",
   "execution_count": 64,
   "metadata": {},
   "outputs": [
    {
     "data": {
      "text/html": [
       "'numeric'"
      ],
      "text/latex": [
       "'numeric'"
      ],
      "text/markdown": [
       "'numeric'"
      ],
      "text/plain": [
       "[1] \"numeric\""
      ]
     },
     "metadata": {},
     "output_type": "display_data"
    }
   ],
   "source": [
    "class(c(1,2.3,5))"
   ]
  },
  {
   "cell_type": "code",
   "execution_count": 65,
   "metadata": {},
   "outputs": [
    {
     "data": {
      "text/html": [
       "'numeric'"
      ],
      "text/latex": [
       "'numeric'"
      ],
      "text/markdown": [
       "'numeric'"
      ],
      "text/plain": [
       "[1] \"numeric\""
      ]
     },
     "metadata": {},
     "output_type": "display_data"
    }
   ],
   "source": [
    "class(5.7)"
   ]
  },
  {
   "cell_type": "markdown",
   "metadata": {},
   "source": [
    "#### Exercícios\n",
    "\n",
    "**1. Crie um objeto *myobject* e atribua valores de 1 à 10 (inclusos) a ele de pelo menos 3 maneiras diferentes:**"
   ]
  },
  {
   "cell_type": "code",
   "execution_count": 52,
   "metadata": {},
   "outputs": [
    {
     "data": {
      "text/html": [
       "<ol class=list-inline>\n",
       "\t<li>1</li>\n",
       "\t<li>2</li>\n",
       "\t<li>3</li>\n",
       "\t<li>4</li>\n",
       "\t<li>5</li>\n",
       "\t<li>6</li>\n",
       "\t<li>7</li>\n",
       "\t<li>8</li>\n",
       "\t<li>9</li>\n",
       "\t<li>10</li>\n",
       "</ol>\n"
      ],
      "text/latex": [
       "\\begin{enumerate*}\n",
       "\\item 1\n",
       "\\item 2\n",
       "\\item 3\n",
       "\\item 4\n",
       "\\item 5\n",
       "\\item 6\n",
       "\\item 7\n",
       "\\item 8\n",
       "\\item 9\n",
       "\\item 10\n",
       "\\end{enumerate*}\n"
      ],
      "text/markdown": [
       "1. 1\n",
       "2. 2\n",
       "3. 3\n",
       "4. 4\n",
       "5. 5\n",
       "6. 6\n",
       "7. 7\n",
       "8. 8\n",
       "9. 9\n",
       "10. 10\n",
       "\n",
       "\n"
      ],
      "text/plain": [
       " [1]  1  2  3  4  5  6  7  8  9 10"
      ]
     },
     "metadata": {},
     "output_type": "display_data"
    }
   ],
   "source": [
    "myobject = 1:10\n",
    "myobject"
   ]
  },
  {
   "cell_type": "code",
   "execution_count": 53,
   "metadata": {},
   "outputs": [
    {
     "data": {
      "text/html": [
       "<ol class=list-inline>\n",
       "\t<li>1</li>\n",
       "\t<li>2</li>\n",
       "\t<li>3</li>\n",
       "\t<li>4</li>\n",
       "\t<li>5</li>\n",
       "\t<li>6</li>\n",
       "\t<li>7</li>\n",
       "\t<li>8</li>\n",
       "\t<li>9</li>\n",
       "\t<li>10</li>\n",
       "</ol>\n"
      ],
      "text/latex": [
       "\\begin{enumerate*}\n",
       "\\item 1\n",
       "\\item 2\n",
       "\\item 3\n",
       "\\item 4\n",
       "\\item 5\n",
       "\\item 6\n",
       "\\item 7\n",
       "\\item 8\n",
       "\\item 9\n",
       "\\item 10\n",
       "\\end{enumerate*}\n"
      ],
      "text/markdown": [
       "1. 1\n",
       "2. 2\n",
       "3. 3\n",
       "4. 4\n",
       "5. 5\n",
       "6. 6\n",
       "7. 7\n",
       "8. 8\n",
       "9. 9\n",
       "10. 10\n",
       "\n",
       "\n"
      ],
      "text/plain": [
       " [1]  1  2  3  4  5  6  7  8  9 10"
      ]
     },
     "metadata": {},
     "output_type": "display_data"
    }
   ],
   "source": [
    "myobject <- 1:10\n",
    "myobject"
   ]
  },
  {
   "cell_type": "code",
   "execution_count": 54,
   "metadata": {},
   "outputs": [
    {
     "data": {
      "text/html": [
       "<ol class=list-inline>\n",
       "\t<li>1</li>\n",
       "\t<li>2</li>\n",
       "\t<li>3</li>\n",
       "\t<li>4</li>\n",
       "\t<li>5</li>\n",
       "\t<li>6</li>\n",
       "\t<li>7</li>\n",
       "\t<li>8</li>\n",
       "\t<li>9</li>\n",
       "\t<li>10</li>\n",
       "</ol>\n"
      ],
      "text/latex": [
       "\\begin{enumerate*}\n",
       "\\item 1\n",
       "\\item 2\n",
       "\\item 3\n",
       "\\item 4\n",
       "\\item 5\n",
       "\\item 6\n",
       "\\item 7\n",
       "\\item 8\n",
       "\\item 9\n",
       "\\item 10\n",
       "\\end{enumerate*}\n"
      ],
      "text/markdown": [
       "1. 1\n",
       "2. 2\n",
       "3. 3\n",
       "4. 4\n",
       "5. 5\n",
       "6. 6\n",
       "7. 7\n",
       "8. 8\n",
       "9. 9\n",
       "10. 10\n",
       "\n",
       "\n"
      ],
      "text/plain": [
       " [1]  1  2  3  4  5  6  7  8  9 10"
      ]
     },
     "metadata": {},
     "output_type": "display_data"
    }
   ],
   "source": [
    "assign('myobject', 1:10)\n",
    "myobject"
   ]
  },
  {
   "cell_type": "markdown",
   "metadata": {},
   "source": [
    "**2. Imprima a soma dos elementos no objeto criado anteriormente:**"
   ]
  },
  {
   "cell_type": "code",
   "execution_count": 55,
   "metadata": {},
   "outputs": [
    {
     "data": {
      "text/html": [
       "55"
      ],
      "text/latex": [
       "55"
      ],
      "text/markdown": [
       "55"
      ],
      "text/plain": [
       "[1] 55"
      ]
     },
     "metadata": {},
     "output_type": "display_data"
    }
   ],
   "source": [
    "sum(myobject)"
   ]
  },
  {
   "cell_type": "markdown",
   "metadata": {},
   "source": [
    "**3. Crie um *vector* usando a função *paste* com o conteúdo a seguir:**\n",
    "> \"R is great 4 and I will love it\"\n",
    "\"R is great 7 and I will love it\"\n",
    "\"R is great 45 and I will love it\""
   ]
  },
  {
   "cell_type": "code",
   "execution_count": 57,
   "metadata": {},
   "outputs": [
    {
     "data": {
      "text/html": [
       "<ol class=list-inline>\n",
       "\t<li>'R is great 4 and I will love it'</li>\n",
       "\t<li>'R is great 7 and I will love it'</li>\n",
       "\t<li>'R is great 45 and I will love it'</li>\n",
       "</ol>\n"
      ],
      "text/latex": [
       "\\begin{enumerate*}\n",
       "\\item 'R is great 4 and I will love it'\n",
       "\\item 'R is great 7 and I will love it'\n",
       "\\item 'R is great 45 and I will love it'\n",
       "\\end{enumerate*}\n"
      ],
      "text/markdown": [
       "1. 'R is great 4 and I will love it'\n",
       "2. 'R is great 7 and I will love it'\n",
       "3. 'R is great 45 and I will love it'\n",
       "\n",
       "\n"
      ],
      "text/plain": [
       "[1] \"R is great 4 and I will love it\"  \"R is great 7 and I will love it\" \n",
       "[3] \"R is great 45 and I will love it\""
      ]
     },
     "metadata": {},
     "output_type": "display_data"
    }
   ],
   "source": [
    "paste(\"R is great\", c(4,7,45), \"and I will love it\")"
   ]
  },
  {
   "cell_type": "markdown",
   "metadata": {},
   "source": [
    "**4. Faça um *vector* com os elementos 1, 2 e 3 repetindo 11 *x* 1, 10 *x* 2 e 10 *x* 3:**"
   ]
  },
  {
   "cell_type": "code",
   "execution_count": 60,
   "metadata": {},
   "outputs": [
    {
     "data": {
      "text/html": [
       "<ol class=list-inline>\n",
       "\t<li>1</li>\n",
       "\t<li>2</li>\n",
       "\t<li>3</li>\n",
       "\t<li>1</li>\n",
       "\t<li>2</li>\n",
       "\t<li>3</li>\n",
       "\t<li>1</li>\n",
       "\t<li>2</li>\n",
       "\t<li>3</li>\n",
       "\t<li>1</li>\n",
       "\t<li>2</li>\n",
       "\t<li>3</li>\n",
       "\t<li>1</li>\n",
       "\t<li>2</li>\n",
       "\t<li>3</li>\n",
       "\t<li>1</li>\n",
       "\t<li>2</li>\n",
       "\t<li>3</li>\n",
       "\t<li>1</li>\n",
       "\t<li>2</li>\n",
       "\t<li>3</li>\n",
       "\t<li>1</li>\n",
       "\t<li>2</li>\n",
       "\t<li>3</li>\n",
       "\t<li>1</li>\n",
       "\t<li>2</li>\n",
       "\t<li>3</li>\n",
       "\t<li>1</li>\n",
       "\t<li>2</li>\n",
       "\t<li>3</li>\n",
       "\t<li>1</li>\n",
       "</ol>\n"
      ],
      "text/latex": [
       "\\begin{enumerate*}\n",
       "\\item 1\n",
       "\\item 2\n",
       "\\item 3\n",
       "\\item 1\n",
       "\\item 2\n",
       "\\item 3\n",
       "\\item 1\n",
       "\\item 2\n",
       "\\item 3\n",
       "\\item 1\n",
       "\\item 2\n",
       "\\item 3\n",
       "\\item 1\n",
       "\\item 2\n",
       "\\item 3\n",
       "\\item 1\n",
       "\\item 2\n",
       "\\item 3\n",
       "\\item 1\n",
       "\\item 2\n",
       "\\item 3\n",
       "\\item 1\n",
       "\\item 2\n",
       "\\item 3\n",
       "\\item 1\n",
       "\\item 2\n",
       "\\item 3\n",
       "\\item 1\n",
       "\\item 2\n",
       "\\item 3\n",
       "\\item 1\n",
       "\\end{enumerate*}\n"
      ],
      "text/markdown": [
       "1. 1\n",
       "2. 2\n",
       "3. 3\n",
       "4. 1\n",
       "5. 2\n",
       "6. 3\n",
       "7. 1\n",
       "8. 2\n",
       "9. 3\n",
       "10. 1\n",
       "11. 2\n",
       "12. 3\n",
       "13. 1\n",
       "14. 2\n",
       "15. 3\n",
       "16. 1\n",
       "17. 2\n",
       "18. 3\n",
       "19. 1\n",
       "20. 2\n",
       "21. 3\n",
       "22. 1\n",
       "23. 2\n",
       "24. 3\n",
       "25. 1\n",
       "26. 2\n",
       "27. 3\n",
       "28. 1\n",
       "29. 2\n",
       "30. 3\n",
       "31. 1\n",
       "\n",
       "\n"
      ],
      "text/plain": [
       " [1] 1 2 3 1 2 3 1 2 3 1 2 3 1 2 3 1 2 3 1 2 3 1 2 3 1 2 3 1 2 3 1"
      ]
     },
     "metadata": {},
     "output_type": "display_data"
    }
   ],
   "source": [
    "a = rep(1:3, length = 31)\n",
    "a"
   ]
  },
  {
   "cell_type": "markdown",
   "metadata": {},
   "source": [
    "**5. Qual o valor armazenado na posição 7 do *vector* criado anteriormente?**"
   ]
  },
  {
   "cell_type": "code",
   "execution_count": 61,
   "metadata": {},
   "outputs": [
    {
     "data": {
      "text/html": [
       "1"
      ],
      "text/latex": [
       "1"
      ],
      "text/markdown": [
       "1"
      ],
      "text/plain": [
       "[1] 1"
      ]
     },
     "metadata": {},
     "output_type": "display_data"
    }
   ],
   "source": [
    "a[7]"
   ]
  },
  {
   "cell_type": "markdown",
   "metadata": {},
   "source": [
    "## Criando Funções\n",
    "\n",
    "Em R, funções são tratadas como objetos:"
   ]
  },
  {
   "cell_type": "code",
   "execution_count": 66,
   "metadata": {},
   "outputs": [
    {
     "name": "stdout",
     "output_type": "stream",
     "text": [
      "[1] 135\n"
     ]
    }
   ],
   "source": [
    "qqcoisa <- function(t,z) {\n",
    "    value = z*3\n",
    "    value = value * t\n",
    "    print(value)\n",
    "}\n",
    "\n",
    "t = 5\n",
    "z = 9\n",
    "qqcoisa(t,z)"
   ]
  },
  {
   "cell_type": "code",
   "execution_count": 68,
   "metadata": {},
   "outputs": [
    {
     "name": "stdout",
     "output_type": "stream",
     "text": [
      "[1] 1\n",
      "[1] 2\n",
      "[1] 3\n",
      "[1] 4\n",
      "[1] 5\n",
      "[1] 6\n",
      "[1] 7\n",
      "[1] 8\n",
      "[1] 9\n",
      "[1] 10\n"
     ]
    }
   ],
   "source": [
    "for (i in 1:10) {print (i)}"
   ]
  },
  {
   "cell_type": "code",
   "execution_count": 69,
   "metadata": {},
   "outputs": [],
   "source": [
    "# Exemplo calculando primos com o método de Eratosthenes (o método sistemático mais antigo de que se tem notícia)\n",
    "PrimVec = function(n){\n",
    "    # começa de 2\n",
    "    if (n >= 2) {\n",
    "        # lista de possíveis primos (inicialmente todos até o número passado como parâmetro)\n",
    "        s = seq(2,n)\n",
    "        # p será nosso array de primos encontrados,\n",
    "        # os números serão movidos de s para p passo a passo caso eles estejam dentro dos critérios\n",
    "        p = c()\n",
    "        # começando o loop\n",
    "        for (i in seq(2,n)) {\n",
    "            # checando se existe algum valor em s que seja igual a i, ou seja, checando se i é elegível como primo\n",
    "            if(any(s==i)) {\n",
    "                # guardamos o i, já que\n",
    "                p = c(p,i)\n",
    "                # procurando e removendo múltiplos do número encontrado da lista de possíveis primos (s)\n",
    "                s = c(s[(s%%i) != 0],i)\n",
    "            }\n",
    "        }\n",
    "        return(p)\n",
    "    }\n",
    "    # pedindo para escolher melhor a entrada\n",
    "    else{\n",
    "        stop(\"Input at least 2\")\n",
    "    }\n",
    "}"
   ]
  },
  {
   "cell_type": "code",
   "execution_count": 70,
   "metadata": {},
   "outputs": [
    {
     "data": {
      "text/html": [
       "<ol class=list-inline>\n",
       "\t<li>2</li>\n",
       "\t<li>3</li>\n",
       "\t<li>5</li>\n",
       "\t<li>7</li>\n",
       "\t<li>11</li>\n",
       "\t<li>13</li>\n",
       "\t<li>17</li>\n",
       "\t<li>19</li>\n",
       "\t<li>23</li>\n",
       "\t<li>29</li>\n",
       "\t<li>31</li>\n",
       "\t<li>37</li>\n",
       "\t<li>41</li>\n",
       "\t<li>43</li>\n",
       "\t<li>47</li>\n",
       "\t<li>53</li>\n",
       "\t<li>59</li>\n",
       "\t<li>61</li>\n",
       "\t<li>67</li>\n",
       "\t<li>71</li>\n",
       "\t<li>73</li>\n",
       "\t<li>79</li>\n",
       "\t<li>83</li>\n",
       "\t<li>89</li>\n",
       "\t<li>97</li>\n",
       "</ol>\n"
      ],
      "text/latex": [
       "\\begin{enumerate*}\n",
       "\\item 2\n",
       "\\item 3\n",
       "\\item 5\n",
       "\\item 7\n",
       "\\item 11\n",
       "\\item 13\n",
       "\\item 17\n",
       "\\item 19\n",
       "\\item 23\n",
       "\\item 29\n",
       "\\item 31\n",
       "\\item 37\n",
       "\\item 41\n",
       "\\item 43\n",
       "\\item 47\n",
       "\\item 53\n",
       "\\item 59\n",
       "\\item 61\n",
       "\\item 67\n",
       "\\item 71\n",
       "\\item 73\n",
       "\\item 79\n",
       "\\item 83\n",
       "\\item 89\n",
       "\\item 97\n",
       "\\end{enumerate*}\n"
      ],
      "text/markdown": [
       "1. 2\n",
       "2. 3\n",
       "3. 5\n",
       "4. 7\n",
       "5. 11\n",
       "6. 13\n",
       "7. 17\n",
       "8. 19\n",
       "9. 23\n",
       "10. 29\n",
       "11. 31\n",
       "12. 37\n",
       "13. 41\n",
       "14. 43\n",
       "15. 47\n",
       "16. 53\n",
       "17. 59\n",
       "18. 61\n",
       "19. 67\n",
       "20. 71\n",
       "21. 73\n",
       "22. 79\n",
       "23. 83\n",
       "24. 89\n",
       "25. 97\n",
       "\n",
       "\n"
      ],
      "text/plain": [
       " [1]  2  3  5  7 11 13 17 19 23 29 31 37 41 43 47 53 59 61 67 71 73 79 83 89 97"
      ]
     },
     "metadata": {},
     "output_type": "display_data"
    }
   ],
   "source": [
    "PrimVec(100)"
   ]
  },
  {
   "cell_type": "markdown",
   "metadata": {},
   "source": [
    "## Trabalhando com data.frames"
   ]
  },
  {
   "cell_type": "markdown",
   "metadata": {},
   "source": [
    "### Datasets de exemplo e estudo"
   ]
  },
  {
   "cell_type": "code",
   "execution_count": 7,
   "metadata": {},
   "outputs": [],
   "source": [
    "# listando datasets\n",
    "data()"
   ]
  },
  {
   "cell_type": "markdown",
   "metadata": {},
   "source": [
    "### Utilizando os datasets"
   ]
  },
  {
   "cell_type": "code",
   "execution_count": 71,
   "metadata": {},
   "outputs": [],
   "source": [
    "?airmiles"
   ]
  },
  {
   "cell_type": "code",
   "execution_count": 8,
   "metadata": {},
   "outputs": [
    {
     "data": {
      "text/html": [
       "'ts'"
      ],
      "text/latex": [
       "'ts'"
      ],
      "text/markdown": [
       "'ts'"
      ],
      "text/plain": [
       "[1] \"ts\""
      ]
     },
     "metadata": {},
     "output_type": "display_data"
    }
   ],
   "source": [
    "class(airmiles)"
   ]
  },
  {
   "cell_type": "code",
   "execution_count": 72,
   "metadata": {},
   "outputs": [
    {
     "data": {
      "text/html": [
       "<ol class=list-inline>\n",
       "\t<li>412</li>\n",
       "\t<li>480</li>\n",
       "\t<li>683</li>\n",
       "\t<li>1052</li>\n",
       "\t<li>1385</li>\n",
       "\t<li>1418</li>\n",
       "</ol>\n"
      ],
      "text/latex": [
       "\\begin{enumerate*}\n",
       "\\item 412\n",
       "\\item 480\n",
       "\\item 683\n",
       "\\item 1052\n",
       "\\item 1385\n",
       "\\item 1418\n",
       "\\end{enumerate*}\n"
      ],
      "text/markdown": [
       "1. 412\n",
       "2. 480\n",
       "3. 683\n",
       "4. 1052\n",
       "5. 1385\n",
       "6. 1418\n",
       "\n",
       "\n"
      ],
      "text/plain": [
       "[1]  412  480  683 1052 1385 1418"
      ]
     },
     "metadata": {},
     "output_type": "display_data"
    }
   ],
   "source": [
    "head(airmiles) # primeiras 6 linhas"
   ]
  },
  {
   "cell_type": "code",
   "execution_count": 73,
   "metadata": {},
   "outputs": [
    {
     "data": {
      "text/html": [
       "<ol class=list-inline>\n",
       "\t<li>412</li>\n",
       "\t<li>480</li>\n",
       "\t<li>683</li>\n",
       "</ol>\n"
      ],
      "text/latex": [
       "\\begin{enumerate*}\n",
       "\\item 412\n",
       "\\item 480\n",
       "\\item 683\n",
       "\\end{enumerate*}\n"
      ],
      "text/markdown": [
       "1. 412\n",
       "2. 480\n",
       "3. 683\n",
       "\n",
       "\n"
      ],
      "text/plain": [
       "[1] 412 480 683"
      ]
     },
     "metadata": {},
     "output_type": "display_data"
    }
   ],
   "source": [
    "head(airmiles,n=3)"
   ]
  },
  {
   "cell_type": "code",
   "execution_count": 74,
   "metadata": {},
   "outputs": [
    {
     "data": {
      "text/html": [
       "<ol class=list-inline>\n",
       "\t<li>19819</li>\n",
       "\t<li>22362</li>\n",
       "\t<li>25340</li>\n",
       "\t<li>25343</li>\n",
       "\t<li>29269</li>\n",
       "\t<li>30514</li>\n",
       "</ol>\n"
      ],
      "text/latex": [
       "\\begin{enumerate*}\n",
       "\\item 19819\n",
       "\\item 22362\n",
       "\\item 25340\n",
       "\\item 25343\n",
       "\\item 29269\n",
       "\\item 30514\n",
       "\\end{enumerate*}\n"
      ],
      "text/markdown": [
       "1. 19819\n",
       "2. 22362\n",
       "3. 25340\n",
       "4. 25343\n",
       "5. 29269\n",
       "6. 30514\n",
       "\n",
       "\n"
      ],
      "text/plain": [
       "[1] 19819 22362 25340 25343 29269 30514"
      ]
     },
     "metadata": {},
     "output_type": "display_data"
    }
   ],
   "source": [
    "tail(airmiles) # últimas 6 linhas"
   ]
  },
  {
   "cell_type": "code",
   "execution_count": 75,
   "metadata": {},
   "outputs": [
    {
     "data": {
      "text/html": [
       "<ol class=list-inline>\n",
       "\t<li>25343</li>\n",
       "\t<li>29269</li>\n",
       "\t<li>30514</li>\n",
       "</ol>\n"
      ],
      "text/latex": [
       "\\begin{enumerate*}\n",
       "\\item 25343\n",
       "\\item 29269\n",
       "\\item 30514\n",
       "\\end{enumerate*}\n"
      ],
      "text/markdown": [
       "1. 25343\n",
       "2. 29269\n",
       "3. 30514\n",
       "\n",
       "\n"
      ],
      "text/plain": [
       "[1] 25343 29269 30514"
      ]
     },
     "metadata": {},
     "output_type": "display_data"
    }
   ],
   "source": [
    "tail(airmiles,n=3)"
   ]
  },
  {
   "cell_type": "code",
   "execution_count": 76,
   "metadata": {},
   "outputs": [],
   "source": [
    "?mtcars"
   ]
  },
  {
   "cell_type": "code",
   "execution_count": 9,
   "metadata": {},
   "outputs": [
    {
     "data": {
      "text/html": [
       "'data.frame'"
      ],
      "text/latex": [
       "'data.frame'"
      ],
      "text/markdown": [
       "'data.frame'"
      ],
      "text/plain": [
       "[1] \"data.frame\""
      ]
     },
     "metadata": {},
     "output_type": "display_data"
    }
   ],
   "source": [
    "class(mtcars)"
   ]
  },
  {
   "cell_type": "code",
   "execution_count": 77,
   "metadata": {},
   "outputs": [
    {
     "data": {
      "text/plain": [
       "      mpg             cyl             disp             hp       \n",
       " Min.   :10.40   Min.   :4.000   Min.   : 71.1   Min.   : 52.0  \n",
       " 1st Qu.:15.43   1st Qu.:4.000   1st Qu.:120.8   1st Qu.: 96.5  \n",
       " Median :19.20   Median :6.000   Median :196.3   Median :123.0  \n",
       " Mean   :20.09   Mean   :6.188   Mean   :230.7   Mean   :146.7  \n",
       " 3rd Qu.:22.80   3rd Qu.:8.000   3rd Qu.:326.0   3rd Qu.:180.0  \n",
       " Max.   :33.90   Max.   :8.000   Max.   :472.0   Max.   :335.0  \n",
       "      drat             wt             qsec             vs        \n",
       " Min.   :2.760   Min.   :1.513   Min.   :14.50   Min.   :0.0000  \n",
       " 1st Qu.:3.080   1st Qu.:2.581   1st Qu.:16.89   1st Qu.:0.0000  \n",
       " Median :3.695   Median :3.325   Median :17.71   Median :0.0000  \n",
       " Mean   :3.597   Mean   :3.217   Mean   :17.85   Mean   :0.4375  \n",
       " 3rd Qu.:3.920   3rd Qu.:3.610   3rd Qu.:18.90   3rd Qu.:1.0000  \n",
       " Max.   :4.930   Max.   :5.424   Max.   :22.90   Max.   :1.0000  \n",
       "       am              gear            carb      \n",
       " Min.   :0.0000   Min.   :3.000   Min.   :1.000  \n",
       " 1st Qu.:0.0000   1st Qu.:3.000   1st Qu.:2.000  \n",
       " Median :0.0000   Median :4.000   Median :2.000  \n",
       " Mean   :0.4062   Mean   :3.688   Mean   :2.812  \n",
       " 3rd Qu.:1.0000   3rd Qu.:4.000   3rd Qu.:4.000  \n",
       " Max.   :1.0000   Max.   :5.000   Max.   :8.000  "
      ]
     },
     "metadata": {},
     "output_type": "display_data"
    }
   ],
   "source": [
    "summary(mtcars)"
   ]
  },
  {
   "cell_type": "code",
   "execution_count": 78,
   "metadata": {},
   "outputs": [
    {
     "data": {
      "image/png": "[encoded data removed]",
      "text/plain": [
       "plot without title"
      ]
     },
     "metadata": {},
     "output_type": "display_data"
    }
   ],
   "source": [
    "plot(mtcars)"
   ]
  },
  {
   "cell_type": "code",
   "execution_count": 79,
   "metadata": {},
   "outputs": [
    {
     "data": {
      "image/png": "[encoded data removed]",
      "text/plain": [
       "Plot with title “Histogram of airmiles”"
      ]
     },
     "metadata": {},
     "output_type": "display_data"
    }
   ],
   "source": [
    "hist(airmiles)"
   ]
  },
  {
   "cell_type": "code",
   "execution_count": 80,
   "metadata": {},
   "outputs": [
    {
     "data": {
      "text/html": [
       "<table>\n",
       "<thead><tr><th></th><th scope=col>mpg</th><th scope=col>cyl</th><th scope=col>disp</th><th scope=col>hp</th><th scope=col>drat</th><th scope=col>wt</th><th scope=col>qsec</th><th scope=col>vs</th><th scope=col>am</th><th scope=col>gear</th><th scope=col>carb</th></tr></thead>\n",
       "<tbody>\n",
       "\t<tr><th scope=row>Mazda RX4</th><td>21.0 </td><td>6    </td><td>160  </td><td>110  </td><td>3.90 </td><td>2.620</td><td>16.46</td><td>0    </td><td>1    </td><td>4    </td><td>4    </td></tr>\n",
       "\t<tr><th scope=row>Mazda RX4 Wag</th><td>21.0 </td><td>6    </td><td>160  </td><td>110  </td><td>3.90 </td><td>2.875</td><td>17.02</td><td>0    </td><td>1    </td><td>4    </td><td>4    </td></tr>\n",
       "\t<tr><th scope=row>Datsun 710</th><td>22.8 </td><td>4    </td><td>108  </td><td> 93  </td><td>3.85 </td><td>2.320</td><td>18.61</td><td>1    </td><td>1    </td><td>4    </td><td>1    </td></tr>\n",
       "\t<tr><th scope=row>Hornet 4 Drive</th><td>21.4 </td><td>6    </td><td>258  </td><td>110  </td><td>3.08 </td><td>3.215</td><td>19.44</td><td>1    </td><td>0    </td><td>3    </td><td>1    </td></tr>\n",
       "\t<tr><th scope=row>Hornet Sportabout</th><td>18.7 </td><td>8    </td><td>360  </td><td>175  </td><td>3.15 </td><td>3.440</td><td>17.02</td><td>0    </td><td>0    </td><td>3    </td><td>2    </td></tr>\n",
       "\t<tr><th scope=row>Valiant</th><td>18.1 </td><td>6    </td><td>225  </td><td>105  </td><td>2.76 </td><td>3.460</td><td>20.22</td><td>1    </td><td>0    </td><td>3    </td><td>1    </td></tr>\n",
       "</tbody>\n",
       "</table>\n"
      ],
      "text/latex": [
       "\\begin{tabular}{r|lllllllllll}\n",
       "  & mpg & cyl & disp & hp & drat & wt & qsec & vs & am & gear & carb\\\\\n",
       "\\hline\n",
       "\tMazda RX4 & 21.0  & 6     & 160   & 110   & 3.90  & 2.620 & 16.46 & 0     & 1     & 4     & 4    \\\\\n",
       "\tMazda RX4 Wag & 21.0  & 6     & 160   & 110   & 3.90  & 2.875 & 17.02 & 0     & 1     & 4     & 4    \\\\\n",
       "\tDatsun 710 & 22.8  & 4     & 108   &  93   & 3.85  & 2.320 & 18.61 & 1     & 1     & 4     & 1    \\\\\n",
       "\tHornet 4 Drive & 21.4  & 6     & 258   & 110   & 3.08  & 3.215 & 19.44 & 1     & 0     & 3     & 1    \\\\\n",
       "\tHornet Sportabout & 18.7  & 8     & 360   & 175   & 3.15  & 3.440 & 17.02 & 0     & 0     & 3     & 2    \\\\\n",
       "\tValiant & 18.1  & 6     & 225   & 105   & 2.76  & 3.460 & 20.22 & 1     & 0     & 3     & 1    \\\\\n",
       "\\end{tabular}\n"
      ],
      "text/markdown": [
       "\n",
       "| <!--/--> | mpg | cyl | disp | hp | drat | wt | qsec | vs | am | gear | carb | \n",
       "|---|---|---|---|---|---|\n",
       "| Mazda RX4 | 21.0  | 6     | 160   | 110   | 3.90  | 2.620 | 16.46 | 0     | 1     | 4     | 4     | \n",
       "| Mazda RX4 Wag | 21.0  | 6     | 160   | 110   | 3.90  | 2.875 | 17.02 | 0     | 1     | 4     | 4     | \n",
       "| Datsun 710 | 22.8  | 4     | 108   |  93   | 3.85  | 2.320 | 18.61 | 1     | 1     | 4     | 1     | \n",
       "| Hornet 4 Drive | 21.4  | 6     | 258   | 110   | 3.08  | 3.215 | 19.44 | 1     | 0     | 3     | 1     | \n",
       "| Hornet Sportabout | 18.7  | 8     | 360   | 175   | 3.15  | 3.440 | 17.02 | 0     | 0     | 3     | 2     | \n",
       "| Valiant | 18.1  | 6     | 225   | 105   | 2.76  | 3.460 | 20.22 | 1     | 0     | 3     | 1     | \n",
       "\n",
       "\n"
      ],
      "text/plain": [
       "                  mpg  cyl disp hp  drat wt    qsec  vs am gear carb\n",
       "Mazda RX4         21.0 6   160  110 3.90 2.620 16.46 0  1  4    4   \n",
       "Mazda RX4 Wag     21.0 6   160  110 3.90 2.875 17.02 0  1  4    4   \n",
       "Datsun 710        22.8 4   108   93 3.85 2.320 18.61 1  1  4    1   \n",
       "Hornet 4 Drive    21.4 6   258  110 3.08 3.215 19.44 1  0  3    1   \n",
       "Hornet Sportabout 18.7 8   360  175 3.15 3.440 17.02 0  0  3    2   \n",
       "Valiant           18.1 6   225  105 2.76 3.460 20.22 1  0  3    1   "
      ]
     },
     "metadata": {},
     "output_type": "display_data"
    }
   ],
   "source": [
    "head(mtcars)"
   ]
  },
  {
   "cell_type": "code",
   "execution_count": 81,
   "metadata": {},
   "outputs": [
    {
     "data": {
      "text/html": [
       "102.952"
      ],
      "text/latex": [
       "102.952"
      ],
      "text/markdown": [
       "102.952"
      ],
      "text/plain": [
       "[1] 102.952"
      ]
     },
     "metadata": {},
     "output_type": "display_data"
    }
   ],
   "source": [
    "sum(mtcars$wt)"
   ]
  },
  {
   "cell_type": "code",
   "execution_count": 82,
   "metadata": {},
   "outputs": [
    {
     "data": {
      "text/html": [
       "<ol class=list-inline>\n",
       "\t<li>2.62</li>\n",
       "\t<li>2.875</li>\n",
       "\t<li>2.32</li>\n",
       "\t<li>3.215</li>\n",
       "\t<li>3.44</li>\n",
       "\t<li>3.46</li>\n",
       "\t<li>3.57</li>\n",
       "\t<li>3.19</li>\n",
       "\t<li>3.15</li>\n",
       "\t<li>3.44</li>\n",
       "\t<li>3.44</li>\n",
       "\t<li>4.07</li>\n",
       "\t<li>3.73</li>\n",
       "\t<li>3.78</li>\n",
       "\t<li>5.25</li>\n",
       "\t<li>5.424</li>\n",
       "\t<li>5.345</li>\n",
       "\t<li>2.2</li>\n",
       "\t<li>1.615</li>\n",
       "\t<li>1.835</li>\n",
       "\t<li>2.465</li>\n",
       "\t<li>3.52</li>\n",
       "\t<li>3.435</li>\n",
       "\t<li>3.84</li>\n",
       "\t<li>3.845</li>\n",
       "\t<li>1.935</li>\n",
       "\t<li>2.14</li>\n",
       "\t<li>1.513</li>\n",
       "\t<li>3.17</li>\n",
       "\t<li>2.77</li>\n",
       "\t<li>3.57</li>\n",
       "\t<li>2.78</li>\n",
       "</ol>\n"
      ],
      "text/latex": [
       "\\begin{enumerate*}\n",
       "\\item 2.62\n",
       "\\item 2.875\n",
       "\\item 2.32\n",
       "\\item 3.215\n",
       "\\item 3.44\n",
       "\\item 3.46\n",
       "\\item 3.57\n",
       "\\item 3.19\n",
       "\\item 3.15\n",
       "\\item 3.44\n",
       "\\item 3.44\n",
       "\\item 4.07\n",
       "\\item 3.73\n",
       "\\item 3.78\n",
       "\\item 5.25\n",
       "\\item 5.424\n",
       "\\item 5.345\n",
       "\\item 2.2\n",
       "\\item 1.615\n",
       "\\item 1.835\n",
       "\\item 2.465\n",
       "\\item 3.52\n",
       "\\item 3.435\n",
       "\\item 3.84\n",
       "\\item 3.845\n",
       "\\item 1.935\n",
       "\\item 2.14\n",
       "\\item 1.513\n",
       "\\item 3.17\n",
       "\\item 2.77\n",
       "\\item 3.57\n",
       "\\item 2.78\n",
       "\\end{enumerate*}\n"
      ],
      "text/markdown": [
       "1. 2.62\n",
       "2. 2.875\n",
       "3. 2.32\n",
       "4. 3.215\n",
       "5. 3.44\n",
       "6. 3.46\n",
       "7. 3.57\n",
       "8. 3.19\n",
       "9. 3.15\n",
       "10. 3.44\n",
       "11. 3.44\n",
       "12. 4.07\n",
       "13. 3.73\n",
       "14. 3.78\n",
       "15. 5.25\n",
       "16. 5.424\n",
       "17. 5.345\n",
       "18. 2.2\n",
       "19. 1.615\n",
       "20. 1.835\n",
       "21. 2.465\n",
       "22. 3.52\n",
       "23. 3.435\n",
       "24. 3.84\n",
       "25. 3.845\n",
       "26. 1.935\n",
       "27. 2.14\n",
       "28. 1.513\n",
       "29. 3.17\n",
       "30. 2.77\n",
       "31. 3.57\n",
       "32. 2.78\n",
       "\n",
       "\n"
      ],
      "text/plain": [
       " [1] 2.620 2.875 2.320 3.215 3.440 3.460 3.570 3.190 3.150 3.440 3.440 4.070\n",
       "[13] 3.730 3.780 5.250 5.424 5.345 2.200 1.615 1.835 2.465 3.520 3.435 3.840\n",
       "[25] 3.845 1.935 2.140 1.513 3.170 2.770 3.570 2.780"
      ]
     },
     "metadata": {},
     "output_type": "display_data"
    }
   ],
   "source": [
    "mtcars$wt"
   ]
  },
  {
   "cell_type": "markdown",
   "metadata": {},
   "source": [
    "### Anexando data.frame a uma sessão do R"
   ]
  },
  {
   "cell_type": "code",
   "execution_count": 83,
   "metadata": {},
   "outputs": [
    {
     "data": {
      "text/html": [
       "102.952"
      ],
      "text/latex": [
       "102.952"
      ],
      "text/markdown": [
       "102.952"
      ],
      "text/plain": [
       "[1] 102.952"
      ]
     },
     "metadata": {},
     "output_type": "display_data"
    }
   ],
   "source": [
    "attach(mtcars) # anexando à sessão do ambiente do R\n",
    "sum(wt) # agora o R sabe qual data.frame usar já que ela foi previamente anexada"
   ]
  },
  {
   "cell_type": "code",
   "execution_count": 84,
   "metadata": {},
   "outputs": [],
   "source": [
    "detach(mtcars) # remove do ambiente"
   ]
  },
  {
   "cell_type": "code",
   "execution_count": 85,
   "metadata": {},
   "outputs": [
    {
     "data": {
      "text/html": [
       "2.875"
      ],
      "text/latex": [
       "2.875"
      ],
      "text/markdown": [
       "2.875"
      ],
      "text/plain": [
       "[1] 2.875"
      ]
     },
     "metadata": {},
     "output_type": "display_data"
    }
   ],
   "source": [
    "mtcars[2,6]"
   ]
  },
  {
   "cell_type": "code",
   "execution_count": 86,
   "metadata": {},
   "outputs": [
    {
     "data": {
      "text/html": [
       "<ol class=list-inline>\n",
       "\t<li>2.875</li>\n",
       "\t<li>3.44</li>\n",
       "\t<li>3.19</li>\n",
       "</ol>\n"
      ],
      "text/latex": [
       "\\begin{enumerate*}\n",
       "\\item 2.875\n",
       "\\item 3.44\n",
       "\\item 3.19\n",
       "\\end{enumerate*}\n"
      ],
      "text/markdown": [
       "1. 2.875\n",
       "2. 3.44\n",
       "3. 3.19\n",
       "\n",
       "\n"
      ],
      "text/plain": [
       "[1] 2.875 3.440 3.190"
      ]
     },
     "metadata": {},
     "output_type": "display_data"
    }
   ],
   "source": [
    "mtcars[c(2,5,8),6]"
   ]
  },
  {
   "cell_type": "code",
   "execution_count": 87,
   "metadata": {},
   "outputs": [
    {
     "data": {
      "text/html": [
       "<table>\n",
       "<thead><tr><th></th><th scope=col>hp</th><th scope=col>wt</th></tr></thead>\n",
       "<tbody>\n",
       "\t<tr><th scope=row>Mazda RX4 Wag</th><td>110  </td><td>2.875</td></tr>\n",
       "\t<tr><th scope=row>Hornet Sportabout</th><td>175  </td><td>3.440</td></tr>\n",
       "\t<tr><th scope=row>Merc 240D</th><td> 62  </td><td>3.190</td></tr>\n",
       "</tbody>\n",
       "</table>\n"
      ],
      "text/latex": [
       "\\begin{tabular}{r|ll}\n",
       "  & hp & wt\\\\\n",
       "\\hline\n",
       "\tMazda RX4 Wag & 110   & 2.875\\\\\n",
       "\tHornet Sportabout & 175   & 3.440\\\\\n",
       "\tMerc 240D &  62   & 3.190\\\\\n",
       "\\end{tabular}\n"
      ],
      "text/markdown": [
       "\n",
       "| <!--/--> | hp | wt | \n",
       "|---|---|---|\n",
       "| Mazda RX4 Wag | 110   | 2.875 | \n",
       "| Hornet Sportabout | 175   | 3.440 | \n",
       "| Merc 240D |  62   | 3.190 | \n",
       "\n",
       "\n"
      ],
      "text/plain": [
       "                  hp  wt   \n",
       "Mazda RX4 Wag     110 2.875\n",
       "Hornet Sportabout 175 3.440\n",
       "Merc 240D          62 3.190"
      ]
     },
     "metadata": {},
     "output_type": "display_data"
    }
   ],
   "source": [
    "mtcars[c(2,5,8),c(4,6)]"
   ]
  },
  {
   "cell_type": "markdown",
   "metadata": {},
   "source": [
    "### Importação de datasets"
   ]
  },
  {
   "cell_type": "code",
   "execution_count": 11,
   "metadata": {},
   "outputs": [],
   "source": [
    "?read.csv"
   ]
  },
  {
   "cell_type": "code",
   "execution_count": 14,
   "metadata": {},
   "outputs": [
    {
     "data": {
      "text/html": [
       "<table>\n",
       "<thead><tr><th scope=col>X</th><th scope=col>A</th><th scope=col>B</th><th scope=col>C</th><th scope=col>D</th></tr></thead>\n",
       "<tbody>\n",
       "\t<tr><td>2000-01-01 </td><td> 1.3390911 </td><td>-0.16364306</td><td>-0.64644255</td><td> 1.04123259</td></tr>\n",
       "\t<tr><td>2000-01-02 </td><td>-0.7749841 </td><td> 0.13703436</td><td>-0.88271592</td><td>-2.25338189</td></tr>\n",
       "\t<tr><td>2000-01-03 </td><td>-0.9210372 </td><td>-0.48294322</td><td>-0.41709964</td><td> 0.47863752</td></tr>\n",
       "\t<tr><td>2000-01-04 </td><td>-1.7388075 </td><td>-0.07297329</td><td> 0.05651658</td><td> 0.01508496</td></tr>\n",
       "\t<tr><td>2000-01-05 </td><td>-0.9059800 </td><td> 1.77857553</td><td> 0.38191751</td><td> 0.29143556</td></tr>\n",
       "\t<tr><td>2000-01-06 </td><td>-0.8911648 </td><td> 0.74114745</td><td> 0.23748220</td><td>-1.50190850</td></tr>\n",
       "</tbody>\n",
       "</table>\n"
      ],
      "text/latex": [
       "\\begin{tabular}{r|lllll}\n",
       " X & A & B & C & D\\\\\n",
       "\\hline\n",
       "\t 2000-01-01  &  1.3390911  & -0.16364306 & -0.64644255 &  1.04123259\\\\\n",
       "\t 2000-01-02  & -0.7749841  &  0.13703436 & -0.88271592 & -2.25338189\\\\\n",
       "\t 2000-01-03  & -0.9210372  & -0.48294322 & -0.41709964 &  0.47863752\\\\\n",
       "\t 2000-01-04  & -1.7388075  & -0.07297329 &  0.05651658 &  0.01508496\\\\\n",
       "\t 2000-01-05  & -0.9059800  &  1.77857553 &  0.38191751 &  0.29143556\\\\\n",
       "\t 2000-01-06  & -0.8911648  &  0.74114745 &  0.23748220 & -1.50190850\\\\\n",
       "\\end{tabular}\n"
      ],
      "text/markdown": [
       "\n",
       "X | A | B | C | D | \n",
       "|---|---|---|---|---|---|\n",
       "| 2000-01-01  |  1.3390911  | -0.16364306 | -0.64644255 |  1.04123259 | \n",
       "| 2000-01-02  | -0.7749841  |  0.13703436 | -0.88271592 | -2.25338189 | \n",
       "| 2000-01-03  | -0.9210372  | -0.48294322 | -0.41709964 |  0.47863752 | \n",
       "| 2000-01-04  | -1.7388075  | -0.07297329 |  0.05651658 |  0.01508496 | \n",
       "| 2000-01-05  | -0.9059800  |  1.77857553 |  0.38191751 |  0.29143556 | \n",
       "| 2000-01-06  | -0.8911648  |  0.74114745 |  0.23748220 | -1.50190850 | \n",
       "\n",
       "\n"
      ],
      "text/plain": [
       "  X          A          B           C           D          \n",
       "1 2000-01-01  1.3390911 -0.16364306 -0.64644255  1.04123259\n",
       "2 2000-01-02 -0.7749841  0.13703436 -0.88271592 -2.25338189\n",
       "3 2000-01-03 -0.9210372 -0.48294322 -0.41709964  0.47863752\n",
       "4 2000-01-04 -1.7388075 -0.07297329  0.05651658  0.01508496\n",
       "5 2000-01-05 -0.9059800  1.77857553  0.38191751  0.29143556\n",
       "6 2000-01-06 -0.8911648  0.74114745  0.23748220 -1.50190850"
      ]
     },
     "metadata": {},
     "output_type": "display_data"
    }
   ],
   "source": [
    "df <- read.csv(\"df1\",TRUE,stringsAsFactors=FALSE)\n",
    "head(df)"
   ]
  },
  {
   "cell_type": "code",
   "execution_count": 15,
   "metadata": {},
   "outputs": [],
   "source": [
    "?scan # não funciona bem no Jupyter qaundo utilizado sem parâmetro file definido"
   ]
  },
  {
   "cell_type": "code",
   "execution_count": 21,
   "metadata": {},
   "outputs": [
    {
     "name": "stderr",
     "output_type": "stream",
     "text": [
      "Installing package into ‘/home/thalessilva/R/x86_64-pc-linux-gnu-library/3.2’\n",
      "(as ‘lib’ is unspecified)\n"
     ]
    },
    {
     "name": "stdout",
     "output_type": "stream",
     "text": [
      "\n",
      "The downloaded source packages are in\n",
      "\t‘/tmp/Rtmp5wgWuF/downloaded_packages’\n"
     ]
    }
   ],
   "source": [
    "install.packages('data.table')"
   ]
  },
  {
   "cell_type": "code",
   "execution_count": 23,
   "metadata": {},
   "outputs": [],
   "source": [
    "library(data.table)"
   ]
  },
  {
   "cell_type": "code",
   "execution_count": 24,
   "metadata": {},
   "outputs": [],
   "source": [
    "?fread # maior velocidade de importação de dados"
   ]
  },
  {
   "cell_type": "code",
   "execution_count": 25,
   "metadata": {},
   "outputs": [
    {
     "data": {
      "text/html": [
       "<table>\n",
       "<thead><tr><th scope=col>V1</th><th scope=col>A</th><th scope=col>B</th><th scope=col>C</th><th scope=col>D</th></tr></thead>\n",
       "<tbody>\n",
       "\t<tr><td>2000-01-01 </td><td> 1.3390911 </td><td>-0.16364306</td><td>-0.64644255</td><td> 1.04123259</td></tr>\n",
       "\t<tr><td>2000-01-02 </td><td>-0.7749841 </td><td> 0.13703436</td><td>-0.88271592</td><td>-2.25338189</td></tr>\n",
       "\t<tr><td>2000-01-03 </td><td>-0.9210372 </td><td>-0.48294322</td><td>-0.41709964</td><td> 0.47863752</td></tr>\n",
       "\t<tr><td>2000-01-04 </td><td>-1.7388075 </td><td>-0.07297329</td><td> 0.05651658</td><td> 0.01508496</td></tr>\n",
       "\t<tr><td>2000-01-05 </td><td>-0.9059800 </td><td> 1.77857553</td><td> 0.38191751</td><td> 0.29143556</td></tr>\n",
       "\t<tr><td>2000-01-06 </td><td>-0.8911648 </td><td> 0.74114745</td><td> 0.23748220</td><td>-1.50190850</td></tr>\n",
       "</tbody>\n",
       "</table>\n"
      ],
      "text/latex": [
       "\\begin{tabular}{r|lllll}\n",
       " V1 & A & B & C & D\\\\\n",
       "\\hline\n",
       "\t 2000-01-01  &  1.3390911  & -0.16364306 & -0.64644255 &  1.04123259\\\\\n",
       "\t 2000-01-02  & -0.7749841  &  0.13703436 & -0.88271592 & -2.25338189\\\\\n",
       "\t 2000-01-03  & -0.9210372  & -0.48294322 & -0.41709964 &  0.47863752\\\\\n",
       "\t 2000-01-04  & -1.7388075  & -0.07297329 &  0.05651658 &  0.01508496\\\\\n",
       "\t 2000-01-05  & -0.9059800  &  1.77857553 &  0.38191751 &  0.29143556\\\\\n",
       "\t 2000-01-06  & -0.8911648  &  0.74114745 &  0.23748220 & -1.50190850\\\\\n",
       "\\end{tabular}\n"
      ],
      "text/markdown": [
       "\n",
       "V1 | A | B | C | D | \n",
       "|---|---|---|---|---|---|\n",
       "| 2000-01-01  |  1.3390911  | -0.16364306 | -0.64644255 |  1.04123259 | \n",
       "| 2000-01-02  | -0.7749841  |  0.13703436 | -0.88271592 | -2.25338189 | \n",
       "| 2000-01-03  | -0.9210372  | -0.48294322 | -0.41709964 |  0.47863752 | \n",
       "| 2000-01-04  | -1.7388075  | -0.07297329 |  0.05651658 |  0.01508496 | \n",
       "| 2000-01-05  | -0.9059800  |  1.77857553 |  0.38191751 |  0.29143556 | \n",
       "| 2000-01-06  | -0.8911648  |  0.74114745 |  0.23748220 | -1.50190850 | \n",
       "\n",
       "\n"
      ],
      "text/plain": [
       "  V1         A          B           C           D          \n",
       "1 2000-01-01  1.3390911 -0.16364306 -0.64644255  1.04123259\n",
       "2 2000-01-02 -0.7749841  0.13703436 -0.88271592 -2.25338189\n",
       "3 2000-01-03 -0.9210372 -0.48294322 -0.41709964  0.47863752\n",
       "4 2000-01-04 -1.7388075 -0.07297329  0.05651658  0.01508496\n",
       "5 2000-01-05 -0.9059800  1.77857553  0.38191751  0.29143556\n",
       "6 2000-01-06 -0.8911648  0.74114745  0.23748220 -1.50190850"
      ]
     },
     "metadata": {},
     "output_type": "display_data"
    }
   ],
   "source": [
    "newdf = fread(\"df1\")\n",
    "head(newdf)"
   ]
  },
  {
   "cell_type": "code",
   "execution_count": 26,
   "metadata": {},
   "outputs": [
    {
     "data": {
      "text/html": [
       "<ol class=list-inline>\n",
       "\t<li>'data.table'</li>\n",
       "\t<li>'data.frame'</li>\n",
       "</ol>\n"
      ],
      "text/latex": [
       "\\begin{enumerate*}\n",
       "\\item 'data.table'\n",
       "\\item 'data.frame'\n",
       "\\end{enumerate*}\n"
      ],
      "text/markdown": [
       "1. 'data.table'\n",
       "2. 'data.frame'\n",
       "\n",
       "\n"
      ],
      "text/plain": [
       "[1] \"data.table\" \"data.frame\""
      ]
     },
     "metadata": {},
     "output_type": "display_data"
    }
   ],
   "source": [
    "class(newdf)"
   ]
  },
  {
   "cell_type": "code",
   "execution_count": 27,
   "metadata": {},
   "outputs": [
    {
     "data": {
      "text/html": [
       "<table>\n",
       "<thead><tr><th scope=col>V1</th><th scope=col>A</th><th scope=col>B</th><th scope=col>C</th><th scope=col>D</th></tr></thead>\n",
       "<tbody>\n",
       "\t<tr><td>2000-01-01 </td><td> 1.3390911 </td><td>-0.16364306</td><td>-0.64644255</td><td> 1.04123259</td></tr>\n",
       "\t<tr><td>2000-01-02 </td><td>-0.7749841 </td><td> 0.13703436</td><td>-0.88271592</td><td>-2.25338189</td></tr>\n",
       "\t<tr><td>2000-01-03 </td><td>-0.9210372 </td><td>-0.48294322</td><td>-0.41709964</td><td> 0.47863752</td></tr>\n",
       "\t<tr><td>2000-01-04 </td><td>-1.7388075 </td><td>-0.07297329</td><td> 0.05651658</td><td> 0.01508496</td></tr>\n",
       "\t<tr><td>2000-01-05 </td><td>-0.9059800 </td><td> 1.77857553</td><td> 0.38191751</td><td> 0.29143556</td></tr>\n",
       "\t<tr><td>2000-01-06 </td><td>-0.8911648 </td><td> 0.74114745</td><td> 0.23748220</td><td>-1.50190850</td></tr>\n",
       "</tbody>\n",
       "</table>\n"
      ],
      "text/latex": [
       "\\begin{tabular}{r|lllll}\n",
       " V1 & A & B & C & D\\\\\n",
       "\\hline\n",
       "\t 2000-01-01  &  1.3390911  & -0.16364306 & -0.64644255 &  1.04123259\\\\\n",
       "\t 2000-01-02  & -0.7749841  &  0.13703436 & -0.88271592 & -2.25338189\\\\\n",
       "\t 2000-01-03  & -0.9210372  & -0.48294322 & -0.41709964 &  0.47863752\\\\\n",
       "\t 2000-01-04  & -1.7388075  & -0.07297329 &  0.05651658 &  0.01508496\\\\\n",
       "\t 2000-01-05  & -0.9059800  &  1.77857553 &  0.38191751 &  0.29143556\\\\\n",
       "\t 2000-01-06  & -0.8911648  &  0.74114745 &  0.23748220 & -1.50190850\\\\\n",
       "\\end{tabular}\n"
      ],
      "text/markdown": [
       "\n",
       "V1 | A | B | C | D | \n",
       "|---|---|---|---|---|---|\n",
       "| 2000-01-01  |  1.3390911  | -0.16364306 | -0.64644255 |  1.04123259 | \n",
       "| 2000-01-02  | -0.7749841  |  0.13703436 | -0.88271592 | -2.25338189 | \n",
       "| 2000-01-03  | -0.9210372  | -0.48294322 | -0.41709964 |  0.47863752 | \n",
       "| 2000-01-04  | -1.7388075  | -0.07297329 |  0.05651658 |  0.01508496 | \n",
       "| 2000-01-05  | -0.9059800  |  1.77857553 |  0.38191751 |  0.29143556 | \n",
       "| 2000-01-06  | -0.8911648  |  0.74114745 |  0.23748220 | -1.50190850 | \n",
       "\n",
       "\n"
      ],
      "text/plain": [
       "  V1         A          B           C           D          \n",
       "1 2000-01-01  1.3390911 -0.16364306 -0.64644255  1.04123259\n",
       "2 2000-01-02 -0.7749841  0.13703436 -0.88271592 -2.25338189\n",
       "3 2000-01-03 -0.9210372 -0.48294322 -0.41709964  0.47863752\n",
       "4 2000-01-04 -1.7388075 -0.07297329  0.05651658  0.01508496\n",
       "5 2000-01-05 -0.9059800  1.77857553  0.38191751  0.29143556\n",
       "6 2000-01-06 -0.8911648  0.74114745  0.23748220 -1.50190850"
      ]
     },
     "metadata": {},
     "output_type": "display_data"
    }
   ],
   "source": [
    "newdf = fread(\"df1\",data.table=F)\n",
    "head(newdf)"
   ]
  },
  {
   "cell_type": "code",
   "execution_count": 28,
   "metadata": {},
   "outputs": [
    {
     "data": {
      "text/html": [
       "'data.frame'"
      ],
      "text/latex": [
       "'data.frame'"
      ],
      "text/markdown": [
       "'data.frame'"
      ],
      "text/plain": [
       "[1] \"data.frame\""
      ]
     },
     "metadata": {},
     "output_type": "display_data"
    }
   ],
   "source": [
    "class(newdf)"
   ]
  },
  {
   "cell_type": "markdown",
   "metadata": {},
   "source": [
    "Podemos definir os *headers* (nomes das colunas) passando um *vector* para o parâmetro `col.names`"
   ]
  },
  {
   "cell_type": "markdown",
   "metadata": {},
   "source": [
    "## Plotagem em R\n",
    "\n",
    "Existem 3 grandes ferramentas para a *plotagem* em R:\n",
    "\n",
    "1. R Base (padrão):\n",
    "    - sintaxe clássica do R\n",
    "    - rápido de usar e funções com nomes intuitivos (`plot`, `hist`, `boxplot`, `barplot`, etc.)\n",
    "2. Lattice:\n",
    "    - aconselhado apra publicações científicas;\n",
    "    - sintaxe similar ao R Base;\n",
    "    - matrizes de plotagem.\n",
    "3. ggplot2 (criado por Hadley Wickham)\n",
    "    - possui uma sintaxe própria;\n",
    "    - vem se tornando a maneira mais utilizada de plotagem em R;\n",
    "    - não é recomendado para iniciantes em R."
   ]
  },
  {
   "cell_type": "code",
   "execution_count": 32,
   "metadata": {},
   "outputs": [
    {
     "data": {
      "image/png": "[encoded data removed]",
      "text/plain": [
       "plot without title"
      ]
     },
     "metadata": {},
     "output_type": "display_data"
    }
   ],
   "source": [
    "x = 5:7\n",
    "y = 8:10\n",
    "plot(x,y)"
   ]
  },
  {
   "cell_type": "code",
   "execution_count": 34,
   "metadata": {},
   "outputs": [
    {
     "data": {
      "text/html": [
       "<ol class=list-inline>\n",
       "\t<li>269</li>\n",
       "\t<li>321</li>\n",
       "\t<li>585</li>\n",
       "\t<li>871</li>\n",
       "\t<li>1475</li>\n",
       "\t<li>2821</li>\n",
       "</ol>\n"
      ],
      "text/latex": [
       "\\begin{enumerate*}\n",
       "\\item 269\n",
       "\\item 321\n",
       "\\item 585\n",
       "\\item 871\n",
       "\\item 1475\n",
       "\\item 2821\n",
       "\\end{enumerate*}\n"
      ],
      "text/markdown": [
       "1. 269\n",
       "2. 321\n",
       "3. 585\n",
       "4. 871\n",
       "5. 1475\n",
       "6. 2821\n",
       "\n",
       "\n"
      ],
      "text/plain": [
       "[1]  269  321  585  871 1475 2821"
      ]
     },
     "metadata": {},
     "output_type": "display_data"
    }
   ],
   "source": [
    "head(lynx)"
   ]
  },
  {
   "cell_type": "code",
   "execution_count": 35,
   "metadata": {},
   "outputs": [
    {
     "data": {
      "text/html": [
       "'ts'"
      ],
      "text/latex": [
       "'ts'"
      ],
      "text/markdown": [
       "'ts'"
      ],
      "text/plain": [
       "[1] \"ts\""
      ]
     },
     "metadata": {},
     "output_type": "display_data"
    }
   ],
   "source": [
    "class(lynx) # lynx é um dataset de séries temporárais"
   ]
  },
  {
   "cell_type": "code",
   "execution_count": 57,
   "metadata": {},
   "outputs": [
    {
     "data": {
      "image/png": "[encoded data removed]",
      "text/plain": [
       "plot without title"
      ]
     },
     "metadata": {},
     "output_type": "display_data"
    }
   ],
   "source": [
    "plot(lynx)"
   ]
  },
  {
   "cell_type": "code",
   "execution_count": 37,
   "metadata": {},
   "outputs": [
    {
     "data": {
      "image/png": "[encoded data removed]",
      "text/plain": [
       "Plot with title “Lynx Trappings”"
      ]
     },
     "metadata": {},
     "output_type": "display_data"
    }
   ],
   "source": [
    "# Vale ressaltar que o parâmetro col trata-se de cor (color) não de coluna.\n",
    "# Além disso, repare como col.main está definindo uma cor através de um inteiro.\n",
    "# Em R cada cor está associada a um inteiro e é por isso que pudemos configurar este parâmetro dessa forma.\n",
    "#\n",
    "# cex é um parâmetro que define várias coisas no nosso gráfico. Em cex.main definimos que o tamanho do título\n",
    "# deve ser 50% maior que o normal\n",
    "plot(lynx, main=\"Lynx Trappings\", col=\"red\", col.main=52, cex.main=1.5)"
   ]
  },
  {
   "cell_type": "code",
   "execution_count": 44,
   "metadata": {},
   "outputs": [
    {
     "data": {
      "text/html": [
       "<ol class=list-inline>\n",
       "\t<li>'white'</li>\n",
       "\t<li>'aliceblue'</li>\n",
       "\t<li>'antiquewhite'</li>\n",
       "\t<li>'antiquewhite1'</li>\n",
       "\t<li>'antiquewhite2'</li>\n",
       "\t<li>'antiquewhite3'</li>\n",
       "\t<li>'antiquewhite4'</li>\n",
       "\t<li>'aquamarine'</li>\n",
       "\t<li>'aquamarine1'</li>\n",
       "\t<li>'aquamarine2'</li>\n",
       "\t<li>'aquamarine3'</li>\n",
       "\t<li>'aquamarine4'</li>\n",
       "\t<li>'azure'</li>\n",
       "\t<li>'azure1'</li>\n",
       "\t<li>'azure2'</li>\n",
       "\t<li>'azure3'</li>\n",
       "\t<li>'azure4'</li>\n",
       "\t<li>'beige'</li>\n",
       "\t<li>'bisque'</li>\n",
       "\t<li>'bisque1'</li>\n",
       "\t<li>'bisque2'</li>\n",
       "\t<li>'bisque3'</li>\n",
       "\t<li>'bisque4'</li>\n",
       "\t<li>'black'</li>\n",
       "\t<li>'blanchedalmond'</li>\n",
       "\t<li>'blue'</li>\n",
       "\t<li>'blue1'</li>\n",
       "\t<li>'blue2'</li>\n",
       "\t<li>'blue3'</li>\n",
       "\t<li>'blue4'</li>\n",
       "\t<li>'blueviolet'</li>\n",
       "\t<li>'brown'</li>\n",
       "\t<li>'brown1'</li>\n",
       "\t<li>'brown2'</li>\n",
       "\t<li>'brown3'</li>\n",
       "\t<li>'brown4'</li>\n",
       "\t<li>'burlywood'</li>\n",
       "\t<li>'burlywood1'</li>\n",
       "\t<li>'burlywood2'</li>\n",
       "\t<li>'burlywood3'</li>\n",
       "\t<li>'burlywood4'</li>\n",
       "\t<li>'cadetblue'</li>\n",
       "\t<li>'cadetblue1'</li>\n",
       "\t<li>'cadetblue2'</li>\n",
       "\t<li>'cadetblue3'</li>\n",
       "\t<li>'cadetblue4'</li>\n",
       "\t<li>'chartreuse'</li>\n",
       "\t<li>'chartreuse1'</li>\n",
       "\t<li>'chartreuse2'</li>\n",
       "\t<li>'chartreuse3'</li>\n",
       "\t<li>'chartreuse4'</li>\n",
       "\t<li>'chocolate'</li>\n",
       "\t<li>'chocolate1'</li>\n",
       "\t<li>'chocolate2'</li>\n",
       "\t<li>'chocolate3'</li>\n",
       "\t<li>'chocolate4'</li>\n",
       "\t<li>'coral'</li>\n",
       "\t<li>'coral1'</li>\n",
       "\t<li>'coral2'</li>\n",
       "\t<li>'coral3'</li>\n",
       "\t<li>'coral4'</li>\n",
       "\t<li>'cornflowerblue'</li>\n",
       "\t<li>'cornsilk'</li>\n",
       "\t<li>'cornsilk1'</li>\n",
       "\t<li>'cornsilk2'</li>\n",
       "\t<li>'cornsilk3'</li>\n",
       "\t<li>'cornsilk4'</li>\n",
       "\t<li>'cyan'</li>\n",
       "\t<li>'cyan1'</li>\n",
       "\t<li>'cyan2'</li>\n",
       "\t<li>'cyan3'</li>\n",
       "\t<li>'cyan4'</li>\n",
       "\t<li>'darkblue'</li>\n",
       "\t<li>'darkcyan'</li>\n",
       "\t<li>'darkgoldenrod'</li>\n",
       "\t<li>'darkgoldenrod1'</li>\n",
       "\t<li>'darkgoldenrod2'</li>\n",
       "\t<li>'darkgoldenrod3'</li>\n",
       "\t<li>'darkgoldenrod4'</li>\n",
       "\t<li>'darkgray'</li>\n",
       "\t<li>'darkgreen'</li>\n",
       "\t<li>'darkgrey'</li>\n",
       "\t<li>'darkkhaki'</li>\n",
       "\t<li>'darkmagenta'</li>\n",
       "\t<li>'darkolivegreen'</li>\n",
       "\t<li>'darkolivegreen1'</li>\n",
       "\t<li>'darkolivegreen2'</li>\n",
       "\t<li>'darkolivegreen3'</li>\n",
       "\t<li>'darkolivegreen4'</li>\n",
       "\t<li>'darkorange'</li>\n",
       "\t<li>'darkorange1'</li>\n",
       "\t<li>'darkorange2'</li>\n",
       "\t<li>'darkorange3'</li>\n",
       "\t<li>'darkorange4'</li>\n",
       "\t<li>'darkorchid'</li>\n",
       "\t<li>'darkorchid1'</li>\n",
       "\t<li>'darkorchid2'</li>\n",
       "\t<li>'darkorchid3'</li>\n",
       "\t<li>'darkorchid4'</li>\n",
       "\t<li>'darkred'</li>\n",
       "\t<li>'darksalmon'</li>\n",
       "\t<li>'darkseagreen'</li>\n",
       "\t<li>'darkseagreen1'</li>\n",
       "\t<li>'darkseagreen2'</li>\n",
       "\t<li>'darkseagreen3'</li>\n",
       "\t<li>'darkseagreen4'</li>\n",
       "\t<li>'darkslateblue'</li>\n",
       "\t<li>'darkslategray'</li>\n",
       "\t<li>'darkslategray1'</li>\n",
       "\t<li>'darkslategray2'</li>\n",
       "\t<li>'darkslategray3'</li>\n",
       "\t<li>'darkslategray4'</li>\n",
       "\t<li>'darkslategrey'</li>\n",
       "\t<li>'darkturquoise'</li>\n",
       "\t<li>'darkviolet'</li>\n",
       "\t<li>'deeppink'</li>\n",
       "\t<li>'deeppink1'</li>\n",
       "\t<li>'deeppink2'</li>\n",
       "\t<li>'deeppink3'</li>\n",
       "\t<li>'deeppink4'</li>\n",
       "\t<li>'deepskyblue'</li>\n",
       "\t<li>'deepskyblue1'</li>\n",
       "\t<li>'deepskyblue2'</li>\n",
       "\t<li>'deepskyblue3'</li>\n",
       "\t<li>'deepskyblue4'</li>\n",
       "\t<li>'dimgray'</li>\n",
       "\t<li>'dimgrey'</li>\n",
       "\t<li>'dodgerblue'</li>\n",
       "\t<li>'dodgerblue1'</li>\n",
       "\t<li>'dodgerblue2'</li>\n",
       "\t<li>'dodgerblue3'</li>\n",
       "\t<li>'dodgerblue4'</li>\n",
       "\t<li>'firebrick'</li>\n",
       "\t<li>'firebrick1'</li>\n",
       "\t<li>'firebrick2'</li>\n",
       "\t<li>'firebrick3'</li>\n",
       "\t<li>'firebrick4'</li>\n",
       "\t<li>'floralwhite'</li>\n",
       "\t<li>'forestgreen'</li>\n",
       "\t<li>'gainsboro'</li>\n",
       "\t<li>'ghostwhite'</li>\n",
       "\t<li>'gold'</li>\n",
       "\t<li>'gold1'</li>\n",
       "\t<li>'gold2'</li>\n",
       "\t<li>'gold3'</li>\n",
       "\t<li>'gold4'</li>\n",
       "\t<li>'goldenrod'</li>\n",
       "\t<li>'goldenrod1'</li>\n",
       "\t<li>'goldenrod2'</li>\n",
       "\t<li>'goldenrod3'</li>\n",
       "\t<li>'goldenrod4'</li>\n",
       "\t<li>'gray'</li>\n",
       "\t<li>'gray0'</li>\n",
       "\t<li>'gray1'</li>\n",
       "\t<li>'gray2'</li>\n",
       "\t<li>'gray3'</li>\n",
       "\t<li>'gray4'</li>\n",
       "\t<li>'gray5'</li>\n",
       "\t<li>'gray6'</li>\n",
       "\t<li>'gray7'</li>\n",
       "\t<li>'gray8'</li>\n",
       "\t<li>'gray9'</li>\n",
       "\t<li>'gray10'</li>\n",
       "\t<li>'gray11'</li>\n",
       "\t<li>'gray12'</li>\n",
       "\t<li>'gray13'</li>\n",
       "\t<li>'gray14'</li>\n",
       "\t<li>'gray15'</li>\n",
       "\t<li>'gray16'</li>\n",
       "\t<li>'gray17'</li>\n",
       "\t<li>'gray18'</li>\n",
       "\t<li>'gray19'</li>\n",
       "\t<li>'gray20'</li>\n",
       "\t<li>'gray21'</li>\n",
       "\t<li>'gray22'</li>\n",
       "\t<li>'gray23'</li>\n",
       "\t<li>'gray24'</li>\n",
       "\t<li>'gray25'</li>\n",
       "\t<li>'gray26'</li>\n",
       "\t<li>'gray27'</li>\n",
       "\t<li>'gray28'</li>\n",
       "\t<li>'gray29'</li>\n",
       "\t<li>'gray30'</li>\n",
       "\t<li>'gray31'</li>\n",
       "\t<li>'gray32'</li>\n",
       "\t<li>'gray33'</li>\n",
       "\t<li>'gray34'</li>\n",
       "\t<li>'gray35'</li>\n",
       "\t<li>'gray36'</li>\n",
       "\t<li>'gray37'</li>\n",
       "\t<li>'gray38'</li>\n",
       "\t<li>'gray39'</li>\n",
       "\t<li>'gray40'</li>\n",
       "\t<li>'gray41'</li>\n",
       "\t<li>'gray42'</li>\n",
       "\t<li>'gray43'</li>\n",
       "\t<li>'gray44'</li>\n",
       "\t<li>'gray45'</li>\n",
       "\t<li>'gray46'</li>\n",
       "\t<li>'gray47'</li>\n",
       "\t<li>'gray48'</li>\n",
       "\t<li>'gray49'</li>\n",
       "\t<li>'gray50'</li>\n",
       "\t<li>'gray51'</li>\n",
       "\t<li>'gray52'</li>\n",
       "\t<li>'gray53'</li>\n",
       "\t<li>'gray54'</li>\n",
       "\t<li>'gray55'</li>\n",
       "\t<li>'gray56'</li>\n",
       "\t<li>'gray57'</li>\n",
       "\t<li>'gray58'</li>\n",
       "\t<li>'gray59'</li>\n",
       "\t<li>'gray60'</li>\n",
       "\t<li>'gray61'</li>\n",
       "\t<li>'gray62'</li>\n",
       "\t<li>'gray63'</li>\n",
       "\t<li>'gray64'</li>\n",
       "\t<li>'gray65'</li>\n",
       "\t<li>'gray66'</li>\n",
       "\t<li>'gray67'</li>\n",
       "\t<li>'gray68'</li>\n",
       "\t<li>'gray69'</li>\n",
       "\t<li>'gray70'</li>\n",
       "\t<li>'gray71'</li>\n",
       "\t<li>'gray72'</li>\n",
       "\t<li>'gray73'</li>\n",
       "\t<li>'gray74'</li>\n",
       "\t<li>'gray75'</li>\n",
       "\t<li>'gray76'</li>\n",
       "\t<li>'gray77'</li>\n",
       "\t<li>'gray78'</li>\n",
       "\t<li>'gray79'</li>\n",
       "\t<li>'gray80'</li>\n",
       "\t<li>'gray81'</li>\n",
       "\t<li>'gray82'</li>\n",
       "\t<li>'gray83'</li>\n",
       "\t<li>'gray84'</li>\n",
       "\t<li>'gray85'</li>\n",
       "\t<li>'gray86'</li>\n",
       "\t<li>'gray87'</li>\n",
       "\t<li>'gray88'</li>\n",
       "\t<li>'gray89'</li>\n",
       "\t<li>'gray90'</li>\n",
       "\t<li>'gray91'</li>\n",
       "\t<li>'gray92'</li>\n",
       "\t<li>'gray93'</li>\n",
       "\t<li>'gray94'</li>\n",
       "\t<li>'gray95'</li>\n",
       "\t<li>'gray96'</li>\n",
       "\t<li>'gray97'</li>\n",
       "\t<li>'gray98'</li>\n",
       "\t<li>'gray99'</li>\n",
       "\t<li>'gray100'</li>\n",
       "\t<li>'green'</li>\n",
       "\t<li>'green1'</li>\n",
       "\t<li>'green2'</li>\n",
       "\t<li>'green3'</li>\n",
       "\t<li>'green4'</li>\n",
       "\t<li>'greenyellow'</li>\n",
       "\t<li>'grey'</li>\n",
       "\t<li>'grey0'</li>\n",
       "\t<li>'grey1'</li>\n",
       "\t<li>'grey2'</li>\n",
       "\t<li>'grey3'</li>\n",
       "\t<li>'grey4'</li>\n",
       "\t<li>'grey5'</li>\n",
       "\t<li>'grey6'</li>\n",
       "\t<li>'grey7'</li>\n",
       "\t<li>'grey8'</li>\n",
       "\t<li>'grey9'</li>\n",
       "\t<li>'grey10'</li>\n",
       "\t<li>'grey11'</li>\n",
       "\t<li>'grey12'</li>\n",
       "\t<li>'grey13'</li>\n",
       "\t<li>'grey14'</li>\n",
       "\t<li>'grey15'</li>\n",
       "\t<li>'grey16'</li>\n",
       "\t<li>'grey17'</li>\n",
       "\t<li>'grey18'</li>\n",
       "\t<li>'grey19'</li>\n",
       "\t<li>'grey20'</li>\n",
       "\t<li>'grey21'</li>\n",
       "\t<li>'grey22'</li>\n",
       "\t<li>'grey23'</li>\n",
       "\t<li>'grey24'</li>\n",
       "\t<li>'grey25'</li>\n",
       "\t<li>'grey26'</li>\n",
       "\t<li>'grey27'</li>\n",
       "\t<li>'grey28'</li>\n",
       "\t<li>'grey29'</li>\n",
       "\t<li>'grey30'</li>\n",
       "\t<li>'grey31'</li>\n",
       "\t<li>'grey32'</li>\n",
       "\t<li>'grey33'</li>\n",
       "\t<li>'grey34'</li>\n",
       "\t<li>'grey35'</li>\n",
       "\t<li>'grey36'</li>\n",
       "\t<li>'grey37'</li>\n",
       "\t<li>'grey38'</li>\n",
       "\t<li>'grey39'</li>\n",
       "\t<li>'grey40'</li>\n",
       "\t<li>'grey41'</li>\n",
       "\t<li>'grey42'</li>\n",
       "\t<li>'grey43'</li>\n",
       "\t<li>'grey44'</li>\n",
       "\t<li>'grey45'</li>\n",
       "\t<li>'grey46'</li>\n",
       "\t<li>'grey47'</li>\n",
       "\t<li>'grey48'</li>\n",
       "\t<li>'grey49'</li>\n",
       "\t<li>'grey50'</li>\n",
       "\t<li>'grey51'</li>\n",
       "\t<li>'grey52'</li>\n",
       "\t<li>'grey53'</li>\n",
       "\t<li>'grey54'</li>\n",
       "\t<li>'grey55'</li>\n",
       "\t<li>'grey56'</li>\n",
       "\t<li>'grey57'</li>\n",
       "\t<li>'grey58'</li>\n",
       "\t<li>'grey59'</li>\n",
       "\t<li>'grey60'</li>\n",
       "\t<li>'grey61'</li>\n",
       "\t<li>'grey62'</li>\n",
       "\t<li>'grey63'</li>\n",
       "\t<li>'grey64'</li>\n",
       "\t<li>'grey65'</li>\n",
       "\t<li>'grey66'</li>\n",
       "\t<li>'grey67'</li>\n",
       "\t<li>'grey68'</li>\n",
       "\t<li>'grey69'</li>\n",
       "\t<li>'grey70'</li>\n",
       "\t<li>'grey71'</li>\n",
       "\t<li>'grey72'</li>\n",
       "\t<li>'grey73'</li>\n",
       "\t<li>'grey74'</li>\n",
       "\t<li>'grey75'</li>\n",
       "\t<li>'grey76'</li>\n",
       "\t<li>'grey77'</li>\n",
       "\t<li>'grey78'</li>\n",
       "\t<li>'grey79'</li>\n",
       "\t<li>'grey80'</li>\n",
       "\t<li>'grey81'</li>\n",
       "\t<li>'grey82'</li>\n",
       "\t<li>'grey83'</li>\n",
       "\t<li>'grey84'</li>\n",
       "\t<li>'grey85'</li>\n",
       "\t<li>'grey86'</li>\n",
       "\t<li>'grey87'</li>\n",
       "\t<li>'grey88'</li>\n",
       "\t<li>'grey89'</li>\n",
       "\t<li>'grey90'</li>\n",
       "\t<li>'grey91'</li>\n",
       "\t<li>'grey92'</li>\n",
       "\t<li>'grey93'</li>\n",
       "\t<li>'grey94'</li>\n",
       "\t<li>'grey95'</li>\n",
       "\t<li>'grey96'</li>\n",
       "\t<li>'grey97'</li>\n",
       "\t<li>'grey98'</li>\n",
       "\t<li>'grey99'</li>\n",
       "\t<li>'grey100'</li>\n",
       "\t<li>'honeydew'</li>\n",
       "\t<li>'honeydew1'</li>\n",
       "\t<li>'honeydew2'</li>\n",
       "\t<li>'honeydew3'</li>\n",
       "\t<li>'honeydew4'</li>\n",
       "\t<li>'hotpink'</li>\n",
       "\t<li>'hotpink1'</li>\n",
       "\t<li>'hotpink2'</li>\n",
       "\t<li>'hotpink3'</li>\n",
       "\t<li>'hotpink4'</li>\n",
       "\t<li>'indianred'</li>\n",
       "\t<li>'indianred1'</li>\n",
       "\t<li>'indianred2'</li>\n",
       "\t<li>'indianred3'</li>\n",
       "\t<li>'indianred4'</li>\n",
       "\t<li>'ivory'</li>\n",
       "\t<li>'ivory1'</li>\n",
       "\t<li>'ivory2'</li>\n",
       "\t<li>'ivory3'</li>\n",
       "\t<li>'ivory4'</li>\n",
       "\t<li>'khaki'</li>\n",
       "\t<li>'khaki1'</li>\n",
       "\t<li>'khaki2'</li>\n",
       "\t<li>'khaki3'</li>\n",
       "\t<li>'khaki4'</li>\n",
       "\t<li>'lavender'</li>\n",
       "\t<li>'lavenderblush'</li>\n",
       "\t<li>'lavenderblush1'</li>\n",
       "\t<li>'lavenderblush2'</li>\n",
       "\t<li>'lavenderblush3'</li>\n",
       "\t<li>'lavenderblush4'</li>\n",
       "\t<li>'lawngreen'</li>\n",
       "\t<li>'lemonchiffon'</li>\n",
       "\t<li>'lemonchiffon1'</li>\n",
       "\t<li>'lemonchiffon2'</li>\n",
       "\t<li>'lemonchiffon3'</li>\n",
       "\t<li>'lemonchiffon4'</li>\n",
       "\t<li>'lightblue'</li>\n",
       "\t<li>'lightblue1'</li>\n",
       "\t<li>'lightblue2'</li>\n",
       "\t<li>'lightblue3'</li>\n",
       "\t<li>'lightblue4'</li>\n",
       "\t<li>'lightcoral'</li>\n",
       "\t<li>'lightcyan'</li>\n",
       "\t<li>'lightcyan1'</li>\n",
       "\t<li>'lightcyan2'</li>\n",
       "\t<li>'lightcyan3'</li>\n",
       "\t<li>'lightcyan4'</li>\n",
       "\t<li>'lightgoldenrod'</li>\n",
       "\t<li>'lightgoldenrod1'</li>\n",
       "\t<li>'lightgoldenrod2'</li>\n",
       "\t<li>'lightgoldenrod3'</li>\n",
       "\t<li>'lightgoldenrod4'</li>\n",
       "\t<li>'lightgoldenrodyellow'</li>\n",
       "\t<li>'lightgray'</li>\n",
       "\t<li>'lightgreen'</li>\n",
       "\t<li>'lightgrey'</li>\n",
       "\t<li>'lightpink'</li>\n",
       "\t<li>'lightpink1'</li>\n",
       "\t<li>'lightpink2'</li>\n",
       "\t<li>'lightpink3'</li>\n",
       "\t<li>'lightpink4'</li>\n",
       "\t<li>'lightsalmon'</li>\n",
       "\t<li>'lightsalmon1'</li>\n",
       "\t<li>'lightsalmon2'</li>\n",
       "\t<li>'lightsalmon3'</li>\n",
       "\t<li>'lightsalmon4'</li>\n",
       "\t<li>'lightseagreen'</li>\n",
       "\t<li>'lightskyblue'</li>\n",
       "\t<li>'lightskyblue1'</li>\n",
       "\t<li>'lightskyblue2'</li>\n",
       "\t<li>'lightskyblue3'</li>\n",
       "\t<li>'lightskyblue4'</li>\n",
       "\t<li>'lightslateblue'</li>\n",
       "\t<li>'lightslategray'</li>\n",
       "\t<li>'lightslategrey'</li>\n",
       "\t<li>'lightsteelblue'</li>\n",
       "\t<li>'lightsteelblue1'</li>\n",
       "\t<li>'lightsteelblue2'</li>\n",
       "\t<li>'lightsteelblue3'</li>\n",
       "\t<li>'lightsteelblue4'</li>\n",
       "\t<li>'lightyellow'</li>\n",
       "\t<li>'lightyellow1'</li>\n",
       "\t<li>'lightyellow2'</li>\n",
       "\t<li>'lightyellow3'</li>\n",
       "\t<li>'lightyellow4'</li>\n",
       "\t<li>'limegreen'</li>\n",
       "\t<li>'linen'</li>\n",
       "\t<li>'magenta'</li>\n",
       "\t<li>'magenta1'</li>\n",
       "\t<li>'magenta2'</li>\n",
       "\t<li>'magenta3'</li>\n",
       "\t<li>'magenta4'</li>\n",
       "\t<li>'maroon'</li>\n",
       "\t<li>'maroon1'</li>\n",
       "\t<li>'maroon2'</li>\n",
       "\t<li>'maroon3'</li>\n",
       "\t<li>'maroon4'</li>\n",
       "\t<li>'mediumaquamarine'</li>\n",
       "\t<li>'mediumblue'</li>\n",
       "\t<li>'mediumorchid'</li>\n",
       "\t<li>'mediumorchid1'</li>\n",
       "\t<li>'mediumorchid2'</li>\n",
       "\t<li>'mediumorchid3'</li>\n",
       "\t<li>'mediumorchid4'</li>\n",
       "\t<li>'mediumpurple'</li>\n",
       "\t<li>'mediumpurple1'</li>\n",
       "\t<li>'mediumpurple2'</li>\n",
       "\t<li>'mediumpurple3'</li>\n",
       "\t<li>'mediumpurple4'</li>\n",
       "\t<li>'mediumseagreen'</li>\n",
       "\t<li>'mediumslateblue'</li>\n",
       "\t<li>'mediumspringgreen'</li>\n",
       "\t<li>'mediumturquoise'</li>\n",
       "\t<li>'mediumvioletred'</li>\n",
       "\t<li>'midnightblue'</li>\n",
       "\t<li>'mintcream'</li>\n",
       "\t<li>'mistyrose'</li>\n",
       "\t<li>'mistyrose1'</li>\n",
       "\t<li>'mistyrose2'</li>\n",
       "\t<li>'mistyrose3'</li>\n",
       "\t<li>'mistyrose4'</li>\n",
       "\t<li>'moccasin'</li>\n",
       "\t<li>'navajowhite'</li>\n",
       "\t<li>'navajowhite1'</li>\n",
       "\t<li>'navajowhite2'</li>\n",
       "\t<li>'navajowhite3'</li>\n",
       "\t<li>'navajowhite4'</li>\n",
       "\t<li>'navy'</li>\n",
       "\t<li>'navyblue'</li>\n",
       "\t<li>'oldlace'</li>\n",
       "\t<li>'olivedrab'</li>\n",
       "\t<li>'olivedrab1'</li>\n",
       "\t<li>'olivedrab2'</li>\n",
       "\t<li>'olivedrab3'</li>\n",
       "\t<li>'olivedrab4'</li>\n",
       "\t<li>'orange'</li>\n",
       "\t<li>'orange1'</li>\n",
       "\t<li>'orange2'</li>\n",
       "\t<li>'orange3'</li>\n",
       "\t<li>'orange4'</li>\n",
       "\t<li>'orangered'</li>\n",
       "\t<li>'orangered1'</li>\n",
       "\t<li>'orangered2'</li>\n",
       "\t<li>'orangered3'</li>\n",
       "\t<li>'orangered4'</li>\n",
       "\t<li>'orchid'</li>\n",
       "\t<li>'orchid1'</li>\n",
       "\t<li>'orchid2'</li>\n",
       "\t<li>'orchid3'</li>\n",
       "\t<li>'orchid4'</li>\n",
       "\t<li>'palegoldenrod'</li>\n",
       "\t<li>'palegreen'</li>\n",
       "\t<li>'palegreen1'</li>\n",
       "\t<li>'palegreen2'</li>\n",
       "\t<li>'palegreen3'</li>\n",
       "\t<li>'palegreen4'</li>\n",
       "\t<li>'paleturquoise'</li>\n",
       "\t<li>'paleturquoise1'</li>\n",
       "\t<li>'paleturquoise2'</li>\n",
       "\t<li>'paleturquoise3'</li>\n",
       "\t<li>'paleturquoise4'</li>\n",
       "\t<li>'palevioletred'</li>\n",
       "\t<li>'palevioletred1'</li>\n",
       "\t<li>'palevioletred2'</li>\n",
       "\t<li>'palevioletred3'</li>\n",
       "\t<li>'palevioletred4'</li>\n",
       "\t<li>'papayawhip'</li>\n",
       "\t<li>'peachpuff'</li>\n",
       "\t<li>'peachpuff1'</li>\n",
       "\t<li>'peachpuff2'</li>\n",
       "\t<li>'peachpuff3'</li>\n",
       "\t<li>'peachpuff4'</li>\n",
       "\t<li>'peru'</li>\n",
       "\t<li>'pink'</li>\n",
       "\t<li>'pink1'</li>\n",
       "\t<li>'pink2'</li>\n",
       "\t<li>'pink3'</li>\n",
       "\t<li>'pink4'</li>\n",
       "\t<li>'plum'</li>\n",
       "\t<li>'plum1'</li>\n",
       "\t<li>'plum2'</li>\n",
       "\t<li>'plum3'</li>\n",
       "\t<li>'plum4'</li>\n",
       "\t<li>'powderblue'</li>\n",
       "\t<li>'purple'</li>\n",
       "\t<li>'purple1'</li>\n",
       "\t<li>'purple2'</li>\n",
       "\t<li>'purple3'</li>\n",
       "\t<li>'purple4'</li>\n",
       "\t<li>'red'</li>\n",
       "\t<li>'red1'</li>\n",
       "\t<li>'red2'</li>\n",
       "\t<li>'red3'</li>\n",
       "\t<li>'red4'</li>\n",
       "\t<li>'rosybrown'</li>\n",
       "\t<li>'rosybrown1'</li>\n",
       "\t<li>'rosybrown2'</li>\n",
       "\t<li>'rosybrown3'</li>\n",
       "\t<li>'rosybrown4'</li>\n",
       "\t<li>'royalblue'</li>\n",
       "\t<li>'royalblue1'</li>\n",
       "\t<li>'royalblue2'</li>\n",
       "\t<li>'royalblue3'</li>\n",
       "\t<li>'royalblue4'</li>\n",
       "\t<li>'saddlebrown'</li>\n",
       "\t<li>'salmon'</li>\n",
       "\t<li>'salmon1'</li>\n",
       "\t<li>'salmon2'</li>\n",
       "\t<li>'salmon3'</li>\n",
       "\t<li>'salmon4'</li>\n",
       "\t<li>'sandybrown'</li>\n",
       "\t<li>'seagreen'</li>\n",
       "\t<li>'seagreen1'</li>\n",
       "\t<li>'seagreen2'</li>\n",
       "\t<li>'seagreen3'</li>\n",
       "\t<li>'seagreen4'</li>\n",
       "\t<li>'seashell'</li>\n",
       "\t<li>'seashell1'</li>\n",
       "\t<li>'seashell2'</li>\n",
       "\t<li>'seashell3'</li>\n",
       "\t<li>'seashell4'</li>\n",
       "\t<li>'sienna'</li>\n",
       "\t<li>'sienna1'</li>\n",
       "\t<li>'sienna2'</li>\n",
       "\t<li>'sienna3'</li>\n",
       "\t<li>'sienna4'</li>\n",
       "\t<li>'skyblue'</li>\n",
       "\t<li>'skyblue1'</li>\n",
       "\t<li>'skyblue2'</li>\n",
       "\t<li>'skyblue3'</li>\n",
       "\t<li>'skyblue4'</li>\n",
       "\t<li>'slateblue'</li>\n",
       "\t<li>'slateblue1'</li>\n",
       "\t<li>'slateblue2'</li>\n",
       "\t<li>'slateblue3'</li>\n",
       "\t<li>'slateblue4'</li>\n",
       "\t<li>'slategray'</li>\n",
       "\t<li>'slategray1'</li>\n",
       "\t<li>'slategray2'</li>\n",
       "\t<li>'slategray3'</li>\n",
       "\t<li>'slategray4'</li>\n",
       "\t<li>'slategrey'</li>\n",
       "\t<li>'snow'</li>\n",
       "\t<li>'snow1'</li>\n",
       "\t<li>'snow2'</li>\n",
       "\t<li>'snow3'</li>\n",
       "\t<li>'snow4'</li>\n",
       "\t<li>'springgreen'</li>\n",
       "\t<li>'springgreen1'</li>\n",
       "\t<li>'springgreen2'</li>\n",
       "\t<li>'springgreen3'</li>\n",
       "\t<li>'springgreen4'</li>\n",
       "\t<li>'steelblue'</li>\n",
       "\t<li>'steelblue1'</li>\n",
       "\t<li>'steelblue2'</li>\n",
       "\t<li>'steelblue3'</li>\n",
       "\t<li>'steelblue4'</li>\n",
       "\t<li>'tan'</li>\n",
       "\t<li>'tan1'</li>\n",
       "\t<li>'tan2'</li>\n",
       "\t<li>'tan3'</li>\n",
       "\t<li>'tan4'</li>\n",
       "\t<li>'thistle'</li>\n",
       "\t<li>'thistle1'</li>\n",
       "\t<li>'thistle2'</li>\n",
       "\t<li>'thistle3'</li>\n",
       "\t<li>'thistle4'</li>\n",
       "\t<li>'tomato'</li>\n",
       "\t<li>'tomato1'</li>\n",
       "\t<li>'tomato2'</li>\n",
       "\t<li>'tomato3'</li>\n",
       "\t<li>'tomato4'</li>\n",
       "\t<li>'turquoise'</li>\n",
       "\t<li>'turquoise1'</li>\n",
       "\t<li>'turquoise2'</li>\n",
       "\t<li>'turquoise3'</li>\n",
       "\t<li>'turquoise4'</li>\n",
       "\t<li>'violet'</li>\n",
       "\t<li>'violetred'</li>\n",
       "\t<li>'violetred1'</li>\n",
       "\t<li>'violetred2'</li>\n",
       "\t<li>'violetred3'</li>\n",
       "\t<li>'violetred4'</li>\n",
       "\t<li>'wheat'</li>\n",
       "\t<li>'wheat1'</li>\n",
       "\t<li>'wheat2'</li>\n",
       "\t<li>'wheat3'</li>\n",
       "\t<li>'wheat4'</li>\n",
       "\t<li>'whitesmoke'</li>\n",
       "\t<li>'yellow'</li>\n",
       "\t<li>'yellow1'</li>\n",
       "\t<li>'yellow2'</li>\n",
       "\t<li>'yellow3'</li>\n",
       "\t<li>'yellow4'</li>\n",
       "\t<li>'yellowgreen'</li>\n",
       "</ol>\n"
      ],
      "text/latex": [
       "\\begin{enumerate*}\n",
       "\\item 'white'\n",
       "\\item 'aliceblue'\n",
       "\\item 'antiquewhite'\n",
       "\\item 'antiquewhite1'\n",
       "\\item 'antiquewhite2'\n",
       "\\item 'antiquewhite3'\n",
       "\\item 'antiquewhite4'\n",
       "\\item 'aquamarine'\n",
       "\\item 'aquamarine1'\n",
       "\\item 'aquamarine2'\n",
       "\\item 'aquamarine3'\n",
       "\\item 'aquamarine4'\n",
       "\\item 'azure'\n",
       "\\item 'azure1'\n",
       "\\item 'azure2'\n",
       "\\item 'azure3'\n",
       "\\item 'azure4'\n",
       "\\item 'beige'\n",
       "\\item 'bisque'\n",
       "\\item 'bisque1'\n",
       "\\item 'bisque2'\n",
       "\\item 'bisque3'\n",
       "\\item 'bisque4'\n",
       "\\item 'black'\n",
       "\\item 'blanchedalmond'\n",
       "\\item 'blue'\n",
       "\\item 'blue1'\n",
       "\\item 'blue2'\n",
       "\\item 'blue3'\n",
       "\\item 'blue4'\n",
       "\\item 'blueviolet'\n",
       "\\item 'brown'\n",
       "\\item 'brown1'\n",
       "\\item 'brown2'\n",
       "\\item 'brown3'\n",
       "\\item 'brown4'\n",
       "\\item 'burlywood'\n",
       "\\item 'burlywood1'\n",
       "\\item 'burlywood2'\n",
       "\\item 'burlywood3'\n",
       "\\item 'burlywood4'\n",
       "\\item 'cadetblue'\n",
       "\\item 'cadetblue1'\n",
       "\\item 'cadetblue2'\n",
       "\\item 'cadetblue3'\n",
       "\\item 'cadetblue4'\n",
       "\\item 'chartreuse'\n",
       "\\item 'chartreuse1'\n",
       "\\item 'chartreuse2'\n",
       "\\item 'chartreuse3'\n",
       "\\item 'chartreuse4'\n",
       "\\item 'chocolate'\n",
       "\\item 'chocolate1'\n",
       "\\item 'chocolate2'\n",
       "\\item 'chocolate3'\n",
       "\\item 'chocolate4'\n",
       "\\item 'coral'\n",
       "\\item 'coral1'\n",
       "\\item 'coral2'\n",
       "\\item 'coral3'\n",
       "\\item 'coral4'\n",
       "\\item 'cornflowerblue'\n",
       "\\item 'cornsilk'\n",
       "\\item 'cornsilk1'\n",
       "\\item 'cornsilk2'\n",
       "\\item 'cornsilk3'\n",
       "\\item 'cornsilk4'\n",
       "\\item 'cyan'\n",
       "\\item 'cyan1'\n",
       "\\item 'cyan2'\n",
       "\\item 'cyan3'\n",
       "\\item 'cyan4'\n",
       "\\item 'darkblue'\n",
       "\\item 'darkcyan'\n",
       "\\item 'darkgoldenrod'\n",
       "\\item 'darkgoldenrod1'\n",
       "\\item 'darkgoldenrod2'\n",
       "\\item 'darkgoldenrod3'\n",
       "\\item 'darkgoldenrod4'\n",
       "\\item 'darkgray'\n",
       "\\item 'darkgreen'\n",
       "\\item 'darkgrey'\n",
       "\\item 'darkkhaki'\n",
       "\\item 'darkmagenta'\n",
       "\\item 'darkolivegreen'\n",
       "\\item 'darkolivegreen1'\n",
       "\\item 'darkolivegreen2'\n",
       "\\item 'darkolivegreen3'\n",
       "\\item 'darkolivegreen4'\n",
       "\\item 'darkorange'\n",
       "\\item 'darkorange1'\n",
       "\\item 'darkorange2'\n",
       "\\item 'darkorange3'\n",
       "\\item 'darkorange4'\n",
       "\\item 'darkorchid'\n",
       "\\item 'darkorchid1'\n",
       "\\item 'darkorchid2'\n",
       "\\item 'darkorchid3'\n",
       "\\item 'darkorchid4'\n",
       "\\item 'darkred'\n",
       "\\item 'darksalmon'\n",
       "\\item 'darkseagreen'\n",
       "\\item 'darkseagreen1'\n",
       "\\item 'darkseagreen2'\n",
       "\\item 'darkseagreen3'\n",
       "\\item 'darkseagreen4'\n",
       "\\item 'darkslateblue'\n",
       "\\item 'darkslategray'\n",
       "\\item 'darkslategray1'\n",
       "\\item 'darkslategray2'\n",
       "\\item 'darkslategray3'\n",
       "\\item 'darkslategray4'\n",
       "\\item 'darkslategrey'\n",
       "\\item 'darkturquoise'\n",
       "\\item 'darkviolet'\n",
       "\\item 'deeppink'\n",
       "\\item 'deeppink1'\n",
       "\\item 'deeppink2'\n",
       "\\item 'deeppink3'\n",
       "\\item 'deeppink4'\n",
       "\\item 'deepskyblue'\n",
       "\\item 'deepskyblue1'\n",
       "\\item 'deepskyblue2'\n",
       "\\item 'deepskyblue3'\n",
       "\\item 'deepskyblue4'\n",
       "\\item 'dimgray'\n",
       "\\item 'dimgrey'\n",
       "\\item 'dodgerblue'\n",
       "\\item 'dodgerblue1'\n",
       "\\item 'dodgerblue2'\n",
       "\\item 'dodgerblue3'\n",
       "\\item 'dodgerblue4'\n",
       "\\item 'firebrick'\n",
       "\\item 'firebrick1'\n",
       "\\item 'firebrick2'\n",
       "\\item 'firebrick3'\n",
       "\\item 'firebrick4'\n",
       "\\item 'floralwhite'\n",
       "\\item 'forestgreen'\n",
       "\\item 'gainsboro'\n",
       "\\item 'ghostwhite'\n",
       "\\item 'gold'\n",
       "\\item 'gold1'\n",
       "\\item 'gold2'\n",
       "\\item 'gold3'\n",
       "\\item 'gold4'\n",
       "\\item 'goldenrod'\n",
       "\\item 'goldenrod1'\n",
       "\\item 'goldenrod2'\n",
       "\\item 'goldenrod3'\n",
       "\\item 'goldenrod4'\n",
       "\\item 'gray'\n",
       "\\item 'gray0'\n",
       "\\item 'gray1'\n",
       "\\item 'gray2'\n",
       "\\item 'gray3'\n",
       "\\item 'gray4'\n",
       "\\item 'gray5'\n",
       "\\item 'gray6'\n",
       "\\item 'gray7'\n",
       "\\item 'gray8'\n",
       "\\item 'gray9'\n",
       "\\item 'gray10'\n",
       "\\item 'gray11'\n",
       "\\item 'gray12'\n",
       "\\item 'gray13'\n",
       "\\item 'gray14'\n",
       "\\item 'gray15'\n",
       "\\item 'gray16'\n",
       "\\item 'gray17'\n",
       "\\item 'gray18'\n",
       "\\item 'gray19'\n",
       "\\item 'gray20'\n",
       "\\item 'gray21'\n",
       "\\item 'gray22'\n",
       "\\item 'gray23'\n",
       "\\item 'gray24'\n",
       "\\item 'gray25'\n",
       "\\item 'gray26'\n",
       "\\item 'gray27'\n",
       "\\item 'gray28'\n",
       "\\item 'gray29'\n",
       "\\item 'gray30'\n",
       "\\item 'gray31'\n",
       "\\item 'gray32'\n",
       "\\item 'gray33'\n",
       "\\item 'gray34'\n",
       "\\item 'gray35'\n",
       "\\item 'gray36'\n",
       "\\item 'gray37'\n",
       "\\item 'gray38'\n",
       "\\item 'gray39'\n",
       "\\item 'gray40'\n",
       "\\item 'gray41'\n",
       "\\item 'gray42'\n",
       "\\item 'gray43'\n",
       "\\item 'gray44'\n",
       "\\item 'gray45'\n",
       "\\item 'gray46'\n",
       "\\item 'gray47'\n",
       "\\item 'gray48'\n",
       "\\item 'gray49'\n",
       "\\item 'gray50'\n",
       "\\item 'gray51'\n",
       "\\item 'gray52'\n",
       "\\item 'gray53'\n",
       "\\item 'gray54'\n",
       "\\item 'gray55'\n",
       "\\item 'gray56'\n",
       "\\item 'gray57'\n",
       "\\item 'gray58'\n",
       "\\item 'gray59'\n",
       "\\item 'gray60'\n",
       "\\item 'gray61'\n",
       "\\item 'gray62'\n",
       "\\item 'gray63'\n",
       "\\item 'gray64'\n",
       "\\item 'gray65'\n",
       "\\item 'gray66'\n",
       "\\item 'gray67'\n",
       "\\item 'gray68'\n",
       "\\item 'gray69'\n",
       "\\item 'gray70'\n",
       "\\item 'gray71'\n",
       "\\item 'gray72'\n",
       "\\item 'gray73'\n",
       "\\item 'gray74'\n",
       "\\item 'gray75'\n",
       "\\item 'gray76'\n",
       "\\item 'gray77'\n",
       "\\item 'gray78'\n",
       "\\item 'gray79'\n",
       "\\item 'gray80'\n",
       "\\item 'gray81'\n",
       "\\item 'gray82'\n",
       "\\item 'gray83'\n",
       "\\item 'gray84'\n",
       "\\item 'gray85'\n",
       "\\item 'gray86'\n",
       "\\item 'gray87'\n",
       "\\item 'gray88'\n",
       "\\item 'gray89'\n",
       "\\item 'gray90'\n",
       "\\item 'gray91'\n",
       "\\item 'gray92'\n",
       "\\item 'gray93'\n",
       "\\item 'gray94'\n",
       "\\item 'gray95'\n",
       "\\item 'gray96'\n",
       "\\item 'gray97'\n",
       "\\item 'gray98'\n",
       "\\item 'gray99'\n",
       "\\item 'gray100'\n",
       "\\item 'green'\n",
       "\\item 'green1'\n",
       "\\item 'green2'\n",
       "\\item 'green3'\n",
       "\\item 'green4'\n",
       "\\item 'greenyellow'\n",
       "\\item 'grey'\n",
       "\\item 'grey0'\n",
       "\\item 'grey1'\n",
       "\\item 'grey2'\n",
       "\\item 'grey3'\n",
       "\\item 'grey4'\n",
       "\\item 'grey5'\n",
       "\\item 'grey6'\n",
       "\\item 'grey7'\n",
       "\\item 'grey8'\n",
       "\\item 'grey9'\n",
       "\\item 'grey10'\n",
       "\\item 'grey11'\n",
       "\\item 'grey12'\n",
       "\\item 'grey13'\n",
       "\\item 'grey14'\n",
       "\\item 'grey15'\n",
       "\\item 'grey16'\n",
       "\\item 'grey17'\n",
       "\\item 'grey18'\n",
       "\\item 'grey19'\n",
       "\\item 'grey20'\n",
       "\\item 'grey21'\n",
       "\\item 'grey22'\n",
       "\\item 'grey23'\n",
       "\\item 'grey24'\n",
       "\\item 'grey25'\n",
       "\\item 'grey26'\n",
       "\\item 'grey27'\n",
       "\\item 'grey28'\n",
       "\\item 'grey29'\n",
       "\\item 'grey30'\n",
       "\\item 'grey31'\n",
       "\\item 'grey32'\n",
       "\\item 'grey33'\n",
       "\\item 'grey34'\n",
       "\\item 'grey35'\n",
       "\\item 'grey36'\n",
       "\\item 'grey37'\n",
       "\\item 'grey38'\n",
       "\\item 'grey39'\n",
       "\\item 'grey40'\n",
       "\\item 'grey41'\n",
       "\\item 'grey42'\n",
       "\\item 'grey43'\n",
       "\\item 'grey44'\n",
       "\\item 'grey45'\n",
       "\\item 'grey46'\n",
       "\\item 'grey47'\n",
       "\\item 'grey48'\n",
       "\\item 'grey49'\n",
       "\\item 'grey50'\n",
       "\\item 'grey51'\n",
       "\\item 'grey52'\n",
       "\\item 'grey53'\n",
       "\\item 'grey54'\n",
       "\\item 'grey55'\n",
       "\\item 'grey56'\n",
       "\\item 'grey57'\n",
       "\\item 'grey58'\n",
       "\\item 'grey59'\n",
       "\\item 'grey60'\n",
       "\\item 'grey61'\n",
       "\\item 'grey62'\n",
       "\\item 'grey63'\n",
       "\\item 'grey64'\n",
       "\\item 'grey65'\n",
       "\\item 'grey66'\n",
       "\\item 'grey67'\n",
       "\\item 'grey68'\n",
       "\\item 'grey69'\n",
       "\\item 'grey70'\n",
       "\\item 'grey71'\n",
       "\\item 'grey72'\n",
       "\\item 'grey73'\n",
       "\\item 'grey74'\n",
       "\\item 'grey75'\n",
       "\\item 'grey76'\n",
       "\\item 'grey77'\n",
       "\\item 'grey78'\n",
       "\\item 'grey79'\n",
       "\\item 'grey80'\n",
       "\\item 'grey81'\n",
       "\\item 'grey82'\n",
       "\\item 'grey83'\n",
       "\\item 'grey84'\n",
       "\\item 'grey85'\n",
       "\\item 'grey86'\n",
       "\\item 'grey87'\n",
       "\\item 'grey88'\n",
       "\\item 'grey89'\n",
       "\\item 'grey90'\n",
       "\\item 'grey91'\n",
       "\\item 'grey92'\n",
       "\\item 'grey93'\n",
       "\\item 'grey94'\n",
       "\\item 'grey95'\n",
       "\\item 'grey96'\n",
       "\\item 'grey97'\n",
       "\\item 'grey98'\n",
       "\\item 'grey99'\n",
       "\\item 'grey100'\n",
       "\\item 'honeydew'\n",
       "\\item 'honeydew1'\n",
       "\\item 'honeydew2'\n",
       "\\item 'honeydew3'\n",
       "\\item 'honeydew4'\n",
       "\\item 'hotpink'\n",
       "\\item 'hotpink1'\n",
       "\\item 'hotpink2'\n",
       "\\item 'hotpink3'\n",
       "\\item 'hotpink4'\n",
       "\\item 'indianred'\n",
       "\\item 'indianred1'\n",
       "\\item 'indianred2'\n",
       "\\item 'indianred3'\n",
       "\\item 'indianred4'\n",
       "\\item 'ivory'\n",
       "\\item 'ivory1'\n",
       "\\item 'ivory2'\n",
       "\\item 'ivory3'\n",
       "\\item 'ivory4'\n",
       "\\item 'khaki'\n",
       "\\item 'khaki1'\n",
       "\\item 'khaki2'\n",
       "\\item 'khaki3'\n",
       "\\item 'khaki4'\n",
       "\\item 'lavender'\n",
       "\\item 'lavenderblush'\n",
       "\\item 'lavenderblush1'\n",
       "\\item 'lavenderblush2'\n",
       "\\item 'lavenderblush3'\n",
       "\\item 'lavenderblush4'\n",
       "\\item 'lawngreen'\n",
       "\\item 'lemonchiffon'\n",
       "\\item 'lemonchiffon1'\n",
       "\\item 'lemonchiffon2'\n",
       "\\item 'lemonchiffon3'\n",
       "\\item 'lemonchiffon4'\n",
       "\\item 'lightblue'\n",
       "\\item 'lightblue1'\n",
       "\\item 'lightblue2'\n",
       "\\item 'lightblue3'\n",
       "\\item 'lightblue4'\n",
       "\\item 'lightcoral'\n",
       "\\item 'lightcyan'\n",
       "\\item 'lightcyan1'\n",
       "\\item 'lightcyan2'\n",
       "\\item 'lightcyan3'\n",
       "\\item 'lightcyan4'\n",
       "\\item 'lightgoldenrod'\n",
       "\\item 'lightgoldenrod1'\n",
       "\\item 'lightgoldenrod2'\n",
       "\\item 'lightgoldenrod3'\n",
       "\\item 'lightgoldenrod4'\n",
       "\\item 'lightgoldenrodyellow'\n",
       "\\item 'lightgray'\n",
       "\\item 'lightgreen'\n",
       "\\item 'lightgrey'\n",
       "\\item 'lightpink'\n",
       "\\item 'lightpink1'\n",
       "\\item 'lightpink2'\n",
       "\\item 'lightpink3'\n",
       "\\item 'lightpink4'\n",
       "\\item 'lightsalmon'\n",
       "\\item 'lightsalmon1'\n",
       "\\item 'lightsalmon2'\n",
       "\\item 'lightsalmon3'\n",
       "\\item 'lightsalmon4'\n",
       "\\item 'lightseagreen'\n",
       "\\item 'lightskyblue'\n",
       "\\item 'lightskyblue1'\n",
       "\\item 'lightskyblue2'\n",
       "\\item 'lightskyblue3'\n",
       "\\item 'lightskyblue4'\n",
       "\\item 'lightslateblue'\n",
       "\\item 'lightslategray'\n",
       "\\item 'lightslategrey'\n",
       "\\item 'lightsteelblue'\n",
       "\\item 'lightsteelblue1'\n",
       "\\item 'lightsteelblue2'\n",
       "\\item 'lightsteelblue3'\n",
       "\\item 'lightsteelblue4'\n",
       "\\item 'lightyellow'\n",
       "\\item 'lightyellow1'\n",
       "\\item 'lightyellow2'\n",
       "\\item 'lightyellow3'\n",
       "\\item 'lightyellow4'\n",
       "\\item 'limegreen'\n",
       "\\item 'linen'\n",
       "\\item 'magenta'\n",
       "\\item 'magenta1'\n",
       "\\item 'magenta2'\n",
       "\\item 'magenta3'\n",
       "\\item 'magenta4'\n",
       "\\item 'maroon'\n",
       "\\item 'maroon1'\n",
       "\\item 'maroon2'\n",
       "\\item 'maroon3'\n",
       "\\item 'maroon4'\n",
       "\\item 'mediumaquamarine'\n",
       "\\item 'mediumblue'\n",
       "\\item 'mediumorchid'\n",
       "\\item 'mediumorchid1'\n",
       "\\item 'mediumorchid2'\n",
       "\\item 'mediumorchid3'\n",
       "\\item 'mediumorchid4'\n",
       "\\item 'mediumpurple'\n",
       "\\item 'mediumpurple1'\n",
       "\\item 'mediumpurple2'\n",
       "\\item 'mediumpurple3'\n",
       "\\item 'mediumpurple4'\n",
       "\\item 'mediumseagreen'\n",
       "\\item 'mediumslateblue'\n",
       "\\item 'mediumspringgreen'\n",
       "\\item 'mediumturquoise'\n",
       "\\item 'mediumvioletred'\n",
       "\\item 'midnightblue'\n",
       "\\item 'mintcream'\n",
       "\\item 'mistyrose'\n",
       "\\item 'mistyrose1'\n",
       "\\item 'mistyrose2'\n",
       "\\item 'mistyrose3'\n",
       "\\item 'mistyrose4'\n",
       "\\item 'moccasin'\n",
       "\\item 'navajowhite'\n",
       "\\item 'navajowhite1'\n",
       "\\item 'navajowhite2'\n",
       "\\item 'navajowhite3'\n",
       "\\item 'navajowhite4'\n",
       "\\item 'navy'\n",
       "\\item 'navyblue'\n",
       "\\item 'oldlace'\n",
       "\\item 'olivedrab'\n",
       "\\item 'olivedrab1'\n",
       "\\item 'olivedrab2'\n",
       "\\item 'olivedrab3'\n",
       "\\item 'olivedrab4'\n",
       "\\item 'orange'\n",
       "\\item 'orange1'\n",
       "\\item 'orange2'\n",
       "\\item 'orange3'\n",
       "\\item 'orange4'\n",
       "\\item 'orangered'\n",
       "\\item 'orangered1'\n",
       "\\item 'orangered2'\n",
       "\\item 'orangered3'\n",
       "\\item 'orangered4'\n",
       "\\item 'orchid'\n",
       "\\item 'orchid1'\n",
       "\\item 'orchid2'\n",
       "\\item 'orchid3'\n",
       "\\item 'orchid4'\n",
       "\\item 'palegoldenrod'\n",
       "\\item 'palegreen'\n",
       "\\item 'palegreen1'\n",
       "\\item 'palegreen2'\n",
       "\\item 'palegreen3'\n",
       "\\item 'palegreen4'\n",
       "\\item 'paleturquoise'\n",
       "\\item 'paleturquoise1'\n",
       "\\item 'paleturquoise2'\n",
       "\\item 'paleturquoise3'\n",
       "\\item 'paleturquoise4'\n",
       "\\item 'palevioletred'\n",
       "\\item 'palevioletred1'\n",
       "\\item 'palevioletred2'\n",
       "\\item 'palevioletred3'\n",
       "\\item 'palevioletred4'\n",
       "\\item 'papayawhip'\n",
       "\\item 'peachpuff'\n",
       "\\item 'peachpuff1'\n",
       "\\item 'peachpuff2'\n",
       "\\item 'peachpuff3'\n",
       "\\item 'peachpuff4'\n",
       "\\item 'peru'\n",
       "\\item 'pink'\n",
       "\\item 'pink1'\n",
       "\\item 'pink2'\n",
       "\\item 'pink3'\n",
       "\\item 'pink4'\n",
       "\\item 'plum'\n",
       "\\item 'plum1'\n",
       "\\item 'plum2'\n",
       "\\item 'plum3'\n",
       "\\item 'plum4'\n",
       "\\item 'powderblue'\n",
       "\\item 'purple'\n",
       "\\item 'purple1'\n",
       "\\item 'purple2'\n",
       "\\item 'purple3'\n",
       "\\item 'purple4'\n",
       "\\item 'red'\n",
       "\\item 'red1'\n",
       "\\item 'red2'\n",
       "\\item 'red3'\n",
       "\\item 'red4'\n",
       "\\item 'rosybrown'\n",
       "\\item 'rosybrown1'\n",
       "\\item 'rosybrown2'\n",
       "\\item 'rosybrown3'\n",
       "\\item 'rosybrown4'\n",
       "\\item 'royalblue'\n",
       "\\item 'royalblue1'\n",
       "\\item 'royalblue2'\n",
       "\\item 'royalblue3'\n",
       "\\item 'royalblue4'\n",
       "\\item 'saddlebrown'\n",
       "\\item 'salmon'\n",
       "\\item 'salmon1'\n",
       "\\item 'salmon2'\n",
       "\\item 'salmon3'\n",
       "\\item 'salmon4'\n",
       "\\item 'sandybrown'\n",
       "\\item 'seagreen'\n",
       "\\item 'seagreen1'\n",
       "\\item 'seagreen2'\n",
       "\\item 'seagreen3'\n",
       "\\item 'seagreen4'\n",
       "\\item 'seashell'\n",
       "\\item 'seashell1'\n",
       "\\item 'seashell2'\n",
       "\\item 'seashell3'\n",
       "\\item 'seashell4'\n",
       "\\item 'sienna'\n",
       "\\item 'sienna1'\n",
       "\\item 'sienna2'\n",
       "\\item 'sienna3'\n",
       "\\item 'sienna4'\n",
       "\\item 'skyblue'\n",
       "\\item 'skyblue1'\n",
       "\\item 'skyblue2'\n",
       "\\item 'skyblue3'\n",
       "\\item 'skyblue4'\n",
       "\\item 'slateblue'\n",
       "\\item 'slateblue1'\n",
       "\\item 'slateblue2'\n",
       "\\item 'slateblue3'\n",
       "\\item 'slateblue4'\n",
       "\\item 'slategray'\n",
       "\\item 'slategray1'\n",
       "\\item 'slategray2'\n",
       "\\item 'slategray3'\n",
       "\\item 'slategray4'\n",
       "\\item 'slategrey'\n",
       "\\item 'snow'\n",
       "\\item 'snow1'\n",
       "\\item 'snow2'\n",
       "\\item 'snow3'\n",
       "\\item 'snow4'\n",
       "\\item 'springgreen'\n",
       "\\item 'springgreen1'\n",
       "\\item 'springgreen2'\n",
       "\\item 'springgreen3'\n",
       "\\item 'springgreen4'\n",
       "\\item 'steelblue'\n",
       "\\item 'steelblue1'\n",
       "\\item 'steelblue2'\n",
       "\\item 'steelblue3'\n",
       "\\item 'steelblue4'\n",
       "\\item 'tan'\n",
       "\\item 'tan1'\n",
       "\\item 'tan2'\n",
       "\\item 'tan3'\n",
       "\\item 'tan4'\n",
       "\\item 'thistle'\n",
       "\\item 'thistle1'\n",
       "\\item 'thistle2'\n",
       "\\item 'thistle3'\n",
       "\\item 'thistle4'\n",
       "\\item 'tomato'\n",
       "\\item 'tomato1'\n",
       "\\item 'tomato2'\n",
       "\\item 'tomato3'\n",
       "\\item 'tomato4'\n",
       "\\item 'turquoise'\n",
       "\\item 'turquoise1'\n",
       "\\item 'turquoise2'\n",
       "\\item 'turquoise3'\n",
       "\\item 'turquoise4'\n",
       "\\item 'violet'\n",
       "\\item 'violetred'\n",
       "\\item 'violetred1'\n",
       "\\item 'violetred2'\n",
       "\\item 'violetred3'\n",
       "\\item 'violetred4'\n",
       "\\item 'wheat'\n",
       "\\item 'wheat1'\n",
       "\\item 'wheat2'\n",
       "\\item 'wheat3'\n",
       "\\item 'wheat4'\n",
       "\\item 'whitesmoke'\n",
       "\\item 'yellow'\n",
       "\\item 'yellow1'\n",
       "\\item 'yellow2'\n",
       "\\item 'yellow3'\n",
       "\\item 'yellow4'\n",
       "\\item 'yellowgreen'\n",
       "\\end{enumerate*}\n"
      ],
      "text/markdown": [
       "1. 'white'\n",
       "2. 'aliceblue'\n",
       "3. 'antiquewhite'\n",
       "4. 'antiquewhite1'\n",
       "5. 'antiquewhite2'\n",
       "6. 'antiquewhite3'\n",
       "7. 'antiquewhite4'\n",
       "8. 'aquamarine'\n",
       "9. 'aquamarine1'\n",
       "10. 'aquamarine2'\n",
       "11. 'aquamarine3'\n",
       "12. 'aquamarine4'\n",
       "13. 'azure'\n",
       "14. 'azure1'\n",
       "15. 'azure2'\n",
       "16. 'azure3'\n",
       "17. 'azure4'\n",
       "18. 'beige'\n",
       "19. 'bisque'\n",
       "20. 'bisque1'\n",
       "21. 'bisque2'\n",
       "22. 'bisque3'\n",
       "23. 'bisque4'\n",
       "24. 'black'\n",
       "25. 'blanchedalmond'\n",
       "26. 'blue'\n",
       "27. 'blue1'\n",
       "28. 'blue2'\n",
       "29. 'blue3'\n",
       "30. 'blue4'\n",
       "31. 'blueviolet'\n",
       "32. 'brown'\n",
       "33. 'brown1'\n",
       "34. 'brown2'\n",
       "35. 'brown3'\n",
       "36. 'brown4'\n",
       "37. 'burlywood'\n",
       "38. 'burlywood1'\n",
       "39. 'burlywood2'\n",
       "40. 'burlywood3'\n",
       "41. 'burlywood4'\n",
       "42. 'cadetblue'\n",
       "43. 'cadetblue1'\n",
       "44. 'cadetblue2'\n",
       "45. 'cadetblue3'\n",
       "46. 'cadetblue4'\n",
       "47. 'chartreuse'\n",
       "48. 'chartreuse1'\n",
       "49. 'chartreuse2'\n",
       "50. 'chartreuse3'\n",
       "51. 'chartreuse4'\n",
       "52. 'chocolate'\n",
       "53. 'chocolate1'\n",
       "54. 'chocolate2'\n",
       "55. 'chocolate3'\n",
       "56. 'chocolate4'\n",
       "57. 'coral'\n",
       "58. 'coral1'\n",
       "59. 'coral2'\n",
       "60. 'coral3'\n",
       "61. 'coral4'\n",
       "62. 'cornflowerblue'\n",
       "63. 'cornsilk'\n",
       "64. 'cornsilk1'\n",
       "65. 'cornsilk2'\n",
       "66. 'cornsilk3'\n",
       "67. 'cornsilk4'\n",
       "68. 'cyan'\n",
       "69. 'cyan1'\n",
       "70. 'cyan2'\n",
       "71. 'cyan3'\n",
       "72. 'cyan4'\n",
       "73. 'darkblue'\n",
       "74. 'darkcyan'\n",
       "75. 'darkgoldenrod'\n",
       "76. 'darkgoldenrod1'\n",
       "77. 'darkgoldenrod2'\n",
       "78. 'darkgoldenrod3'\n",
       "79. 'darkgoldenrod4'\n",
       "80. 'darkgray'\n",
       "81. 'darkgreen'\n",
       "82. 'darkgrey'\n",
       "83. 'darkkhaki'\n",
       "84. 'darkmagenta'\n",
       "85. 'darkolivegreen'\n",
       "86. 'darkolivegreen1'\n",
       "87. 'darkolivegreen2'\n",
       "88. 'darkolivegreen3'\n",
       "89. 'darkolivegreen4'\n",
       "90. 'darkorange'\n",
       "91. 'darkorange1'\n",
       "92. 'darkorange2'\n",
       "93. 'darkorange3'\n",
       "94. 'darkorange4'\n",
       "95. 'darkorchid'\n",
       "96. 'darkorchid1'\n",
       "97. 'darkorchid2'\n",
       "98. 'darkorchid3'\n",
       "99. 'darkorchid4'\n",
       "100. 'darkred'\n",
       "101. 'darksalmon'\n",
       "102. 'darkseagreen'\n",
       "103. 'darkseagreen1'\n",
       "104. 'darkseagreen2'\n",
       "105. 'darkseagreen3'\n",
       "106. 'darkseagreen4'\n",
       "107. 'darkslateblue'\n",
       "108. 'darkslategray'\n",
       "109. 'darkslategray1'\n",
       "110. 'darkslategray2'\n",
       "111. 'darkslategray3'\n",
       "112. 'darkslategray4'\n",
       "113. 'darkslategrey'\n",
       "114. 'darkturquoise'\n",
       "115. 'darkviolet'\n",
       "116. 'deeppink'\n",
       "117. 'deeppink1'\n",
       "118. 'deeppink2'\n",
       "119. 'deeppink3'\n",
       "120. 'deeppink4'\n",
       "121. 'deepskyblue'\n",
       "122. 'deepskyblue1'\n",
       "123. 'deepskyblue2'\n",
       "124. 'deepskyblue3'\n",
       "125. 'deepskyblue4'\n",
       "126. 'dimgray'\n",
       "127. 'dimgrey'\n",
       "128. 'dodgerblue'\n",
       "129. 'dodgerblue1'\n",
       "130. 'dodgerblue2'\n",
       "131. 'dodgerblue3'\n",
       "132. 'dodgerblue4'\n",
       "133. 'firebrick'\n",
       "134. 'firebrick1'\n",
       "135. 'firebrick2'\n",
       "136. 'firebrick3'\n",
       "137. 'firebrick4'\n",
       "138. 'floralwhite'\n",
       "139. 'forestgreen'\n",
       "140. 'gainsboro'\n",
       "141. 'ghostwhite'\n",
       "142. 'gold'\n",
       "143. 'gold1'\n",
       "144. 'gold2'\n",
       "145. 'gold3'\n",
       "146. 'gold4'\n",
       "147. 'goldenrod'\n",
       "148. 'goldenrod1'\n",
       "149. 'goldenrod2'\n",
       "150. 'goldenrod3'\n",
       "151. 'goldenrod4'\n",
       "152. 'gray'\n",
       "153. 'gray0'\n",
       "154. 'gray1'\n",
       "155. 'gray2'\n",
       "156. 'gray3'\n",
       "157. 'gray4'\n",
       "158. 'gray5'\n",
       "159. 'gray6'\n",
       "160. 'gray7'\n",
       "161. 'gray8'\n",
       "162. 'gray9'\n",
       "163. 'gray10'\n",
       "164. 'gray11'\n",
       "165. 'gray12'\n",
       "166. 'gray13'\n",
       "167. 'gray14'\n",
       "168. 'gray15'\n",
       "169. 'gray16'\n",
       "170. 'gray17'\n",
       "171. 'gray18'\n",
       "172. 'gray19'\n",
       "173. 'gray20'\n",
       "174. 'gray21'\n",
       "175. 'gray22'\n",
       "176. 'gray23'\n",
       "177. 'gray24'\n",
       "178. 'gray25'\n",
       "179. 'gray26'\n",
       "180. 'gray27'\n",
       "181. 'gray28'\n",
       "182. 'gray29'\n",
       "183. 'gray30'\n",
       "184. 'gray31'\n",
       "185. 'gray32'\n",
       "186. 'gray33'\n",
       "187. 'gray34'\n",
       "188. 'gray35'\n",
       "189. 'gray36'\n",
       "190. 'gray37'\n",
       "191. 'gray38'\n",
       "192. 'gray39'\n",
       "193. 'gray40'\n",
       "194. 'gray41'\n",
       "195. 'gray42'\n",
       "196. 'gray43'\n",
       "197. 'gray44'\n",
       "198. 'gray45'\n",
       "199. 'gray46'\n",
       "200. 'gray47'\n",
       "201. 'gray48'\n",
       "202. 'gray49'\n",
       "203. 'gray50'\n",
       "204. 'gray51'\n",
       "205. 'gray52'\n",
       "206. 'gray53'\n",
       "207. 'gray54'\n",
       "208. 'gray55'\n",
       "209. 'gray56'\n",
       "210. 'gray57'\n",
       "211. 'gray58'\n",
       "212. 'gray59'\n",
       "213. 'gray60'\n",
       "214. 'gray61'\n",
       "215. 'gray62'\n",
       "216. 'gray63'\n",
       "217. 'gray64'\n",
       "218. 'gray65'\n",
       "219. 'gray66'\n",
       "220. 'gray67'\n",
       "221. 'gray68'\n",
       "222. 'gray69'\n",
       "223. 'gray70'\n",
       "224. 'gray71'\n",
       "225. 'gray72'\n",
       "226. 'gray73'\n",
       "227. 'gray74'\n",
       "228. 'gray75'\n",
       "229. 'gray76'\n",
       "230. 'gray77'\n",
       "231. 'gray78'\n",
       "232. 'gray79'\n",
       "233. 'gray80'\n",
       "234. 'gray81'\n",
       "235. 'gray82'\n",
       "236. 'gray83'\n",
       "237. 'gray84'\n",
       "238. 'gray85'\n",
       "239. 'gray86'\n",
       "240. 'gray87'\n",
       "241. 'gray88'\n",
       "242. 'gray89'\n",
       "243. 'gray90'\n",
       "244. 'gray91'\n",
       "245. 'gray92'\n",
       "246. 'gray93'\n",
       "247. 'gray94'\n",
       "248. 'gray95'\n",
       "249. 'gray96'\n",
       "250. 'gray97'\n",
       "251. 'gray98'\n",
       "252. 'gray99'\n",
       "253. 'gray100'\n",
       "254. 'green'\n",
       "255. 'green1'\n",
       "256. 'green2'\n",
       "257. 'green3'\n",
       "258. 'green4'\n",
       "259. 'greenyellow'\n",
       "260. 'grey'\n",
       "261. 'grey0'\n",
       "262. 'grey1'\n",
       "263. 'grey2'\n",
       "264. 'grey3'\n",
       "265. 'grey4'\n",
       "266. 'grey5'\n",
       "267. 'grey6'\n",
       "268. 'grey7'\n",
       "269. 'grey8'\n",
       "270. 'grey9'\n",
       "271. 'grey10'\n",
       "272. 'grey11'\n",
       "273. 'grey12'\n",
       "274. 'grey13'\n",
       "275. 'grey14'\n",
       "276. 'grey15'\n",
       "277. 'grey16'\n",
       "278. 'grey17'\n",
       "279. 'grey18'\n",
       "280. 'grey19'\n",
       "281. 'grey20'\n",
       "282. 'grey21'\n",
       "283. 'grey22'\n",
       "284. 'grey23'\n",
       "285. 'grey24'\n",
       "286. 'grey25'\n",
       "287. 'grey26'\n",
       "288. 'grey27'\n",
       "289. 'grey28'\n",
       "290. 'grey29'\n",
       "291. 'grey30'\n",
       "292. 'grey31'\n",
       "293. 'grey32'\n",
       "294. 'grey33'\n",
       "295. 'grey34'\n",
       "296. 'grey35'\n",
       "297. 'grey36'\n",
       "298. 'grey37'\n",
       "299. 'grey38'\n",
       "300. 'grey39'\n",
       "301. 'grey40'\n",
       "302. 'grey41'\n",
       "303. 'grey42'\n",
       "304. 'grey43'\n",
       "305. 'grey44'\n",
       "306. 'grey45'\n",
       "307. 'grey46'\n",
       "308. 'grey47'\n",
       "309. 'grey48'\n",
       "310. 'grey49'\n",
       "311. 'grey50'\n",
       "312. 'grey51'\n",
       "313. 'grey52'\n",
       "314. 'grey53'\n",
       "315. 'grey54'\n",
       "316. 'grey55'\n",
       "317. 'grey56'\n",
       "318. 'grey57'\n",
       "319. 'grey58'\n",
       "320. 'grey59'\n",
       "321. 'grey60'\n",
       "322. 'grey61'\n",
       "323. 'grey62'\n",
       "324. 'grey63'\n",
       "325. 'grey64'\n",
       "326. 'grey65'\n",
       "327. 'grey66'\n",
       "328. 'grey67'\n",
       "329. 'grey68'\n",
       "330. 'grey69'\n",
       "331. 'grey70'\n",
       "332. 'grey71'\n",
       "333. 'grey72'\n",
       "334. 'grey73'\n",
       "335. 'grey74'\n",
       "336. 'grey75'\n",
       "337. 'grey76'\n",
       "338. 'grey77'\n",
       "339. 'grey78'\n",
       "340. 'grey79'\n",
       "341. 'grey80'\n",
       "342. 'grey81'\n",
       "343. 'grey82'\n",
       "344. 'grey83'\n",
       "345. 'grey84'\n",
       "346. 'grey85'\n",
       "347. 'grey86'\n",
       "348. 'grey87'\n",
       "349. 'grey88'\n",
       "350. 'grey89'\n",
       "351. 'grey90'\n",
       "352. 'grey91'\n",
       "353. 'grey92'\n",
       "354. 'grey93'\n",
       "355. 'grey94'\n",
       "356. 'grey95'\n",
       "357. 'grey96'\n",
       "358. 'grey97'\n",
       "359. 'grey98'\n",
       "360. 'grey99'\n",
       "361. 'grey100'\n",
       "362. 'honeydew'\n",
       "363. 'honeydew1'\n",
       "364. 'honeydew2'\n",
       "365. 'honeydew3'\n",
       "366. 'honeydew4'\n",
       "367. 'hotpink'\n",
       "368. 'hotpink1'\n",
       "369. 'hotpink2'\n",
       "370. 'hotpink3'\n",
       "371. 'hotpink4'\n",
       "372. 'indianred'\n",
       "373. 'indianred1'\n",
       "374. 'indianred2'\n",
       "375. 'indianred3'\n",
       "376. 'indianred4'\n",
       "377. 'ivory'\n",
       "378. 'ivory1'\n",
       "379. 'ivory2'\n",
       "380. 'ivory3'\n",
       "381. 'ivory4'\n",
       "382. 'khaki'\n",
       "383. 'khaki1'\n",
       "384. 'khaki2'\n",
       "385. 'khaki3'\n",
       "386. 'khaki4'\n",
       "387. 'lavender'\n",
       "388. 'lavenderblush'\n",
       "389. 'lavenderblush1'\n",
       "390. 'lavenderblush2'\n",
       "391. 'lavenderblush3'\n",
       "392. 'lavenderblush4'\n",
       "393. 'lawngreen'\n",
       "394. 'lemonchiffon'\n",
       "395. 'lemonchiffon1'\n",
       "396. 'lemonchiffon2'\n",
       "397. 'lemonchiffon3'\n",
       "398. 'lemonchiffon4'\n",
       "399. 'lightblue'\n",
       "400. 'lightblue1'\n",
       "401. 'lightblue2'\n",
       "402. 'lightblue3'\n",
       "403. 'lightblue4'\n",
       "404. 'lightcoral'\n",
       "405. 'lightcyan'\n",
       "406. 'lightcyan1'\n",
       "407. 'lightcyan2'\n",
       "408. 'lightcyan3'\n",
       "409. 'lightcyan4'\n",
       "410. 'lightgoldenrod'\n",
       "411. 'lightgoldenrod1'\n",
       "412. 'lightgoldenrod2'\n",
       "413. 'lightgoldenrod3'\n",
       "414. 'lightgoldenrod4'\n",
       "415. 'lightgoldenrodyellow'\n",
       "416. 'lightgray'\n",
       "417. 'lightgreen'\n",
       "418. 'lightgrey'\n",
       "419. 'lightpink'\n",
       "420. 'lightpink1'\n",
       "421. 'lightpink2'\n",
       "422. 'lightpink3'\n",
       "423. 'lightpink4'\n",
       "424. 'lightsalmon'\n",
       "425. 'lightsalmon1'\n",
       "426. 'lightsalmon2'\n",
       "427. 'lightsalmon3'\n",
       "428. 'lightsalmon4'\n",
       "429. 'lightseagreen'\n",
       "430. 'lightskyblue'\n",
       "431. 'lightskyblue1'\n",
       "432. 'lightskyblue2'\n",
       "433. 'lightskyblue3'\n",
       "434. 'lightskyblue4'\n",
       "435. 'lightslateblue'\n",
       "436. 'lightslategray'\n",
       "437. 'lightslategrey'\n",
       "438. 'lightsteelblue'\n",
       "439. 'lightsteelblue1'\n",
       "440. 'lightsteelblue2'\n",
       "441. 'lightsteelblue3'\n",
       "442. 'lightsteelblue4'\n",
       "443. 'lightyellow'\n",
       "444. 'lightyellow1'\n",
       "445. 'lightyellow2'\n",
       "446. 'lightyellow3'\n",
       "447. 'lightyellow4'\n",
       "448. 'limegreen'\n",
       "449. 'linen'\n",
       "450. 'magenta'\n",
       "451. 'magenta1'\n",
       "452. 'magenta2'\n",
       "453. 'magenta3'\n",
       "454. 'magenta4'\n",
       "455. 'maroon'\n",
       "456. 'maroon1'\n",
       "457. 'maroon2'\n",
       "458. 'maroon3'\n",
       "459. 'maroon4'\n",
       "460. 'mediumaquamarine'\n",
       "461. 'mediumblue'\n",
       "462. 'mediumorchid'\n",
       "463. 'mediumorchid1'\n",
       "464. 'mediumorchid2'\n",
       "465. 'mediumorchid3'\n",
       "466. 'mediumorchid4'\n",
       "467. 'mediumpurple'\n",
       "468. 'mediumpurple1'\n",
       "469. 'mediumpurple2'\n",
       "470. 'mediumpurple3'\n",
       "471. 'mediumpurple4'\n",
       "472. 'mediumseagreen'\n",
       "473. 'mediumslateblue'\n",
       "474. 'mediumspringgreen'\n",
       "475. 'mediumturquoise'\n",
       "476. 'mediumvioletred'\n",
       "477. 'midnightblue'\n",
       "478. 'mintcream'\n",
       "479. 'mistyrose'\n",
       "480. 'mistyrose1'\n",
       "481. 'mistyrose2'\n",
       "482. 'mistyrose3'\n",
       "483. 'mistyrose4'\n",
       "484. 'moccasin'\n",
       "485. 'navajowhite'\n",
       "486. 'navajowhite1'\n",
       "487. 'navajowhite2'\n",
       "488. 'navajowhite3'\n",
       "489. 'navajowhite4'\n",
       "490. 'navy'\n",
       "491. 'navyblue'\n",
       "492. 'oldlace'\n",
       "493. 'olivedrab'\n",
       "494. 'olivedrab1'\n",
       "495. 'olivedrab2'\n",
       "496. 'olivedrab3'\n",
       "497. 'olivedrab4'\n",
       "498. 'orange'\n",
       "499. 'orange1'\n",
       "500. 'orange2'\n",
       "501. 'orange3'\n",
       "502. 'orange4'\n",
       "503. 'orangered'\n",
       "504. 'orangered1'\n",
       "505. 'orangered2'\n",
       "506. 'orangered3'\n",
       "507. 'orangered4'\n",
       "508. 'orchid'\n",
       "509. 'orchid1'\n",
       "510. 'orchid2'\n",
       "511. 'orchid3'\n",
       "512. 'orchid4'\n",
       "513. 'palegoldenrod'\n",
       "514. 'palegreen'\n",
       "515. 'palegreen1'\n",
       "516. 'palegreen2'\n",
       "517. 'palegreen3'\n",
       "518. 'palegreen4'\n",
       "519. 'paleturquoise'\n",
       "520. 'paleturquoise1'\n",
       "521. 'paleturquoise2'\n",
       "522. 'paleturquoise3'\n",
       "523. 'paleturquoise4'\n",
       "524. 'palevioletred'\n",
       "525. 'palevioletred1'\n",
       "526. 'palevioletred2'\n",
       "527. 'palevioletred3'\n",
       "528. 'palevioletred4'\n",
       "529. 'papayawhip'\n",
       "530. 'peachpuff'\n",
       "531. 'peachpuff1'\n",
       "532. 'peachpuff2'\n",
       "533. 'peachpuff3'\n",
       "534. 'peachpuff4'\n",
       "535. 'peru'\n",
       "536. 'pink'\n",
       "537. 'pink1'\n",
       "538. 'pink2'\n",
       "539. 'pink3'\n",
       "540. 'pink4'\n",
       "541. 'plum'\n",
       "542. 'plum1'\n",
       "543. 'plum2'\n",
       "544. 'plum3'\n",
       "545. 'plum4'\n",
       "546. 'powderblue'\n",
       "547. 'purple'\n",
       "548. 'purple1'\n",
       "549. 'purple2'\n",
       "550. 'purple3'\n",
       "551. 'purple4'\n",
       "552. 'red'\n",
       "553. 'red1'\n",
       "554. 'red2'\n",
       "555. 'red3'\n",
       "556. 'red4'\n",
       "557. 'rosybrown'\n",
       "558. 'rosybrown1'\n",
       "559. 'rosybrown2'\n",
       "560. 'rosybrown3'\n",
       "561. 'rosybrown4'\n",
       "562. 'royalblue'\n",
       "563. 'royalblue1'\n",
       "564. 'royalblue2'\n",
       "565. 'royalblue3'\n",
       "566. 'royalblue4'\n",
       "567. 'saddlebrown'\n",
       "568. 'salmon'\n",
       "569. 'salmon1'\n",
       "570. 'salmon2'\n",
       "571. 'salmon3'\n",
       "572. 'salmon4'\n",
       "573. 'sandybrown'\n",
       "574. 'seagreen'\n",
       "575. 'seagreen1'\n",
       "576. 'seagreen2'\n",
       "577. 'seagreen3'\n",
       "578. 'seagreen4'\n",
       "579. 'seashell'\n",
       "580. 'seashell1'\n",
       "581. 'seashell2'\n",
       "582. 'seashell3'\n",
       "583. 'seashell4'\n",
       "584. 'sienna'\n",
       "585. 'sienna1'\n",
       "586. 'sienna2'\n",
       "587. 'sienna3'\n",
       "588. 'sienna4'\n",
       "589. 'skyblue'\n",
       "590. 'skyblue1'\n",
       "591. 'skyblue2'\n",
       "592. 'skyblue3'\n",
       "593. 'skyblue4'\n",
       "594. 'slateblue'\n",
       "595. 'slateblue1'\n",
       "596. 'slateblue2'\n",
       "597. 'slateblue3'\n",
       "598. 'slateblue4'\n",
       "599. 'slategray'\n",
       "600. 'slategray1'\n",
       "601. 'slategray2'\n",
       "602. 'slategray3'\n",
       "603. 'slategray4'\n",
       "604. 'slategrey'\n",
       "605. 'snow'\n",
       "606. 'snow1'\n",
       "607. 'snow2'\n",
       "608. 'snow3'\n",
       "609. 'snow4'\n",
       "610. 'springgreen'\n",
       "611. 'springgreen1'\n",
       "612. 'springgreen2'\n",
       "613. 'springgreen3'\n",
       "614. 'springgreen4'\n",
       "615. 'steelblue'\n",
       "616. 'steelblue1'\n",
       "617. 'steelblue2'\n",
       "618. 'steelblue3'\n",
       "619. 'steelblue4'\n",
       "620. 'tan'\n",
       "621. 'tan1'\n",
       "622. 'tan2'\n",
       "623. 'tan3'\n",
       "624. 'tan4'\n",
       "625. 'thistle'\n",
       "626. 'thistle1'\n",
       "627. 'thistle2'\n",
       "628. 'thistle3'\n",
       "629. 'thistle4'\n",
       "630. 'tomato'\n",
       "631. 'tomato1'\n",
       "632. 'tomato2'\n",
       "633. 'tomato3'\n",
       "634. 'tomato4'\n",
       "635. 'turquoise'\n",
       "636. 'turquoise1'\n",
       "637. 'turquoise2'\n",
       "638. 'turquoise3'\n",
       "639. 'turquoise4'\n",
       "640. 'violet'\n",
       "641. 'violetred'\n",
       "642. 'violetred1'\n",
       "643. 'violetred2'\n",
       "644. 'violetred3'\n",
       "645. 'violetred4'\n",
       "646. 'wheat'\n",
       "647. 'wheat1'\n",
       "648. 'wheat2'\n",
       "649. 'wheat3'\n",
       "650. 'wheat4'\n",
       "651. 'whitesmoke'\n",
       "652. 'yellow'\n",
       "653. 'yellow1'\n",
       "654. 'yellow2'\n",
       "655. 'yellow3'\n",
       "656. 'yellow4'\n",
       "657. 'yellowgreen'\n",
       "\n",
       "\n"
      ],
      "text/plain": [
       "  [1] \"white\"                \"aliceblue\"            \"antiquewhite\"        \n",
       "  [4] \"antiquewhite1\"        \"antiquewhite2\"        \"antiquewhite3\"       \n",
       "  [7] \"antiquewhite4\"        \"aquamarine\"           \"aquamarine1\"         \n",
       " [10] \"aquamarine2\"          \"aquamarine3\"          \"aquamarine4\"         \n",
       " [13] \"azure\"                \"azure1\"               \"azure2\"              \n",
       " [16] \"azure3\"               \"azure4\"               \"beige\"               \n",
       " [19] \"bisque\"               \"bisque1\"              \"bisque2\"             \n",
       " [22] \"bisque3\"              \"bisque4\"              \"black\"               \n",
       " [25] \"blanchedalmond\"       \"blue\"                 \"blue1\"               \n",
       " [28] \"blue2\"                \"blue3\"                \"blue4\"               \n",
       " [31] \"blueviolet\"           \"brown\"                \"brown1\"              \n",
       " [34] \"brown2\"               \"brown3\"               \"brown4\"              \n",
       " [37] \"burlywood\"            \"burlywood1\"           \"burlywood2\"          \n",
       " [40] \"burlywood3\"           \"burlywood4\"           \"cadetblue\"           \n",
       " [43] \"cadetblue1\"           \"cadetblue2\"           \"cadetblue3\"          \n",
       " [46] \"cadetblue4\"           \"chartreuse\"           \"chartreuse1\"         \n",
       " [49] \"chartreuse2\"          \"chartreuse3\"          \"chartreuse4\"         \n",
       " [52] \"chocolate\"            \"chocolate1\"           \"chocolate2\"          \n",
       " [55] \"chocolate3\"           \"chocolate4\"           \"coral\"               \n",
       " [58] \"coral1\"               \"coral2\"               \"coral3\"              \n",
       " [61] \"coral4\"               \"cornflowerblue\"       \"cornsilk\"            \n",
       " [64] \"cornsilk1\"            \"cornsilk2\"            \"cornsilk3\"           \n",
       " [67] \"cornsilk4\"            \"cyan\"                 \"cyan1\"               \n",
       " [70] \"cyan2\"                \"cyan3\"                \"cyan4\"               \n",
       " [73] \"darkblue\"             \"darkcyan\"             \"darkgoldenrod\"       \n",
       " [76] \"darkgoldenrod1\"       \"darkgoldenrod2\"       \"darkgoldenrod3\"      \n",
       " [79] \"darkgoldenrod4\"       \"darkgray\"             \"darkgreen\"           \n",
       " [82] \"darkgrey\"             \"darkkhaki\"            \"darkmagenta\"         \n",
       " [85] \"darkolivegreen\"       \"darkolivegreen1\"      \"darkolivegreen2\"     \n",
       " [88] \"darkolivegreen3\"      \"darkolivegreen4\"      \"darkorange\"          \n",
       " [91] \"darkorange1\"          \"darkorange2\"          \"darkorange3\"         \n",
       " [94] \"darkorange4\"          \"darkorchid\"           \"darkorchid1\"         \n",
       " [97] \"darkorchid2\"          \"darkorchid3\"          \"darkorchid4\"         \n",
       "[100] \"darkred\"              \"darksalmon\"           \"darkseagreen\"        \n",
       "[103] \"darkseagreen1\"        \"darkseagreen2\"        \"darkseagreen3\"       \n",
       "[106] \"darkseagreen4\"        \"darkslateblue\"        \"darkslategray\"       \n",
       "[109] \"darkslategray1\"       \"darkslategray2\"       \"darkslategray3\"      \n",
       "[112] \"darkslategray4\"       \"darkslategrey\"        \"darkturquoise\"       \n",
       "[115] \"darkviolet\"           \"deeppink\"             \"deeppink1\"           \n",
       "[118] \"deeppink2\"            \"deeppink3\"            \"deeppink4\"           \n",
       "[121] \"deepskyblue\"          \"deepskyblue1\"         \"deepskyblue2\"        \n",
       "[124] \"deepskyblue3\"         \"deepskyblue4\"         \"dimgray\"             \n",
       "[127] \"dimgrey\"              \"dodgerblue\"           \"dodgerblue1\"         \n",
       "[130] \"dodgerblue2\"          \"dodgerblue3\"          \"dodgerblue4\"         \n",
       "[133] \"firebrick\"            \"firebrick1\"           \"firebrick2\"          \n",
       "[136] \"firebrick3\"           \"firebrick4\"           \"floralwhite\"         \n",
       "[139] \"forestgreen\"          \"gainsboro\"            \"ghostwhite\"          \n",
       "[142] \"gold\"                 \"gold1\"                \"gold2\"               \n",
       "[145] \"gold3\"                \"gold4\"                \"goldenrod\"           \n",
       "[148] \"goldenrod1\"           \"goldenrod2\"           \"goldenrod3\"          \n",
       "[151] \"goldenrod4\"           \"gray\"                 \"gray0\"               \n",
       "[154] \"gray1\"                \"gray2\"                \"gray3\"               \n",
       "[157] \"gray4\"                \"gray5\"                \"gray6\"               \n",
       "[160] \"gray7\"                \"gray8\"                \"gray9\"               \n",
       "[163] \"gray10\"               \"gray11\"               \"gray12\"              \n",
       "[166] \"gray13\"               \"gray14\"               \"gray15\"              \n",
       "[169] \"gray16\"               \"gray17\"               \"gray18\"              \n",
       "[172] \"gray19\"               \"gray20\"               \"gray21\"              \n",
       "[175] \"gray22\"               \"gray23\"               \"gray24\"              \n",
       "[178] \"gray25\"               \"gray26\"               \"gray27\"              \n",
       "[181] \"gray28\"               \"gray29\"               \"gray30\"              \n",
       "[184] \"gray31\"               \"gray32\"               \"gray33\"              \n",
       "[187] \"gray34\"               \"gray35\"               \"gray36\"              \n",
       "[190] \"gray37\"               \"gray38\"               \"gray39\"              \n",
       "[193] \"gray40\"               \"gray41\"               \"gray42\"              \n",
       "[196] \"gray43\"               \"gray44\"               \"gray45\"              \n",
       "[199] \"gray46\"               \"gray47\"               \"gray48\"              \n",
       "[202] \"gray49\"               \"gray50\"               \"gray51\"              \n",
       "[205] \"gray52\"               \"gray53\"               \"gray54\"              \n",
       "[208] \"gray55\"               \"gray56\"               \"gray57\"              \n",
       "[211] \"gray58\"               \"gray59\"               \"gray60\"              \n",
       "[214] \"gray61\"               \"gray62\"               \"gray63\"              \n",
       "[217] \"gray64\"               \"gray65\"               \"gray66\"              \n",
       "[220] \"gray67\"               \"gray68\"               \"gray69\"              \n",
       "[223] \"gray70\"               \"gray71\"               \"gray72\"              \n",
       "[226] \"gray73\"               \"gray74\"               \"gray75\"              \n",
       "[229] \"gray76\"               \"gray77\"               \"gray78\"              \n",
       "[232] \"gray79\"               \"gray80\"               \"gray81\"              \n",
       "[235] \"gray82\"               \"gray83\"               \"gray84\"              \n",
       "[238] \"gray85\"               \"gray86\"               \"gray87\"              \n",
       "[241] \"gray88\"               \"gray89\"               \"gray90\"              \n",
       "[244] \"gray91\"               \"gray92\"               \"gray93\"              \n",
       "[247] \"gray94\"               \"gray95\"               \"gray96\"              \n",
       "[250] \"gray97\"               \"gray98\"               \"gray99\"              \n",
       "[253] \"gray100\"              \"green\"                \"green1\"              \n",
       "[256] \"green2\"               \"green3\"               \"green4\"              \n",
       "[259] \"greenyellow\"          \"grey\"                 \"grey0\"               \n",
       "[262] \"grey1\"                \"grey2\"                \"grey3\"               \n",
       "[265] \"grey4\"                \"grey5\"                \"grey6\"               \n",
       "[268] \"grey7\"                \"grey8\"                \"grey9\"               \n",
       "[271] \"grey10\"               \"grey11\"               \"grey12\"              \n",
       "[274] \"grey13\"               \"grey14\"               \"grey15\"              \n",
       "[277] \"grey16\"               \"grey17\"               \"grey18\"              \n",
       "[280] \"grey19\"               \"grey20\"               \"grey21\"              \n",
       "[283] \"grey22\"               \"grey23\"               \"grey24\"              \n",
       "[286] \"grey25\"               \"grey26\"               \"grey27\"              \n",
       "[289] \"grey28\"               \"grey29\"               \"grey30\"              \n",
       "[292] \"grey31\"               \"grey32\"               \"grey33\"              \n",
       "[295] \"grey34\"               \"grey35\"               \"grey36\"              \n",
       "[298] \"grey37\"               \"grey38\"               \"grey39\"              \n",
       "[301] \"grey40\"               \"grey41\"               \"grey42\"              \n",
       "[304] \"grey43\"               \"grey44\"               \"grey45\"              \n",
       "[307] \"grey46\"               \"grey47\"               \"grey48\"              \n",
       "[310] \"grey49\"               \"grey50\"               \"grey51\"              \n",
       "[313] \"grey52\"               \"grey53\"               \"grey54\"              \n",
       "[316] \"grey55\"               \"grey56\"               \"grey57\"              \n",
       "[319] \"grey58\"               \"grey59\"               \"grey60\"              \n",
       "[322] \"grey61\"               \"grey62\"               \"grey63\"              \n",
       "[325] \"grey64\"               \"grey65\"               \"grey66\"              \n",
       "[328] \"grey67\"               \"grey68\"               \"grey69\"              \n",
       "[331] \"grey70\"               \"grey71\"               \"grey72\"              \n",
       "[334] \"grey73\"               \"grey74\"               \"grey75\"              \n",
       "[337] \"grey76\"               \"grey77\"               \"grey78\"              \n",
       "[340] \"grey79\"               \"grey80\"               \"grey81\"              \n",
       "[343] \"grey82\"               \"grey83\"               \"grey84\"              \n",
       "[346] \"grey85\"               \"grey86\"               \"grey87\"              \n",
       "[349] \"grey88\"               \"grey89\"               \"grey90\"              \n",
       "[352] \"grey91\"               \"grey92\"               \"grey93\"              \n",
       "[355] \"grey94\"               \"grey95\"               \"grey96\"              \n",
       "[358] \"grey97\"               \"grey98\"               \"grey99\"              \n",
       "[361] \"grey100\"              \"honeydew\"             \"honeydew1\"           \n",
       "[364] \"honeydew2\"            \"honeydew3\"            \"honeydew4\"           \n",
       "[367] \"hotpink\"              \"hotpink1\"             \"hotpink2\"            \n",
       "[370] \"hotpink3\"             \"hotpink4\"             \"indianred\"           \n",
       "[373] \"indianred1\"           \"indianred2\"           \"indianred3\"          \n",
       "[376] \"indianred4\"           \"ivory\"                \"ivory1\"              \n",
       "[379] \"ivory2\"               \"ivory3\"               \"ivory4\"              \n",
       "[382] \"khaki\"                \"khaki1\"               \"khaki2\"              \n",
       "[385] \"khaki3\"               \"khaki4\"               \"lavender\"            \n",
       "[388] \"lavenderblush\"        \"lavenderblush1\"       \"lavenderblush2\"      \n",
       "[391] \"lavenderblush3\"       \"lavenderblush4\"       \"lawngreen\"           \n",
       "[394] \"lemonchiffon\"         \"lemonchiffon1\"        \"lemonchiffon2\"       \n",
       "[397] \"lemonchiffon3\"        \"lemonchiffon4\"        \"lightblue\"           \n",
       "[400] \"lightblue1\"           \"lightblue2\"           \"lightblue3\"          \n",
       "[403] \"lightblue4\"           \"lightcoral\"           \"lightcyan\"           \n",
       "[406] \"lightcyan1\"           \"lightcyan2\"           \"lightcyan3\"          \n",
       "[409] \"lightcyan4\"           \"lightgoldenrod\"       \"lightgoldenrod1\"     \n",
       "[412] \"lightgoldenrod2\"      \"lightgoldenrod3\"      \"lightgoldenrod4\"     \n",
       "[415] \"lightgoldenrodyellow\" \"lightgray\"            \"lightgreen\"          \n",
       "[418] \"lightgrey\"            \"lightpink\"            \"lightpink1\"          \n",
       "[421] \"lightpink2\"           \"lightpink3\"           \"lightpink4\"          \n",
       "[424] \"lightsalmon\"          \"lightsalmon1\"         \"lightsalmon2\"        \n",
       "[427] \"lightsalmon3\"         \"lightsalmon4\"         \"lightseagreen\"       \n",
       "[430] \"lightskyblue\"         \"lightskyblue1\"        \"lightskyblue2\"       \n",
       "[433] \"lightskyblue3\"        \"lightskyblue4\"        \"lightslateblue\"      \n",
       "[436] \"lightslategray\"       \"lightslategrey\"       \"lightsteelblue\"      \n",
       "[439] \"lightsteelblue1\"      \"lightsteelblue2\"      \"lightsteelblue3\"     \n",
       "[442] \"lightsteelblue4\"      \"lightyellow\"          \"lightyellow1\"        \n",
       "[445] \"lightyellow2\"         \"lightyellow3\"         \"lightyellow4\"        \n",
       "[448] \"limegreen\"            \"linen\"                \"magenta\"             \n",
       "[451] \"magenta1\"             \"magenta2\"             \"magenta3\"            \n",
       "[454] \"magenta4\"             \"maroon\"               \"maroon1\"             \n",
       "[457] \"maroon2\"              \"maroon3\"              \"maroon4\"             \n",
       "[460] \"mediumaquamarine\"     \"mediumblue\"           \"mediumorchid\"        \n",
       "[463] \"mediumorchid1\"        \"mediumorchid2\"        \"mediumorchid3\"       \n",
       "[466] \"mediumorchid4\"        \"mediumpurple\"         \"mediumpurple1\"       \n",
       "[469] \"mediumpurple2\"        \"mediumpurple3\"        \"mediumpurple4\"       \n",
       "[472] \"mediumseagreen\"       \"mediumslateblue\"      \"mediumspringgreen\"   \n",
       "[475] \"mediumturquoise\"      \"mediumvioletred\"      \"midnightblue\"        \n",
       "[478] \"mintcream\"            \"mistyrose\"            \"mistyrose1\"          \n",
       "[481] \"mistyrose2\"           \"mistyrose3\"           \"mistyrose4\"          \n",
       "[484] \"moccasin\"             \"navajowhite\"          \"navajowhite1\"        \n",
       "[487] \"navajowhite2\"         \"navajowhite3\"         \"navajowhite4\"        \n",
       "[490] \"navy\"                 \"navyblue\"             \"oldlace\"             \n",
       "[493] \"olivedrab\"            \"olivedrab1\"           \"olivedrab2\"          \n",
       "[496] \"olivedrab3\"           \"olivedrab4\"           \"orange\"              \n",
       "[499] \"orange1\"              \"orange2\"              \"orange3\"             \n",
       "[502] \"orange4\"              \"orangered\"            \"orangered1\"          \n",
       "[505] \"orangered2\"           \"orangered3\"           \"orangered4\"          \n",
       "[508] \"orchid\"               \"orchid1\"              \"orchid2\"             \n",
       "[511] \"orchid3\"              \"orchid4\"              \"palegoldenrod\"       \n",
       "[514] \"palegreen\"            \"palegreen1\"           \"palegreen2\"          \n",
       "[517] \"palegreen3\"           \"palegreen4\"           \"paleturquoise\"       \n",
       "[520] \"paleturquoise1\"       \"paleturquoise2\"       \"paleturquoise3\"      \n",
       "[523] \"paleturquoise4\"       \"palevioletred\"        \"palevioletred1\"      \n",
       "[526] \"palevioletred2\"       \"palevioletred3\"       \"palevioletred4\"      \n",
       "[529] \"papayawhip\"           \"peachpuff\"            \"peachpuff1\"          \n",
       "[532] \"peachpuff2\"           \"peachpuff3\"           \"peachpuff4\"          \n",
       "[535] \"peru\"                 \"pink\"                 \"pink1\"               \n",
       "[538] \"pink2\"                \"pink3\"                \"pink4\"               \n",
       "[541] \"plum\"                 \"plum1\"                \"plum2\"               \n",
       "[544] \"plum3\"                \"plum4\"                \"powderblue\"          \n",
       "[547] \"purple\"               \"purple1\"              \"purple2\"             \n",
       "[550] \"purple3\"              \"purple4\"              \"red\"                 \n",
       "[553] \"red1\"                 \"red2\"                 \"red3\"                \n",
       "[556] \"red4\"                 \"rosybrown\"            \"rosybrown1\"          \n",
       "[559] \"rosybrown2\"           \"rosybrown3\"           \"rosybrown4\"          \n",
       "[562] \"royalblue\"            \"royalblue1\"           \"royalblue2\"          \n",
       "[565] \"royalblue3\"           \"royalblue4\"           \"saddlebrown\"         \n",
       "[568] \"salmon\"               \"salmon1\"              \"salmon2\"             \n",
       "[571] \"salmon3\"              \"salmon4\"              \"sandybrown\"          \n",
       "[574] \"seagreen\"             \"seagreen1\"            \"seagreen2\"           \n",
       "[577] \"seagreen3\"            \"seagreen4\"            \"seashell\"            \n",
       "[580] \"seashell1\"            \"seashell2\"            \"seashell3\"           \n",
       "[583] \"seashell4\"            \"sienna\"               \"sienna1\"             \n",
       "[586] \"sienna2\"              \"sienna3\"              \"sienna4\"             \n",
       "[589] \"skyblue\"              \"skyblue1\"             \"skyblue2\"            \n",
       "[592] \"skyblue3\"             \"skyblue4\"             \"slateblue\"           \n",
       "[595] \"slateblue1\"           \"slateblue2\"           \"slateblue3\"          \n",
       "[598] \"slateblue4\"           \"slategray\"            \"slategray1\"          \n",
       "[601] \"slategray2\"           \"slategray3\"           \"slategray4\"          \n",
       "[604] \"slategrey\"            \"snow\"                 \"snow1\"               \n",
       "[607] \"snow2\"                \"snow3\"                \"snow4\"               \n",
       "[610] \"springgreen\"          \"springgreen1\"         \"springgreen2\"        \n",
       "[613] \"springgreen3\"         \"springgreen4\"         \"steelblue\"           \n",
       "[616] \"steelblue1\"           \"steelblue2\"           \"steelblue3\"          \n",
       "[619] \"steelblue4\"           \"tan\"                  \"tan1\"                \n",
       "[622] \"tan2\"                 \"tan3\"                 \"tan4\"                \n",
       "[625] \"thistle\"              \"thistle1\"             \"thistle2\"            \n",
       "[628] \"thistle3\"             \"thistle4\"             \"tomato\"              \n",
       "[631] \"tomato1\"              \"tomato2\"              \"tomato3\"             \n",
       "[634] \"tomato4\"              \"turquoise\"            \"turquoise1\"          \n",
       "[637] \"turquoise2\"           \"turquoise3\"           \"turquoise4\"          \n",
       "[640] \"violet\"               \"violetred\"            \"violetred1\"          \n",
       "[643] \"violetred2\"           \"violetred3\"           \"violetred4\"          \n",
       "[646] \"wheat\"                \"wheat1\"               \"wheat2\"              \n",
       "[649] \"wheat3\"               \"wheat4\"               \"whitesmoke\"          \n",
       "[652] \"yellow\"               \"yellow1\"              \"yellow2\"             \n",
       "[655] \"yellow3\"              \"yellow4\"              \"yellowgreen\"         "
      ]
     },
     "metadata": {},
     "output_type": "display_data"
    }
   ],
   "source": [
    "# para ter acesso a lista de todas as cores disponíveis no R\n",
    "colors()"
   ]
  },
  {
   "cell_type": "markdown",
   "metadata": {},
   "source": [
    "Quando passamos um inteiro para um parâmetro de cor, o R basicamente pega a cor na posição do inteiro passado dentro dessa lista. (lembrando que a indexação do R começa por 1)"
   ]
  },
  {
   "cell_type": "code",
   "execution_count": 38,
   "metadata": {},
   "outputs": [
    {
     "data": {
      "image/png": "[encoded data removed]",
      "text/plain": [
       "plot without title"
      ]
     },
     "metadata": {},
     "output_type": "display_data"
    }
   ],
   "source": [
    "plot(lynx, ylab=\"Lynx Trappings\", xlab=\"\")"
   ]
  },
  {
   "cell_type": "code",
   "execution_count": 39,
   "metadata": {},
   "outputs": [
    {
     "data": {
      "image/png": "[encoded data removed]",
      "text/plain": [
       "plot without title"
      ]
     },
     "metadata": {},
     "output_type": "display_data"
    }
   ],
   "source": [
    "# O parâmetro las troca a oreintação dos valores marcados nos eixos. Seu valor pode variar de 0 à 3\n",
    "plot(lynx, ylab=\"Lynx Trappings\", xlab=\"\", las=2)"
   ]
  },
  {
   "cell_type": "markdown",
   "metadata": {},
   "source": [
    "### Criando matrizes de plotagem\n",
    "\n",
    "O parâmetro `mfrow` da função `par` recebe um *vector* com as dimensões da matriz de plotagem que queremos desenhar."
   ]
  },
  {
   "cell_type": "code",
   "execution_count": 43,
   "metadata": {},
   "outputs": [
    {
     "data": {
      "image/png": "[encoded data removed]",
      "text/plain": [
       "Plot with title “LAS = 3”"
      ]
     },
     "metadata": {},
     "output_type": "display_data"
    }
   ],
   "source": [
    "# matriz de plotagem 2 x 2 (total de 4 gráficos)\n",
    "# em um programa normal, a configuração do par persiste durante toda a execução,\n",
    "# porém no jupyter isso funciona somente dentro da própria célula em que foi escrito.\n",
    "par(mfrow = c(2,2), col.axis = 'red')\n",
    "\n",
    "plot(1:8, las=0, xlab=\"xlab\", ylab=\"ylab\", main=\"LAS = 0\")\n",
    "plot(1:8, las=1, xlab=\"xlab\", ylab=\"ylab\", main=\"LAS = 1\")\n",
    "plot(1:8, las=2, xlab=\"xlab\", ylab=\"ylab\", main=\"LAS = 2\")\n",
    "plot(1:8, las=3, xlab=\"xlab\", ylab=\"ylab\", main=\"LAS = 3\")"
   ]
  },
  {
   "cell_type": "markdown",
   "metadata": {},
   "source": [
    "###"
   ]
  },
  {
   "cell_type": "markdown",
   "metadata": {},
   "source": [
    "## Instalando Pacotes\n",
    "\n",
    "Quando instalamos pacotes no R ele encontra as dependências necessárias e faz o download delas também. O R conta com pacotes nativos e de terceiros. Para listar os pacotes instalados podemos usar o comando `installed.packages()`"
   ]
  },
  {
   "cell_type": "code",
   "execution_count": 91,
   "metadata": {
    "scrolled": false
   },
   "outputs": [
    {
     "data": {
      "text/html": [
       "<table>\n",
       "<thead><tr><th></th><th scope=col>Package</th><th scope=col>LibPath</th><th scope=col>Version</th><th scope=col>Priority</th><th scope=col>Depends</th><th scope=col>Imports</th><th scope=col>LinkingTo</th><th scope=col>Suggests</th><th scope=col>Enhances</th><th scope=col>License</th><th scope=col>License_is_FOSS</th><th scope=col>License_restricts_use</th><th scope=col>OS_type</th><th scope=col>MD5sum</th><th scope=col>NeedsCompilation</th><th scope=col>Built</th></tr></thead>\n",
       "<tbody>\n",
       "\t<tr><th scope=row>base64enc</th><td>base64enc                                                                                                                                                                                                                                                    </td><td>/home/thalessilva/R/x86_64-pc-linux-gnu-library/3.2                                                                                                                                                                                                          </td><td>0.1-3                                                                                                                                                                                                                                                        </td><td>NA                                                                                                                                                                                                                                                           </td><td>R (&gt;= 2.9.0)                                                                                                                                                                                                                                              </td><td><span style=white-space:pre-wrap>NA                                                                                                                                           </span>                                                                        </td><td>NA                                                                                                                                                                                                                                                           </td><td><span style=white-space:pre-wrap>NA                                                                                                                                                                                                                   </span></td><td>png                                                                                                                                                                                                                                                          </td><td><span style=white-space:pre-wrap>GPL-2 | GPL-3     </span>                                                                                                                                                                                                   </td><td>NA                                                                                                                                                                                                                                                           </td><td>NA                                                                                                                                                                                                                                                           </td><td>NA                                                                                                                                                                                                                                                           </td><td>NA                                                                                                                                                                                                                                                           </td><td>yes                                                                                                                                                                                                                                                          </td><td>3.2.3                                                                                                                                                                                                                                                        </td></tr>\n",
       "\t<tr><th scope=row>crayon</th><td>crayon                                                                                                                                                                                                               </td><td>/home/thalessilva/R/x86_64-pc-linux-gnu-library/3.2                                                                                                                                                                  </td><td>1.3.4                                                                                                                                                                                                                </td><td>NA                                                                                                                                                                                                                   </td><td>NA                                                                                                                                                                                                                   </td><td>grDevices, methods, utils                                                                                                                                                                                            </td><td>NA                                                                                                                                                                                                                   </td><td>mockery, rstudioapi, testthat, withr                                                                                                                                                                                 </td><td>NA                                                                                                                                                                                                                   </td><td>MIT + file LICENSE                                                                                                                                                                                                   </td><td>NA                                                                                                                                                                                                                   </td><td>NA                                                                                                                                                                                                                   </td><td>NA                                                                                                                                                                                                                   </td><td>NA                                                                                                                                                                                                                   </td><td>no                                                                                                                                                                                                                   </td><td>3.2.3                                                                                                                                                                                                                </td></tr>\n",
       "\t<tr><th scope=row>curl</th><td><span style=white-space:pre-wrap>curl     </span>                                                                                                                                                                                                               </td><td>/home/thalessilva/R/x86_64-pc-linux-gnu-library/3.2                                                                                                                                                                                                             </td><td><span style=white-space:pre-wrap>3.2   </span>                                                                                                                                                                                                                  </td><td>NA                                                                                                                                                                                                                                                              </td><td>R (&gt;= 3.0.0)                                                                                                                                                                                                                                                 </td><td><span style=white-space:pre-wrap>NA                                                                                                                                           </span>                                                                           </td><td>NA                                                                                                                                                                                                                                                              </td><td><span style=white-space:pre-wrap>spelling, testthat (&gt;= 1.0.0), knitr, jsonlite, rmarkdown,\n",
       "magrittr, httpuv, webutils                                                                                                                               </span></td><td>NA                                                                                                                                                                                                                                                              </td><td>MIT + file LICENSE                                                                                                                                                                                                                                              </td><td>NA                                                                                                                                                                                                                                                              </td><td>NA                                                                                                                                                                                                                                                              </td><td>NA                                                                                                                                                                                                                                                              </td><td>NA                                                                                                                                                                                                                                                              </td><td>yes                                                                                                                                                                                                                                                             </td><td>3.2.3                                                                                                                                                                                                                                                           </td></tr>\n",
       "\t<tr><th scope=row>devtools</th><td>devtools                                                                                                                                                                                                                                  </td><td>/home/thalessilva/R/x86_64-pc-linux-gnu-library/3.2                                                                                                                                                                                       </td><td>1.13.6                                                                                                                                                                                                                                    </td><td>NA                                                                                                                                                                                                                                        </td><td>R (&gt;= 3.0.2)                                                                                                                                                                                                                           </td><td>httr (&gt;= 0.4), utils, tools, methods, memoise (&gt;= 1.0.0),\n",
       "whisker, digest, rstudioapi (&gt;= 0.2.0), jsonlite, stats, git2r\n",
       "(&gt;= 0.11.0), withr                                                                                 </td><td>NA                                                                                                                                                                                                                                        </td><td>curl (&gt;= 0.9), crayon, testthat (&gt;= 1.0.2), BiocInstaller,\n",
       "Rcpp (&gt;= 0.10.0), MASS, rmarkdown, knitr, hunspell (&gt;= 2.0),\n",
       "lintr (&gt;= 0.2.1), bitops, roxygen2 (&gt;= 5.0.0), evaluate,\n",
       "rversions, covr, gmailr (&gt; 0.7.0)</td><td>NA                                                                                                                                                                                                                                        </td><td><span style=white-space:pre-wrap>GPL (&gt;= 2)        </span>                                                                                                                                                                             </td><td>NA                                                                                                                                                                                                                                        </td><td>NA                                                                                                                                                                                                                                        </td><td>NA                                                                                                                                                                                                                                        </td><td>NA                                                                                                                                                                                                                                        </td><td>no                                                                                                                                                                                                                                        </td><td>3.2.3                                                                                                                                                                                                                                     </td></tr>\n",
       "\t<tr><th scope=row>digest</th><td><span style=white-space:pre-wrap>digest   </span>                                                                                                                                                                                                            </td><td>/home/thalessilva/R/x86_64-pc-linux-gnu-library/3.2                                                                                                                                                                                                          </td><td>0.6.15                                                                                                                                                                                                                                                       </td><td>NA                                                                                                                                                                                                                                                           </td><td>R (&gt;= 2.4.1)                                                                                                                                                                                                                                              </td><td><span style=white-space:pre-wrap>NA                                                                                                                                           </span>                                                                        </td><td>NA                                                                                                                                                                                                                                                           </td><td><span style=white-space:pre-wrap>knitr, rmarkdown                                                                                                                                                                                                     </span></td><td>NA                                                                                                                                                                                                                                                           </td><td><span style=white-space:pre-wrap>GPL (&gt;= 2)        </span>                                                                                                                                                                                                </td><td>NA                                                                                                                                                                                                                                                           </td><td>NA                                                                                                                                                                                                                                                           </td><td>NA                                                                                                                                                                                                                                                           </td><td>NA                                                                                                                                                                                                                                                           </td><td>yes                                                                                                                                                                                                                                                          </td><td>3.2.3                                                                                                                                                                                                                                                        </td></tr>\n",
       "\t<tr><th scope=row>evaluate</th><td>evaluate                                                                                                                                                                                                                                                     </td><td>/home/thalessilva/R/x86_64-pc-linux-gnu-library/3.2                                                                                                                                                                                                          </td><td>0.10.1                                                                                                                                                                                                                                                       </td><td>NA                                                                                                                                                                                                                                                           </td><td>R (&gt;= 3.0.2)                                                                                                                                                                                                                                              </td><td><span style=white-space:pre-wrap>methods, stringr (&gt;= 0.6.2)                                                                                                                  </span>                                                                     </td><td>NA                                                                                                                                                                                                                                                           </td><td><span style=white-space:pre-wrap>testthat, lattice, ggplot2                                                                                                                                                                                           </span></td><td>NA                                                                                                                                                                                                                                                           </td><td>MIT + file LICENSE                                                                                                                                                                                                                                           </td><td>NA                                                                                                                                                                                                                                                           </td><td>NA                                                                                                                                                                                                                                                           </td><td>NA                                                                                                                                                                                                                                                           </td><td>NA                                                                                                                                                                                                                                                           </td><td>no                                                                                                                                                                                                                                                           </td><td>3.2.3                                                                                                                                                                                                                                                        </td></tr>\n",
       "</tbody>\n",
       "</table>\n"
      ],
      "text/latex": [
       "\\begin{tabular}{r|llllllllllllllll}\n",
       "  & Package & LibPath & Version & Priority & Depends & Imports & LinkingTo & Suggests & Enhances & License & License\\_is\\_FOSS & License\\_restricts\\_use & OS\\_type & MD5sum & NeedsCompilation & Built\\\\\n",
       "\\hline\n",
       "\tbase64enc & base64enc                                                                                                                                                                                                             & /home/thalessilva/R/x86\\_64-pc-linux-gnu-library/3.2                                                                                                                                                                 & 0.1-3                                                                                                                                                                                                                 & NA                                                                                                                                                                                                                    & R (>= 2.9.0)                                                                                                                                                                                                          & NA                                                                                                                                                                                                                    & NA                                                                                                                                                                                                                    & NA                                                                                                                                                                                                                    & png                                                                                                                                                                                                                   & GPL-2 \\textbar{} GPL-3                                                                                                                                                                                               & NA                                                                                                                                                                                                                    & NA                                                                                                                                                                                                                    & NA                                                                                                                                                                                                                    & NA                                                                                                                                                                                                                    & yes                                                                                                                                                                                                                   & 3.2.3                                                                                                                                                                                                                \\\\\n",
       "\tcrayon & crayon                                                                                                                                                                                                                & /home/thalessilva/R/x86\\_64-pc-linux-gnu-library/3.2                                                                                                                                                                 & 1.3.4                                                                                                                                                                                                                 & NA                                                                                                                                                                                                                    & NA                                                                                                                                                                                                                    & grDevices, methods, utils                                                                                                                                                                                             & NA                                                                                                                                                                                                                    & mockery, rstudioapi, testthat, withr                                                                                                                                                                                  & NA                                                                                                                                                                                                                    & MIT + file LICENSE                                                                                                                                                                                                    & NA                                                                                                                                                                                                                    & NA                                                                                                                                                                                                                    & NA                                                                                                                                                                                                                    & NA                                                                                                                                                                                                                    & no                                                                                                                                                                                                                    & 3.2.3                                                                                                                                                                                                                \\\\\n",
       "\tcurl & curl                                                                                                                                                                                                                  & /home/thalessilva/R/x86\\_64-pc-linux-gnu-library/3.2                                                                                                                                                                 & 3.2                                                                                                                                                                                                                   & NA                                                                                                                                                                                                                    & R (>= 3.0.0)                                                                                                                                                                                                          & NA                                                                                                                                                                                                                    & NA                                                                                                                                                                                                                    & spelling, testthat (>= 1.0.0), knitr, jsonlite, rmarkdown,\n",
       "magrittr, httpuv, webutils                                                                                                                                & NA                                                                                                                                                                                                                    & MIT + file LICENSE                                                                                                                                                                                                    & NA                                                                                                                                                                                                                    & NA                                                                                                                                                                                                                    & NA                                                                                                                                                                                                                    & NA                                                                                                                                                                                                                    & yes                                                                                                                                                                                                                   & 3.2.3                                                                                                                                                                                                                \\\\\n",
       "\tdevtools & devtools                                                                                                                                                                                                              & /home/thalessilva/R/x86\\_64-pc-linux-gnu-library/3.2                                                                                                                                                                 & 1.13.6                                                                                                                                                                                                                & NA                                                                                                                                                                                                                    & R (>= 3.0.2)                                                                                                                                                                                                          & httr (>= 0.4), utils, tools, methods, memoise (>= 1.0.0),\n",
       "whisker, digest, rstudioapi (>= 0.2.0), jsonlite, stats, git2r\n",
       "(>= 0.11.0), withr                                                                         & NA                                                                                                                                                                                                                    & curl (>= 0.9), crayon, testthat (>= 1.0.2), BiocInstaller,\n",
       "Rcpp (>= 0.10.0), MASS, rmarkdown, knitr, hunspell (>= 2.0),\n",
       "lintr (>= 0.2.1), bitops, roxygen2 (>= 5.0.0), evaluate,\n",
       "rversions, covr, gmailr (> 0.7.0) & NA                                                                                                                                                                                                                    & GPL (>= 2)                                                                                                                                                                                                            & NA                                                                                                                                                                                                                    & NA                                                                                                                                                                                                                    & NA                                                                                                                                                                                                                    & NA                                                                                                                                                                                                                    & no                                                                                                                                                                                                                    & 3.2.3                                                                                                                                                                                                                \\\\\n",
       "\tdigest & digest                                                                                                                                                                                                                & /home/thalessilva/R/x86\\_64-pc-linux-gnu-library/3.2                                                                                                                                                                 & 0.6.15                                                                                                                                                                                                                & NA                                                                                                                                                                                                                    & R (>= 2.4.1)                                                                                                                                                                                                          & NA                                                                                                                                                                                                                    & NA                                                                                                                                                                                                                    & knitr, rmarkdown                                                                                                                                                                                                      & NA                                                                                                                                                                                                                    & GPL (>= 2)                                                                                                                                                                                                            & NA                                                                                                                                                                                                                    & NA                                                                                                                                                                                                                    & NA                                                                                                                                                                                                                    & NA                                                                                                                                                                                                                    & yes                                                                                                                                                                                                                   & 3.2.3                                                                                                                                                                                                                \\\\\n",
       "\tevaluate & evaluate                                                                                                                                                                                                              & /home/thalessilva/R/x86\\_64-pc-linux-gnu-library/3.2                                                                                                                                                                 & 0.10.1                                                                                                                                                                                                                & NA                                                                                                                                                                                                                    & R (>= 3.0.2)                                                                                                                                                                                                          & methods, stringr (>= 0.6.2)                                                                                                                                                                                           & NA                                                                                                                                                                                                                    & testthat, lattice, ggplot2                                                                                                                                                                                            & NA                                                                                                                                                                                                                    & MIT + file LICENSE                                                                                                                                                                                                    & NA                                                                                                                                                                                                                    & NA                                                                                                                                                                                                                    & NA                                                                                                                                                                                                                    & NA                                                                                                                                                                                                                    & no                                                                                                                                                                                                                    & 3.2.3                                                                                                                                                                                                                \\\\\n",
       "\\end{tabular}\n"
      ],
      "text/markdown": [
       "\n",
       "| <!--/--> | Package | LibPath | Version | Priority | Depends | Imports | LinkingTo | Suggests | Enhances | License | License_is_FOSS | License_restricts_use | OS_type | MD5sum | NeedsCompilation | Built | \n",
       "|---|---|---|---|---|---|\n",
       "| base64enc | base64enc                                                                                                                                                                                                             | /home/thalessilva/R/x86_64-pc-linux-gnu-library/3.2                                                                                                                                                                   | 0.1-3                                                                                                                                                                                                                 | NA                                                                                                                                                                                                                    | R (>= 2.9.0)                                                                                                                                                                                                          | NA                                                                                                                                                                                                                    | NA                                                                                                                                                                                                                    | NA                                                                                                                                                                                                                    | png                                                                                                                                                                                                                   | GPL-2 | GPL-3                                                                                                                                                                                                         | NA                                                                                                                                                                                                                    | NA                                                                                                                                                                                                                    | NA                                                                                                                                                                                                                    | NA                                                                                                                                                                                                                    | yes                                                                                                                                                                                                                   | 3.2.3                                                                                                                                                                                                                 | \n",
       "| crayon | crayon                                                                                                                                                                                                                | /home/thalessilva/R/x86_64-pc-linux-gnu-library/3.2                                                                                                                                                                   | 1.3.4                                                                                                                                                                                                                 | NA                                                                                                                                                                                                                    | NA                                                                                                                                                                                                                    | grDevices, methods, utils                                                                                                                                                                                             | NA                                                                                                                                                                                                                    | mockery, rstudioapi, testthat, withr                                                                                                                                                                                  | NA                                                                                                                                                                                                                    | MIT + file LICENSE                                                                                                                                                                                                    | NA                                                                                                                                                                                                                    | NA                                                                                                                                                                                                                    | NA                                                                                                                                                                                                                    | NA                                                                                                                                                                                                                    | no                                                                                                                                                                                                                    | 3.2.3                                                                                                                                                                                                                 | \n",
       "| curl | curl                                                                                                                                                                                                                  | /home/thalessilva/R/x86_64-pc-linux-gnu-library/3.2                                                                                                                                                                   | 3.2                                                                                                                                                                                                                   | NA                                                                                                                                                                                                                    | R (>= 3.0.0)                                                                                                                                                                                                          | NA                                                                                                                                                                                                                    | NA                                                                                                                                                                                                                    | spelling, testthat (>= 1.0.0), knitr, jsonlite, rmarkdown,\n",
       "magrittr, httpuv, webutils                                                                                                                                | NA                                                                                                                                                                                                                    | MIT + file LICENSE                                                                                                                                                                                                    | NA                                                                                                                                                                                                                    | NA                                                                                                                                                                                                                    | NA                                                                                                                                                                                                                    | NA                                                                                                                                                                                                                    | yes                                                                                                                                                                                                                   | 3.2.3                                                                                                                                                                                                                 | \n",
       "| devtools | devtools                                                                                                                                                                                                              | /home/thalessilva/R/x86_64-pc-linux-gnu-library/3.2                                                                                                                                                                   | 1.13.6                                                                                                                                                                                                                | NA                                                                                                                                                                                                                    | R (>= 3.0.2)                                                                                                                                                                                                          | httr (>= 0.4), utils, tools, methods, memoise (>= 1.0.0),\n",
       "whisker, digest, rstudioapi (>= 0.2.0), jsonlite, stats, git2r\n",
       "(>= 0.11.0), withr                                                                         | NA                                                                                                                                                                                                                    | curl (>= 0.9), crayon, testthat (>= 1.0.2), BiocInstaller,\n",
       "Rcpp (>= 0.10.0), MASS, rmarkdown, knitr, hunspell (>= 2.0),\n",
       "lintr (>= 0.2.1), bitops, roxygen2 (>= 5.0.0), evaluate,\n",
       "rversions, covr, gmailr (> 0.7.0) | NA                                                                                                                                                                                                                    | GPL (>= 2)                                                                                                                                                                                                            | NA                                                                                                                                                                                                                    | NA                                                                                                                                                                                                                    | NA                                                                                                                                                                                                                    | NA                                                                                                                                                                                                                    | no                                                                                                                                                                                                                    | 3.2.3                                                                                                                                                                                                                 | \n",
       "| digest | digest                                                                                                                                                                                                                | /home/thalessilva/R/x86_64-pc-linux-gnu-library/3.2                                                                                                                                                                   | 0.6.15                                                                                                                                                                                                                | NA                                                                                                                                                                                                                    | R (>= 2.4.1)                                                                                                                                                                                                          | NA                                                                                                                                                                                                                    | NA                                                                                                                                                                                                                    | knitr, rmarkdown                                                                                                                                                                                                      | NA                                                                                                                                                                                                                    | GPL (>= 2)                                                                                                                                                                                                            | NA                                                                                                                                                                                                                    | NA                                                                                                                                                                                                                    | NA                                                                                                                                                                                                                    | NA                                                                                                                                                                                                                    | yes                                                                                                                                                                                                                   | 3.2.3                                                                                                                                                                                                                 | \n",
       "| evaluate | evaluate                                                                                                                                                                                                              | /home/thalessilva/R/x86_64-pc-linux-gnu-library/3.2                                                                                                                                                                   | 0.10.1                                                                                                                                                                                                                | NA                                                                                                                                                                                                                    | R (>= 3.0.2)                                                                                                                                                                                                          | methods, stringr (>= 0.6.2)                                                                                                                                                                                           | NA                                                                                                                                                                                                                    | testthat, lattice, ggplot2                                                                                                                                                                                            | NA                                                                                                                                                                                                                    | MIT + file LICENSE                                                                                                                                                                                                    | NA                                                                                                                                                                                                                    | NA                                                                                                                                                                                                                    | NA                                                                                                                                                                                                                    | NA                                                                                                                                                                                                                    | no                                                                                                                                                                                                                    | 3.2.3                                                                                                                                                                                                                 | \n",
       "\n",
       "\n"
      ],
      "text/plain": [
       "          Package   LibPath                                             Version\n",
       "base64enc base64enc /home/thalessilva/R/x86_64-pc-linux-gnu-library/3.2 0.1-3  \n",
       "crayon    crayon    /home/thalessilva/R/x86_64-pc-linux-gnu-library/3.2 1.3.4  \n",
       "curl      curl      /home/thalessilva/R/x86_64-pc-linux-gnu-library/3.2 3.2    \n",
       "devtools  devtools  /home/thalessilva/R/x86_64-pc-linux-gnu-library/3.2 1.13.6 \n",
       "digest    digest    /home/thalessilva/R/x86_64-pc-linux-gnu-library/3.2 0.6.15 \n",
       "evaluate  evaluate  /home/thalessilva/R/x86_64-pc-linux-gnu-library/3.2 0.10.1 \n",
       "          Priority Depends     \n",
       "base64enc NA       R (>= 2.9.0)\n",
       "crayon    NA       NA          \n",
       "curl      NA       R (>= 3.0.0)\n",
       "devtools  NA       R (>= 3.0.2)\n",
       "digest    NA       R (>= 2.4.1)\n",
       "evaluate  NA       R (>= 3.0.2)\n",
       "          Imports                                                                                                                                      \n",
       "base64enc NA                                                                                                                                           \n",
       "crayon    grDevices, methods, utils                                                                                                                    \n",
       "curl      NA                                                                                                                                           \n",
       "devtools  httr (>= 0.4), utils, tools, methods, memoise (>= 1.0.0),\\nwhisker, digest, rstudioapi (>= 0.2.0), jsonlite, stats, git2r\\n(>= 0.11.0), withr\n",
       "digest    NA                                                                                                                                           \n",
       "evaluate  methods, stringr (>= 0.6.2)                                                                                                                  \n",
       "          LinkingTo\n",
       "base64enc NA       \n",
       "crayon    NA       \n",
       "curl      NA       \n",
       "devtools  NA       \n",
       "digest    NA       \n",
       "evaluate  NA       \n",
       "          Suggests                                                                                                                                                                                                             \n",
       "base64enc NA                                                                                                                                                                                                                   \n",
       "crayon    mockery, rstudioapi, testthat, withr                                                                                                                                                                                 \n",
       "curl      spelling, testthat (>= 1.0.0), knitr, jsonlite, rmarkdown,\\nmagrittr, httpuv, webutils                                                                                                                               \n",
       "devtools  curl (>= 0.9), crayon, testthat (>= 1.0.2), BiocInstaller,\\nRcpp (>= 0.10.0), MASS, rmarkdown, knitr, hunspell (>= 2.0),\\nlintr (>= 0.2.1), bitops, roxygen2 (>= 5.0.0), evaluate,\\nrversions, covr, gmailr (> 0.7.0)\n",
       "digest    knitr, rmarkdown                                                                                                                                                                                                     \n",
       "evaluate  testthat, lattice, ggplot2                                                                                                                                                                                           \n",
       "          Enhances License            License_is_FOSS License_restricts_use\n",
       "base64enc png      GPL-2 | GPL-3      NA              NA                   \n",
       "crayon    NA       MIT + file LICENSE NA              NA                   \n",
       "curl      NA       MIT + file LICENSE NA              NA                   \n",
       "devtools  NA       GPL (>= 2)         NA              NA                   \n",
       "digest    NA       GPL (>= 2)         NA              NA                   \n",
       "evaluate  NA       MIT + file LICENSE NA              NA                   \n",
       "          OS_type MD5sum NeedsCompilation Built\n",
       "base64enc NA      NA     yes              3.2.3\n",
       "crayon    NA      NA     no               3.2.3\n",
       "curl      NA      NA     yes              3.2.3\n",
       "devtools  NA      NA     no               3.2.3\n",
       "digest    NA      NA     yes              3.2.3\n",
       "evaluate  NA      NA     no               3.2.3"
      ]
     },
     "metadata": {},
     "output_type": "display_data"
    }
   ],
   "source": [
    "head(installed.packages())"
   ]
  },
  {
   "cell_type": "code",
   "execution_count": 93,
   "metadata": {},
   "outputs": [
    {
     "name": "stderr",
     "output_type": "stream",
     "text": [
      "Installing package into ‘/home/thalessilva/R/x86_64-pc-linux-gnu-library/3.2’\n",
      "(as ‘lib’ is unspecified)\n"
     ]
    },
    {
     "name": "stdout",
     "output_type": "stream",
     "text": [
      "\n",
      "The downloaded source packages are in\n",
      "\t‘/tmp/Rtmp59C4AS/downloaded_packages’\n"
     ]
    }
   ],
   "source": [
    "# para instalar um novo pacote podemos rodar o comando\n",
    "install.packages(\"tabuSearch\")"
   ]
  },
  {
   "cell_type": "code",
   "execution_count": 2,
   "metadata": {},
   "outputs": [],
   "source": [
    "# para começar a usar uma biblioteca no código precisamos inicializa-la (após conferir que a mesma está instalada)\n",
    "library(tabuSearch)"
   ]
  },
  {
   "cell_type": "code",
   "execution_count": 3,
   "metadata": {},
   "outputs": [],
   "source": [
    "# o mesmo pode ser alcançado através do require\n",
    "require(tabuSearch)"
   ]
  },
  {
   "cell_type": "code",
   "execution_count": 2,
   "metadata": {},
   "outputs": [
    {
     "data": {
      "text/plain": [
       "               _                           \n",
       "platform       x86_64-pc-linux-gnu         \n",
       "arch           x86_64                      \n",
       "os             linux-gnu                   \n",
       "system         x86_64, linux-gnu           \n",
       "status                                     \n",
       "major          3                           \n",
       "minor          2.3                         \n",
       "year           2015                        \n",
       "month          12                          \n",
       "day            10                          \n",
       "svn rev        69752                       \n",
       "language       R                           \n",
       "version.string R version 3.2.3 (2015-12-10)\n",
       "nickname       Wooden Christmas-Tree       "
      ]
     },
     "metadata": {},
     "output_type": "display_data"
    }
   ],
   "source": [
    "# chacando a versão do R\n",
    "version"
   ]
  },
  {
   "cell_type": "markdown",
   "metadata": {},
   "source": [
    "# Inteligência Artificial Forte x Fraca\n",
    "\n",
    "Uma IA pode ser classificada como **forte** ou **fraca** de acordo com certas características quando comparadas com a inteligência humana segundo John Searle:\n",
    "\n",
    "## IA Forte\n",
    "\n",
    "São inteligências ainda muito discutidas como utópicas e que ainda geram muitas discussões filosóficas e filmes de ficção científica. Esta IA, teoricamente, seria capaz de imitar um ser humano em sua totalidade (ou quase isso) podendo sentir, se expressar e até se rebelar.\n",
    "\n",
    "## IA Fraca\n",
    "\n",
    "São aplicações que simulam algumas das características humanas e resolvem problemas específicos. Este tipo de IA já é uma realidade e vem evoluindo cada vez mais sua aplicação, como carros autônomos, reconhecimento de textos manuscritos, etc.\n",
    "\n",
    "# Testes de Inteligência Computacional\n",
    "\n",
    "Testes clássicos propostos na história da computação para estudos de inteligência artificial.\n",
    "\n",
    "## Teste de Turing\n",
    "\n",
    "Serve para testar se um computador **é de fato inteligente ou não**. Esse teste não *mede* a inteligência do mesmo.\n",
    "\n",
    "O teste é feito com 3 agentes: 1 *computador* e 2 humanos, sendo um dos humanos o juiz. Os três agentes ficam isolados uns dos outros e o humano juiz começa a interagir com o computador e o outro humano um de cada vez. Se o juiz não conseguir distinguir com quem ele está interagindo, o computador é considerado *inteligente*.\n",
    "\n",
    "## Quarto Chinês\n",
    "\n",
    "Trata-se de uma experiência proposta por John Searle, onde em um quarto há uma pessoa que recebe mensagens de fora através de um papel passado por uma fresta. A pessoa no quarto tem com ela uma biblioteca e pode consultar o que fazer com as mensagens recebidas para responder apropriadamente. Uma vez elaborada a resposta, ela devolve uma mensagem num papel pela mesma fresta de onde recebeu a externa.\n",
    "\n",
    "Digamos então que as mensagens enviadas para dentro do quarto estão em chinês. E que as mensagens de resposta que saem de dentro dele também assim estejam. Para todos os agentes de fora pode parecer que quem está lá dentro sabe o idioma, mas na verdade a pessoa dentro do quarto só está seguindo instruções de sua biblioteca.\n",
    "\n",
    "Essa pessoa de dentro do quarto pode então ser comparada a um computador, que é capaz de seguir regras muito bem, porém nunca de fato saberá chinês.\n",
    "\n",
    "# Algoritmos\n",
    "\n",
    "## Tabu Search\n",
    "\n",
    "Baseia-se em evitar \"tabus\" para o algoritmo. *Tabus* são estados \"proibidos\" que o algoritmo mapeia e evita a fim de melhorar um desgaste computacional.\n",
    "\n",
    "### Problema da Loja 711\n",
    "\n",
    "A fim de descobrir quais itens da loja um cliente está querendo devolver, o caixa de uma loja pode acessar somente o histórico de valor total de vendas disposto de duas formas:\n",
    "\n",
    "- multiplicação dos valores;\n",
    "- soma dos valores.\n",
    "\n",
    "Porém ao conferir, ambas as operações sobre os valores dos itens resolvidos resultaram em *R\\$ 7,11*. Precisamos então descobrir quais itens que têm valores que ao somarmos ou multiplicarmos chegamos ao total de *7,11*. Para isso temos acesso a lista de 12 itens à venda na loja:\n",
    "\n",
    "- Blusa: R\\$ 1,10;\n",
    "- Camisa: R\\$ 1,20;\n",
    "- Calça: R\\$ 1,25;\n",
    "- Casaco: R\\$ 1,41;\n",
    "- Blusão: R\\$ 1,50;\n",
    "- Jeans: R\\$ 1,63;\n",
    "- Jaqueta: R\\$ 2,05;\n",
    "- Macacão: R\\$ 2,22;\n",
    "- Saia: R\\$ 2,65;\n",
    "- Saruel: R\\$ 2,90;\n",
    "- Short: R\\$ 3,04;\n",
    "- Suéter: R\\$ 3,16.\n",
    "\n",
    "**NOTA:** Não sabemos a quantidade de itens devolvidos."
   ]
  },
  {
   "cell_type": "code",
   "execution_count": null,
   "metadata": {},
   "outputs": [],
   "source": [
    "valores = c(1.1)"
   ]
  },
  {
   "cell_type": "markdown",
   "metadata": {},
   "source": [
    "## Simulated Annealing (Arrefecimento Simulado)\n",
    "\n",
    "Baseia-se no processo de temperar aço, onde é necessario aquecer e resfriar o mesmo várias vezes para que se torne mais resistente (temperado). Existe um estado imposto ao problema que se denomina *\"temperatura\"*. Ele é alterado dinamicamente a cada execução do laço princiapl do algoritmo. Com a *temperatura* **alta** o algoritmo foca na exploração total do seu conjunto universo, podendo inclusive aceitar um novo estado que não melhore ou piore sua função objetivo. Com a *temperatura* **baixa** o algoritmo para de explorar e converge para a próxima solução local que encontrar."
   ]
  },
  {
   "cell_type": "code",
   "execution_count": null,
   "metadata": {},
   "outputs": [],
   "source": []
  }
 ],
 "metadata": {
  "kernelspec": {
   "display_name": "R",
   "language": "R",
   "name": "ir"
  },
  "language_info": {
   "codemirror_mode": "r",
   "file_extension": ".r",
   "mimetype": "text/x-r-source",
   "name": "R",
   "pygments_lexer": "r",
   "version": "3.2.3"
  }
 },
 "nbformat": 4,
 "nbformat_minor": 2
}
